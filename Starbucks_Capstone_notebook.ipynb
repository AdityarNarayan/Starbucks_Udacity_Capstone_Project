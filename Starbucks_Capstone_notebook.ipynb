{
 "cells": [
  {
   "cell_type": "markdown",
   "metadata": {},
   "source": [
    "# Starbucks Capstone Challenge\n",
    "\n",
    "### Introduction\n",
    "\n",
    "This data set contains simulated data that mimics customer behavior on the Starbucks rewards mobile app. Once every few days, Starbucks sends out an offer to users of the mobile app. An offer can be merely an advertisement for a drink or an actual offer such as a discount or BOGO (buy one get one free). Some users might not receive any offer during certain weeks. \n",
    "\n",
    "Not all users receive the same offer, and that is the challenge to solve with this data set.\n",
    "\n",
    "Your task is to combine transaction, demographic and offer data to determine which demographic groups respond best to which offer type. This data set is a simplified version of the real Starbucks app because the underlying simulator only has one product whereas Starbucks actually sells dozens of products.\n",
    "\n",
    "Every offer has a validity period before the offer expires. As an example, a BOGO offer might be valid for only 5 days. You'll see in the data set that informational offers have a validity period even though these ads are merely providing information about a product; for example, if an informational offer has 7 days of validity, you can assume the customer is feeling the influence of the offer for 7 days after receiving the advertisement.\n",
    "\n",
    "You'll be given transactional data showing user purchases made on the app including the timestamp of purchase and the amount of money spent on a purchase. This transactional data also has a record for each offer that a user receives as well as a record for when a user actually views the offer. There are also records for when a user completes an offer. \n",
    "\n",
    "Keep in mind as well that someone using the app might make a purchase through the app without having received an offer or seen an offer.\n",
    "\n",
    "### Example\n",
    "\n",
    "To give an example, a user could receive a discount offer buy 10 dollars get 2 off on Monday. The offer is valid for 10 days from receipt. If the customer accumulates at least 10 dollars in purchases during the validity period, the customer completes the offer.\n",
    "\n",
    "However, there are a few things to watch out for in this data set. Customers do not opt into the offers that they receive; in other words, a user can receive an offer, never actually view the offer, and still complete the offer. For example, a user might receive the \"buy 10 dollars get 2 dollars off offer\", but the user never opens the offer during the 10 day validity period. The customer spends 15 dollars during those ten days. There will be an offer completion record in the data set; however, the customer was not influenced by the offer because the customer never viewed the offer.\n",
    "\n",
    "### Cleaning\n",
    "\n",
    "This makes data cleaning especially important and tricky.\n",
    "\n",
    "You'll also want to take into account that some demographic groups will make purchases even if they don't receive an offer. From a business perspective, if a customer is going to make a 10 dollar purchase without an offer anyway, you wouldn't want to send a buy 10 dollars get 2 dollars off offer. You'll want to try to assess what a certain demographic group will buy when not receiving any offers.\n",
    "\n",
    "### Final Advice\n",
    "\n",
    "Because this is a capstone project, you are free to analyze the data any way you see fit. For example, you could build a machine learning model that predicts how much someone will spend based on demographics and offer type. Or you could build a model that predicts whether or not someone will respond to an offer. Or, you don't need to build a machine learning model at all. You could develop a set of heuristics that determine what offer you should send to each customer (i.e., 75 percent of women customers who were 35 years old responded to offer A vs 40 percent from the same demographic to offer B, so send offer A)."
   ]
  },
  {
   "cell_type": "markdown",
   "metadata": {},
   "source": [
    "# Data Sets\n",
    "\n",
    "The data is contained in three files:\n",
    "\n",
    "* portfolio.json - containing offer ids and meta data about each offer (duration, type, etc.)\n",
    "* profile.json - demographic data for each customer\n",
    "* transcript.json - records for transactions, offers received, offers viewed, and offers completed\n",
    "\n",
    "Here is the schema and explanation of each variable in the files:\n",
    "\n",
    "**portfolio.json**\n",
    "* id (string) - offer id\n",
    "* offer_type (string) - type of offer ie BOGO, discount, informational\n",
    "* difficulty (int) - minimum required spend to complete an offer\n",
    "* reward (int) - reward given for completing an offer\n",
    "* duration (int) - time for offer to be open, in days\n",
    "* channels (list of strings)\n",
    "\n",
    "**profile.json**\n",
    "* age (int) - age of the customer \n",
    "* became_member_on (int) - date when customer created an app account\n",
    "* gender (str) - gender of the customer (note some entries contain 'O' for other rather than M or F)\n",
    "* id (str) - customer id\n",
    "* income (float) - customer's income\n",
    "\n",
    "**transcript.json**\n",
    "* event (str) - record description (ie transaction, offer received, offer viewed, etc.)\n",
    "* person (str) - customer id\n",
    "* time (int) - time in hours since start of test. The data begins at time t=0\n",
    "* value - (dict of strings) - either an offer id or transaction amount depending on the record\n",
    "\n",
    "**Note:** If you are using the workspace, you will need to go to the terminal and run the command `conda update pandas` before reading in the files. This is because the version of pandas in the workspace cannot read in the transcript.json file correctly, but the newest version of pandas can. You can access the termnal from the orange icon in the top left of this notebook.  \n",
    "\n",
    "You can see how to access the terminal and how the install works using the two images below.  First you need to access the terminal:\n",
    "\n",
    "<img src=\"pic1.png\"/>\n",
    "\n",
    "Then you will want to run the above command:\n",
    "\n",
    "<img src=\"pic2.png\"/>\n",
    "\n",
    "Finally, when you enter back into the notebook (use the jupyter icon again), you should be able to run the below cell without any errors."
   ]
  },
  {
   "cell_type": "markdown",
   "metadata": {},
   "source": [
    "## 1. Business Understanding\n",
    "\n",
    "### Problem Statement\n",
    "\n",
    "Befor we go deep into data, lets first understand what we are going to do in this project. \n",
    "As stated in the Introduction Part we are basically aiming to to answer two questions:\n",
    "1. Discover the main drivers of offer effectiveness.\n",
    "2. Explore if we can predict whether a user would take up an offer.\n",
    "\n",
    "### Data Analysis and Modelling\n",
    "\n",
    "We will discover the main drivers of effectiveness in **Data Analysis** part of this project and we will address the seccond point in **Modelling part**.\n",
    "\n",
    "In **Data Anlysis** part we will do some analysis on startbuck customer on boarding trend, which age groups do more transactions in starbuck, income analysis of customer and gender based analysis of starbuck customers.\n",
    "\n",
    "in **Feature Engineering** we will engineer our features of data so that it can be able to fit in our machine learning model.\n",
    "\n",
    "We are going to use **Logistic Regression,Random Forest and XGBoost** machine learning models to predict whether a customer is going to avail the offer or not.\n",
    "\n",
    "### Metrics\n",
    "\n",
    "We are using two metrics to asses our models one is accuracy score and another is f1- score\n",
    "\n",
    "Accuracy is a common metric for binary classifier. It takes into account both true positive and true negatives with equal weight.\n",
    "\n",
    "      accuracy= (true_positive + True_Negative) / (Dataset_size)\n",
    "\n",
    "F₁ score is a measure of a test's accuracy. It considers both the precision p and the recall r of the test to compute the score.\n",
    "\n",
    "      f1score= 2x((precision*recall)/(precision+recall))\n",
    " \n",
    "For calculating these metrics we are using scikit learn library."
   ]
  },
  {
   "cell_type": "code",
   "execution_count": 1,
   "metadata": {},
   "outputs": [],
   "source": [
    "'''\n",
    "Note: Install Progressbar2 and XGBoost in your terminal to run the below code without any errors\n",
    "To install XGBoost run this code in terminal \"conda install -c conda-forge xgboost\"\n",
    "\n",
    "'''\n",
    "\n",
    "import pandas as pd\n",
    "import numpy as np\n",
    "import math\n",
    "import json\n",
    "import seaborn as sns\n",
    "import progressbar\n",
    "import re\n",
    "\n",
    "from xgboost import XGBClassifier\n",
    "from sklearn.metrics import confusion_matrix\n",
    "from sklearn.model_selection import train_test_split\n",
    "from sklearn.linear_model import LogisticRegression\n",
    "from sklearn.ensemble import GradientBoostingClassifier, RandomForestClassifier\n",
    "from sklearn.metrics import accuracy_score, f1_score\n",
    "from sklearn.metrics import fbeta_score, make_scorer\n",
    "from sklearn.model_selection import GridSearchCV, RandomizedSearchCV\n",
    "from time import time\n",
    "import matplotlib.pyplot as plt\n",
    "\n",
    "% matplotlib inline\n",
    "\n",
    "# read in the json files\n",
    "portfolio = pd.read_json('data/portfolio.json', orient='records', lines=True)\n",
    "profile = pd.read_json('data/profile.json', orient='records', lines=True)\n",
    "transcript = pd.read_json('data/transcript.json', orient='records', lines=True)"
   ]
  },
  {
   "cell_type": "markdown",
   "metadata": {},
   "source": [
    "## 2. Data Understanding\n",
    "\n",
    "Lets understand and explore the data one by one."
   ]
  },
  {
   "cell_type": "markdown",
   "metadata": {},
   "source": [
    "### 2.1 Portfolio Data\n",
    "\n",
    "This is the schema for portfolio data.\n",
    "* id (string) - offer id\n",
    "* offer_type (string) - type of offer ie BOGO, discount, informational\n",
    "* difficulty (int) - minimum required spend to complete an offer\n",
    "* reward (int) - reward given for completing an offer\n",
    "* duration (int) - time for offer to be open, in days\n",
    "* channels (list of strings)"
   ]
  },
  {
   "cell_type": "code",
   "execution_count": 2,
   "metadata": {},
   "outputs": [
    {
     "data": {
      "text/html": [
       "<div>\n",
       "<style scoped>\n",
       "    .dataframe tbody tr th:only-of-type {\n",
       "        vertical-align: middle;\n",
       "    }\n",
       "\n",
       "    .dataframe tbody tr th {\n",
       "        vertical-align: top;\n",
       "    }\n",
       "\n",
       "    .dataframe thead th {\n",
       "        text-align: right;\n",
       "    }\n",
       "</style>\n",
       "<table border=\"1\" class=\"dataframe\">\n",
       "  <thead>\n",
       "    <tr style=\"text-align: right;\">\n",
       "      <th></th>\n",
       "      <th>channels</th>\n",
       "      <th>difficulty</th>\n",
       "      <th>duration</th>\n",
       "      <th>id</th>\n",
       "      <th>offer_type</th>\n",
       "      <th>reward</th>\n",
       "    </tr>\n",
       "  </thead>\n",
       "  <tbody>\n",
       "    <tr>\n",
       "      <th>0</th>\n",
       "      <td>[email, mobile, social]</td>\n",
       "      <td>10</td>\n",
       "      <td>7</td>\n",
       "      <td>ae264e3637204a6fb9bb56bc8210ddfd</td>\n",
       "      <td>bogo</td>\n",
       "      <td>10</td>\n",
       "    </tr>\n",
       "    <tr>\n",
       "      <th>1</th>\n",
       "      <td>[web, email, mobile, social]</td>\n",
       "      <td>10</td>\n",
       "      <td>5</td>\n",
       "      <td>4d5c57ea9a6940dd891ad53e9dbe8da0</td>\n",
       "      <td>bogo</td>\n",
       "      <td>10</td>\n",
       "    </tr>\n",
       "    <tr>\n",
       "      <th>2</th>\n",
       "      <td>[web, email, mobile]</td>\n",
       "      <td>0</td>\n",
       "      <td>4</td>\n",
       "      <td>3f207df678b143eea3cee63160fa8bed</td>\n",
       "      <td>informational</td>\n",
       "      <td>0</td>\n",
       "    </tr>\n",
       "    <tr>\n",
       "      <th>3</th>\n",
       "      <td>[web, email, mobile]</td>\n",
       "      <td>5</td>\n",
       "      <td>7</td>\n",
       "      <td>9b98b8c7a33c4b65b9aebfe6a799e6d9</td>\n",
       "      <td>bogo</td>\n",
       "      <td>5</td>\n",
       "    </tr>\n",
       "    <tr>\n",
       "      <th>4</th>\n",
       "      <td>[web, email]</td>\n",
       "      <td>20</td>\n",
       "      <td>10</td>\n",
       "      <td>0b1e1539f2cc45b7b9fa7c272da2e1d7</td>\n",
       "      <td>discount</td>\n",
       "      <td>5</td>\n",
       "    </tr>\n",
       "    <tr>\n",
       "      <th>5</th>\n",
       "      <td>[web, email, mobile, social]</td>\n",
       "      <td>7</td>\n",
       "      <td>7</td>\n",
       "      <td>2298d6c36e964ae4a3e7e9706d1fb8c2</td>\n",
       "      <td>discount</td>\n",
       "      <td>3</td>\n",
       "    </tr>\n",
       "    <tr>\n",
       "      <th>6</th>\n",
       "      <td>[web, email, mobile, social]</td>\n",
       "      <td>10</td>\n",
       "      <td>10</td>\n",
       "      <td>fafdcd668e3743c1bb461111dcafc2a4</td>\n",
       "      <td>discount</td>\n",
       "      <td>2</td>\n",
       "    </tr>\n",
       "    <tr>\n",
       "      <th>7</th>\n",
       "      <td>[email, mobile, social]</td>\n",
       "      <td>0</td>\n",
       "      <td>3</td>\n",
       "      <td>5a8bc65990b245e5a138643cd4eb9837</td>\n",
       "      <td>informational</td>\n",
       "      <td>0</td>\n",
       "    </tr>\n",
       "    <tr>\n",
       "      <th>8</th>\n",
       "      <td>[web, email, mobile, social]</td>\n",
       "      <td>5</td>\n",
       "      <td>5</td>\n",
       "      <td>f19421c1d4aa40978ebb69ca19b0e20d</td>\n",
       "      <td>bogo</td>\n",
       "      <td>5</td>\n",
       "    </tr>\n",
       "    <tr>\n",
       "      <th>9</th>\n",
       "      <td>[web, email, mobile]</td>\n",
       "      <td>10</td>\n",
       "      <td>7</td>\n",
       "      <td>2906b810c7d4411798c6938adc9daaa5</td>\n",
       "      <td>discount</td>\n",
       "      <td>2</td>\n",
       "    </tr>\n",
       "  </tbody>\n",
       "</table>\n",
       "</div>"
      ],
      "text/plain": [
       "                       channels  difficulty  duration  \\\n",
       "0       [email, mobile, social]          10         7   \n",
       "1  [web, email, mobile, social]          10         5   \n",
       "2          [web, email, mobile]           0         4   \n",
       "3          [web, email, mobile]           5         7   \n",
       "4                  [web, email]          20        10   \n",
       "5  [web, email, mobile, social]           7         7   \n",
       "6  [web, email, mobile, social]          10        10   \n",
       "7       [email, mobile, social]           0         3   \n",
       "8  [web, email, mobile, social]           5         5   \n",
       "9          [web, email, mobile]          10         7   \n",
       "\n",
       "                                 id     offer_type  reward  \n",
       "0  ae264e3637204a6fb9bb56bc8210ddfd           bogo      10  \n",
       "1  4d5c57ea9a6940dd891ad53e9dbe8da0           bogo      10  \n",
       "2  3f207df678b143eea3cee63160fa8bed  informational       0  \n",
       "3  9b98b8c7a33c4b65b9aebfe6a799e6d9           bogo       5  \n",
       "4  0b1e1539f2cc45b7b9fa7c272da2e1d7       discount       5  \n",
       "5  2298d6c36e964ae4a3e7e9706d1fb8c2       discount       3  \n",
       "6  fafdcd668e3743c1bb461111dcafc2a4       discount       2  \n",
       "7  5a8bc65990b245e5a138643cd4eb9837  informational       0  \n",
       "8  f19421c1d4aa40978ebb69ca19b0e20d           bogo       5  \n",
       "9  2906b810c7d4411798c6938adc9daaa5       discount       2  "
      ]
     },
     "execution_count": 2,
     "metadata": {},
     "output_type": "execute_result"
    }
   ],
   "source": [
    "#First five rows of portfolio\n",
    "portfolio"
   ]
  },
  {
   "cell_type": "markdown",
   "metadata": {},
   "source": [
    "So, portfolio is having 10 unique offers. Also, as we can observe channels column consist of nested list. Hence, we need to change into categorical variable. That we will do later in data processing part. Also, there is a quantative difference in columns for example difficulty is in dollar and durations is in days. Hence we need to do some featue scaling later."
   ]
  },
  {
   "cell_type": "code",
   "execution_count": 3,
   "metadata": {},
   "outputs": [
    {
     "name": "stdout",
     "output_type": "stream",
     "text": [
      "<class 'pandas.core.frame.DataFrame'>\n",
      "RangeIndex: 10 entries, 0 to 9\n",
      "Data columns (total 6 columns):\n",
      "channels      10 non-null object\n",
      "difficulty    10 non-null int64\n",
      "duration      10 non-null int64\n",
      "id            10 non-null object\n",
      "offer_type    10 non-null object\n",
      "reward        10 non-null int64\n",
      "dtypes: int64(3), object(3)\n",
      "memory usage: 560.0+ bytes\n"
     ]
    }
   ],
   "source": [
    "portfolio.info()"
   ]
  },
  {
   "cell_type": "code",
   "execution_count": 4,
   "metadata": {},
   "outputs": [
    {
     "data": {
      "text/plain": [
       "offer_type\n",
       "bogo             4\n",
       "discount         4\n",
       "informational    2\n",
       "Name: id, dtype: int64"
      ]
     },
     "execution_count": 4,
     "metadata": {},
     "output_type": "execute_result"
    }
   ],
   "source": [
    "#Types of offer available to users\n",
    "portfolio.groupby('offer_type')['id'].count()"
   ]
  },
  {
   "cell_type": "markdown",
   "metadata": {},
   "source": [
    "We can see above there are 4 types of bogo offers, 4 types of discount and 2 types of informational but all offer is having a unique offer id. Our primary focus is going to be on bogo and discount since, informational is having only two type and there is a less chance that customer would respond to this offer."
   ]
  },
  {
   "cell_type": "markdown",
   "metadata": {},
   "source": [
    "### 2.2 Profile Data\n",
    "\n",
    "This is the schema for porofile data.\n",
    "\n",
    "* 0age (int) - age of the customer\n",
    "* became_member_on (int) - date when customer created an app account\n",
    "* gender (str) - gender of the customer (note some entries contain 'O' for other rather than M or F)\n",
    "* id (str) - customer id\n",
    "* income (float) - customer's income"
   ]
  },
  {
   "cell_type": "code",
   "execution_count": 5,
   "metadata": {},
   "outputs": [
    {
     "data": {
      "text/html": [
       "<div>\n",
       "<style scoped>\n",
       "    .dataframe tbody tr th:only-of-type {\n",
       "        vertical-align: middle;\n",
       "    }\n",
       "\n",
       "    .dataframe tbody tr th {\n",
       "        vertical-align: top;\n",
       "    }\n",
       "\n",
       "    .dataframe thead th {\n",
       "        text-align: right;\n",
       "    }\n",
       "</style>\n",
       "<table border=\"1\" class=\"dataframe\">\n",
       "  <thead>\n",
       "    <tr style=\"text-align: right;\">\n",
       "      <th></th>\n",
       "      <th>age</th>\n",
       "      <th>became_member_on</th>\n",
       "      <th>gender</th>\n",
       "      <th>id</th>\n",
       "      <th>income</th>\n",
       "    </tr>\n",
       "  </thead>\n",
       "  <tbody>\n",
       "    <tr>\n",
       "      <th>0</th>\n",
       "      <td>118</td>\n",
       "      <td>20170212</td>\n",
       "      <td>None</td>\n",
       "      <td>68be06ca386d4c31939f3a4f0e3dd783</td>\n",
       "      <td>NaN</td>\n",
       "    </tr>\n",
       "    <tr>\n",
       "      <th>1</th>\n",
       "      <td>55</td>\n",
       "      <td>20170715</td>\n",
       "      <td>F</td>\n",
       "      <td>0610b486422d4921ae7d2bf64640c50b</td>\n",
       "      <td>112000.0</td>\n",
       "    </tr>\n",
       "    <tr>\n",
       "      <th>2</th>\n",
       "      <td>118</td>\n",
       "      <td>20180712</td>\n",
       "      <td>None</td>\n",
       "      <td>38fe809add3b4fcf9315a9694bb96ff5</td>\n",
       "      <td>NaN</td>\n",
       "    </tr>\n",
       "    <tr>\n",
       "      <th>3</th>\n",
       "      <td>75</td>\n",
       "      <td>20170509</td>\n",
       "      <td>F</td>\n",
       "      <td>78afa995795e4d85b5d9ceeca43f5fef</td>\n",
       "      <td>100000.0</td>\n",
       "    </tr>\n",
       "    <tr>\n",
       "      <th>4</th>\n",
       "      <td>118</td>\n",
       "      <td>20170804</td>\n",
       "      <td>None</td>\n",
       "      <td>a03223e636434f42ac4c3df47e8bac43</td>\n",
       "      <td>NaN</td>\n",
       "    </tr>\n",
       "  </tbody>\n",
       "</table>\n",
       "</div>"
      ],
      "text/plain": [
       "   age  became_member_on gender                                id    income\n",
       "0  118          20170212   None  68be06ca386d4c31939f3a4f0e3dd783       NaN\n",
       "1   55          20170715      F  0610b486422d4921ae7d2bf64640c50b  112000.0\n",
       "2  118          20180712   None  38fe809add3b4fcf9315a9694bb96ff5       NaN\n",
       "3   75          20170509      F  78afa995795e4d85b5d9ceeca43f5fef  100000.0\n",
       "4  118          20170804   None  a03223e636434f42ac4c3df47e8bac43       NaN"
      ]
     },
     "execution_count": 5,
     "metadata": {},
     "output_type": "execute_result"
    }
   ],
   "source": [
    "#first five rows of profile data\n",
    "profile.head()"
   ]
  },
  {
   "cell_type": "markdown",
   "metadata": {},
   "source": [
    "We can see there are some null values in the data set and also in the age column there are some inconsistent values for example 118. Lets explore more"
   ]
  },
  {
   "cell_type": "code",
   "execution_count": 6,
   "metadata": {},
   "outputs": [
    {
     "data": {
      "text/plain": [
       "age                    0\n",
       "became_member_on       0\n",
       "gender              2175\n",
       "id                     0\n",
       "income              2175\n",
       "dtype: int64"
      ]
     },
     "execution_count": 6,
     "metadata": {},
     "output_type": "execute_result"
    }
   ],
   "source": [
    "#Number of null values\n",
    "profile.isnull().sum()"
   ]
  },
  {
   "cell_type": "markdown",
   "metadata": {},
   "source": [
    "Gender and income are having common null values which is a good thing. It seems like people who don't provide their income also not prefered to provide gender. Perhaps, these customers were not interested in surveys so they preferred to leave it as blank."
   ]
  },
  {
   "cell_type": "code",
   "execution_count": 7,
   "metadata": {},
   "outputs": [
    {
     "data": {
      "text/plain": [
       "(17000, 5)"
      ]
     },
     "execution_count": 7,
     "metadata": {},
     "output_type": "execute_result"
    }
   ],
   "source": [
    "profile.shape"
   ]
  },
  {
   "cell_type": "markdown",
   "metadata": {},
   "source": [
    "#### 2.2.1 Age"
   ]
  },
  {
   "cell_type": "code",
   "execution_count": 8,
   "metadata": {},
   "outputs": [
    {
     "data": {
      "text/plain": [
       "age\n",
       "(0, 10]          0\n",
       "(10, 20]       340\n",
       "(20, 30]      1365\n",
       "(30, 40]      1597\n",
       "(40, 50]      2391\n",
       "(50, 60]      3590\n",
       "(60, 70]      2910\n",
       "(70, 80]      1646\n",
       "(80, 90]       767\n",
       "(90, 100]      214\n",
       "(100, 110]       5\n",
       "(110, 120]    2175\n",
       "Name: id, dtype: int64"
      ]
     },
     "execution_count": 8,
     "metadata": {},
     "output_type": "execute_result"
    }
   ],
   "source": [
    "#Age Distribution\n",
    "count_by_agegroup= profile.groupby(pd.cut(profile['age'] ,  np.arange(0, 118+10, 10)))['id'].count()\n",
    "count_by_agegroup"
   ]
  },
  {
   "cell_type": "code",
   "execution_count": 9,
   "metadata": {},
   "outputs": [
    {
     "data": {
      "image/png": "[encoded data removed]",
      "text/plain": [
       "<matplotlib.figure.Figure at 0x7fb12f2aa9b0>"
      ]
     },
     "metadata": {
      "needs_background": "light"
     },
     "output_type": "display_data"
    }
   ],
   "source": [
    "# Visualisation of age distribution\n",
    "\n",
    "plt.figure(figsize=(8,4))\n",
    "plt.bar(np.arange(0, 118, 10),count_by_agegroup,width=3.5, align='edge')\n",
    "plt.xticks(np.arange(0, 118, 10))\n",
    "plt.xlabel('Age')\n",
    "plt.ylabel('Persons Counts')\n",
    "plt.title('The Persons Number of Different Age')\n",
    "plt.show()"
   ]
  },
  {
   "cell_type": "markdown",
   "metadata": {},
   "source": [
    "Most of the customers lies in the age group of between 30 to 70 years.We can also notice, in the bar graph that age above 110 is outlier in our data."
   ]
  },
  {
   "cell_type": "markdown",
   "metadata": {},
   "source": [
    "#### 2.2.2 Gender"
   ]
  },
  {
   "cell_type": "code",
   "execution_count": 10,
   "metadata": {},
   "outputs": [
    {
     "data": {
      "text/plain": [
       "Text(0.5,1,'Gender Distribution')"
      ]
     },
     "execution_count": 10,
     "metadata": {},
     "output_type": "execute_result"
    },
    {
     "data": {
      "image/png": "[encoded data removed]",
      "text/plain": [
       "<matplotlib.figure.Figure at 0x7fb12f2a6550>"
      ]
     },
     "metadata": {},
     "output_type": "display_data"
    }
   ],
   "source": [
    "#Gender Distribution\n",
    "group_by_gender= profile.groupby(profile['gender'])['gender'].count()\n",
    "labels= ['Female','Male', 'Others']\n",
    "plt.pie( group_by_gender,labels= group_by_gender, colors= ['#6ade93', '#f2aa57', '#8da7e3'])\n",
    "plt.legend(labels, bbox_to_anchor=(1,1))\n",
    "plt.title('Gender Distribution')"
   ]
  },
  {
   "cell_type": "markdown",
   "metadata": {},
   "source": [
    "Number of Male customers are more than the female customer"
   ]
  },
  {
   "cell_type": "markdown",
   "metadata": {},
   "source": [
    "#### 2.2.3 Income"
   ]
  },
  {
   "cell_type": "code",
   "execution_count": 11,
   "metadata": {},
   "outputs": [
    {
     "data": {
      "image/png": "[encoded data removed]",
      "text/plain": [
       "<matplotlib.figure.Figure at 0x7fb12f2b6da0>"
      ]
     },
     "metadata": {
      "needs_background": "light"
     },
     "output_type": "display_data"
    }
   ],
   "source": [
    "plt.figure()\n",
    "plt.title('Distribution of User\\'s Income')\n",
    "sns.distplot(profile['income'].dropna(), color='#09d69f')\n",
    "plt.show()"
   ]
  },
  {
   "cell_type": "code",
   "execution_count": 12,
   "metadata": {},
   "outputs": [
    {
     "name": "stdout",
     "output_type": "stream",
     "text": [
      "Mean Income:  65404.99\n",
      "Median Income:  64000.0\n"
     ]
    }
   ],
   "source": [
    "print('Mean Income: ', np.round(profile['income'].mean(), 2))\n",
    "print('Median Income: ', np.round(profile['income'].median(), 2))"
   ]
  },
  {
   "cell_type": "markdown",
   "metadata": {},
   "source": [
    "We cannot see any outlier in the values of income. There are slight peaks in the distribution, probably because of \n",
    "people rounding up/down their income values when they report the income in the app. The graph is also skewed to right that means most of the customers belongs to average income bracket."
   ]
  },
  {
   "cell_type": "markdown",
   "metadata": {},
   "source": [
    "###  2.3 Transcript\n",
    "\n",
    "* event (str) - record description (ie transaction, offer received, offer viewed, etc.)\n",
    "* person (str) - customer id\n",
    "* time (int) - time in hours since start of test. The data begins at time t=0\n",
    "* value - (dict of strings) - either an offer id or transaction amount depending on the record"
   ]
  },
  {
   "cell_type": "code",
   "execution_count": 13,
   "metadata": {},
   "outputs": [
    {
     "data": {
      "text/html": [
       "<div>\n",
       "<style scoped>\n",
       "    .dataframe tbody tr th:only-of-type {\n",
       "        vertical-align: middle;\n",
       "    }\n",
       "\n",
       "    .dataframe tbody tr th {\n",
       "        vertical-align: top;\n",
       "    }\n",
       "\n",
       "    .dataframe thead th {\n",
       "        text-align: right;\n",
       "    }\n",
       "</style>\n",
       "<table border=\"1\" class=\"dataframe\">\n",
       "  <thead>\n",
       "    <tr style=\"text-align: right;\">\n",
       "      <th></th>\n",
       "      <th>event</th>\n",
       "      <th>person</th>\n",
       "      <th>time</th>\n",
       "      <th>value</th>\n",
       "    </tr>\n",
       "  </thead>\n",
       "  <tbody>\n",
       "    <tr>\n",
       "      <th>0</th>\n",
       "      <td>offer received</td>\n",
       "      <td>78afa995795e4d85b5d9ceeca43f5fef</td>\n",
       "      <td>0</td>\n",
       "      <td>{'offer id': '9b98b8c7a33c4b65b9aebfe6a799e6d9'}</td>\n",
       "    </tr>\n",
       "    <tr>\n",
       "      <th>1</th>\n",
       "      <td>offer received</td>\n",
       "      <td>a03223e636434f42ac4c3df47e8bac43</td>\n",
       "      <td>0</td>\n",
       "      <td>{'offer id': '0b1e1539f2cc45b7b9fa7c272da2e1d7'}</td>\n",
       "    </tr>\n",
       "    <tr>\n",
       "      <th>2</th>\n",
       "      <td>offer received</td>\n",
       "      <td>e2127556f4f64592b11af22de27a7932</td>\n",
       "      <td>0</td>\n",
       "      <td>{'offer id': '2906b810c7d4411798c6938adc9daaa5'}</td>\n",
       "    </tr>\n",
       "    <tr>\n",
       "      <th>3</th>\n",
       "      <td>offer received</td>\n",
       "      <td>8ec6ce2a7e7949b1bf142def7d0e0586</td>\n",
       "      <td>0</td>\n",
       "      <td>{'offer id': 'fafdcd668e3743c1bb461111dcafc2a4'}</td>\n",
       "    </tr>\n",
       "    <tr>\n",
       "      <th>4</th>\n",
       "      <td>offer received</td>\n",
       "      <td>68617ca6246f4fbc85e91a2a49552598</td>\n",
       "      <td>0</td>\n",
       "      <td>{'offer id': '4d5c57ea9a6940dd891ad53e9dbe8da0'}</td>\n",
       "    </tr>\n",
       "  </tbody>\n",
       "</table>\n",
       "</div>"
      ],
      "text/plain": [
       "            event                            person  time  \\\n",
       "0  offer received  78afa995795e4d85b5d9ceeca43f5fef     0   \n",
       "1  offer received  a03223e636434f42ac4c3df47e8bac43     0   \n",
       "2  offer received  e2127556f4f64592b11af22de27a7932     0   \n",
       "3  offer received  8ec6ce2a7e7949b1bf142def7d0e0586     0   \n",
       "4  offer received  68617ca6246f4fbc85e91a2a49552598     0   \n",
       "\n",
       "                                              value  \n",
       "0  {'offer id': '9b98b8c7a33c4b65b9aebfe6a799e6d9'}  \n",
       "1  {'offer id': '0b1e1539f2cc45b7b9fa7c272da2e1d7'}  \n",
       "2  {'offer id': '2906b810c7d4411798c6938adc9daaa5'}  \n",
       "3  {'offer id': 'fafdcd668e3743c1bb461111dcafc2a4'}  \n",
       "4  {'offer id': '4d5c57ea9a6940dd891ad53e9dbe8da0'}  "
      ]
     },
     "execution_count": 13,
     "metadata": {},
     "output_type": "execute_result"
    }
   ],
   "source": [
    "#First five rows of the data\n",
    "transcript.head()"
   ]
  },
  {
   "cell_type": "code",
   "execution_count": 14,
   "metadata": {},
   "outputs": [],
   "source": [
    "# Standardize the id to join with the profile table\n",
    "transcript = transcript.rename(columns={'person' : 'profile_id'})"
   ]
  },
  {
   "cell_type": "code",
   "execution_count": 15,
   "metadata": {},
   "outputs": [
    {
     "data": {
      "text/html": [
       "<div>\n",
       "<style scoped>\n",
       "    .dataframe tbody tr th:only-of-type {\n",
       "        vertical-align: middle;\n",
       "    }\n",
       "\n",
       "    .dataframe tbody tr th {\n",
       "        vertical-align: top;\n",
       "    }\n",
       "\n",
       "    .dataframe thead th {\n",
       "        text-align: right;\n",
       "    }\n",
       "</style>\n",
       "<table border=\"1\" class=\"dataframe\">\n",
       "  <thead>\n",
       "    <tr style=\"text-align: right;\">\n",
       "      <th></th>\n",
       "      <th>event</th>\n",
       "      <th>profile_id</th>\n",
       "      <th>time</th>\n",
       "      <th>value</th>\n",
       "    </tr>\n",
       "  </thead>\n",
       "  <tbody>\n",
       "    <tr>\n",
       "      <th>0</th>\n",
       "      <td>offer received</td>\n",
       "      <td>78afa995795e4d85b5d9ceeca43f5fef</td>\n",
       "      <td>0</td>\n",
       "      <td>{'offer id': '9b98b8c7a33c4b65b9aebfe6a799e6d9'}</td>\n",
       "    </tr>\n",
       "    <tr>\n",
       "      <th>1</th>\n",
       "      <td>offer received</td>\n",
       "      <td>a03223e636434f42ac4c3df47e8bac43</td>\n",
       "      <td>0</td>\n",
       "      <td>{'offer id': '0b1e1539f2cc45b7b9fa7c272da2e1d7'}</td>\n",
       "    </tr>\n",
       "    <tr>\n",
       "      <th>2</th>\n",
       "      <td>offer received</td>\n",
       "      <td>e2127556f4f64592b11af22de27a7932</td>\n",
       "      <td>0</td>\n",
       "      <td>{'offer id': '2906b810c7d4411798c6938adc9daaa5'}</td>\n",
       "    </tr>\n",
       "    <tr>\n",
       "      <th>3</th>\n",
       "      <td>offer received</td>\n",
       "      <td>8ec6ce2a7e7949b1bf142def7d0e0586</td>\n",
       "      <td>0</td>\n",
       "      <td>{'offer id': 'fafdcd668e3743c1bb461111dcafc2a4'}</td>\n",
       "    </tr>\n",
       "    <tr>\n",
       "      <th>4</th>\n",
       "      <td>offer received</td>\n",
       "      <td>68617ca6246f4fbc85e91a2a49552598</td>\n",
       "      <td>0</td>\n",
       "      <td>{'offer id': '4d5c57ea9a6940dd891ad53e9dbe8da0'}</td>\n",
       "    </tr>\n",
       "  </tbody>\n",
       "</table>\n",
       "</div>"
      ],
      "text/plain": [
       "            event                        profile_id  time  \\\n",
       "0  offer received  78afa995795e4d85b5d9ceeca43f5fef     0   \n",
       "1  offer received  a03223e636434f42ac4c3df47e8bac43     0   \n",
       "2  offer received  e2127556f4f64592b11af22de27a7932     0   \n",
       "3  offer received  8ec6ce2a7e7949b1bf142def7d0e0586     0   \n",
       "4  offer received  68617ca6246f4fbc85e91a2a49552598     0   \n",
       "\n",
       "                                              value  \n",
       "0  {'offer id': '9b98b8c7a33c4b65b9aebfe6a799e6d9'}  \n",
       "1  {'offer id': '0b1e1539f2cc45b7b9fa7c272da2e1d7'}  \n",
       "2  {'offer id': '2906b810c7d4411798c6938adc9daaa5'}  \n",
       "3  {'offer id': 'fafdcd668e3743c1bb461111dcafc2a4'}  \n",
       "4  {'offer id': '4d5c57ea9a6940dd891ad53e9dbe8da0'}  "
      ]
     },
     "execution_count": 15,
     "metadata": {},
     "output_type": "execute_result"
    }
   ],
   "source": [
    "# First five rows\n",
    "transcript.head()"
   ]
  },
  {
   "cell_type": "code",
   "execution_count": 16,
   "metadata": {},
   "outputs": [
    {
     "data": {
      "text/html": [
       "<div>\n",
       "<style scoped>\n",
       "    .dataframe tbody tr th:only-of-type {\n",
       "        vertical-align: middle;\n",
       "    }\n",
       "\n",
       "    .dataframe tbody tr th {\n",
       "        vertical-align: top;\n",
       "    }\n",
       "\n",
       "    .dataframe thead th {\n",
       "        text-align: right;\n",
       "    }\n",
       "</style>\n",
       "<table border=\"1\" class=\"dataframe\">\n",
       "  <thead>\n",
       "    <tr style=\"text-align: right;\">\n",
       "      <th></th>\n",
       "      <th>event</th>\n",
       "      <th>count</th>\n",
       "    </tr>\n",
       "  </thead>\n",
       "  <tbody>\n",
       "    <tr>\n",
       "      <th>0</th>\n",
       "      <td>transaction</td>\n",
       "      <td>138953</td>\n",
       "    </tr>\n",
       "    <tr>\n",
       "      <th>1</th>\n",
       "      <td>offer received</td>\n",
       "      <td>76277</td>\n",
       "    </tr>\n",
       "    <tr>\n",
       "      <th>2</th>\n",
       "      <td>offer viewed</td>\n",
       "      <td>57725</td>\n",
       "    </tr>\n",
       "    <tr>\n",
       "      <th>3</th>\n",
       "      <td>offer completed</td>\n",
       "      <td>33579</td>\n",
       "    </tr>\n",
       "  </tbody>\n",
       "</table>\n",
       "</div>"
      ],
      "text/plain": [
       "             event   count\n",
       "0      transaction  138953\n",
       "1   offer received   76277\n",
       "2     offer viewed   57725\n",
       "3  offer completed   33579"
      ]
     },
     "execution_count": 16,
     "metadata": {},
     "output_type": "execute_result"
    }
   ],
   "source": [
    "#Count of transaction and customer response against the offer\n",
    "offer_response= transcript['event'].value_counts()\n",
    "offer_response= pd.DataFrame(list(zip(offer_response.index, offer_response)),columns=['event', 'count'])\n",
    "offer_response"
   ]
  },
  {
   "cell_type": "markdown",
   "metadata": {},
   "source": [
    "So basically we have 4 categoriies  for the customer response against the offer\n",
    "1. offer received\n",
    "2. offer viewed\n",
    "3. transaction\n",
    "4. offer completed\n",
    "\n",
    "Later we need to segregate the transaction data from transcript for the analysis."
   ]
  },
  {
   "cell_type": "code",
   "execution_count": 17,
   "metadata": {},
   "outputs": [
    {
     "data": {
      "text/plain": [
       "(306534, 4)"
      ]
     },
     "execution_count": 17,
     "metadata": {},
     "output_type": "execute_result"
    }
   ],
   "source": [
    "#Shape of the data\n",
    "transcript.shape"
   ]
  },
  {
   "cell_type": "code",
   "execution_count": 18,
   "metadata": {},
   "outputs": [
    {
     "data": {
      "text/plain": [
       "event         0\n",
       "profile_id    0\n",
       "time          0\n",
       "value         0\n",
       "dtype: int64"
      ]
     },
     "execution_count": 18,
     "metadata": {},
     "output_type": "execute_result"
    }
   ],
   "source": [
    "#Checking Null Values\n",
    "transcript.isnull().sum()"
   ]
  },
  {
   "cell_type": "markdown",
   "metadata": {},
   "source": [
    "Great we dont have any null values in this data. However, the data looks a bit more tricky, as it is ordered by time and has an event and value."
   ]
  },
  {
   "cell_type": "code",
   "execution_count": 19,
   "metadata": {},
   "outputs": [
    {
     "data": {
      "text/plain": [
       "17000"
      ]
     },
     "execution_count": 19,
     "metadata": {},
     "output_type": "execute_result"
    }
   ],
   "source": [
    "#Checking the unique number of customers\n",
    "transcript['profile_id'].nunique()"
   ]
  },
  {
   "cell_type": "markdown",
   "metadata": {},
   "source": [
    "It's seems like the number of people in transcript data is same as the number of people in Demograhic data. This looks good."
   ]
  },
  {
   "cell_type": "code",
   "execution_count": 20,
   "metadata": {},
   "outputs": [
    {
     "name": "stdout",
     "output_type": "stream",
     "text": [
      "Percentage of customer transaction events: 45.3 %\n",
      "Percentage of customer offer events: 54.7 %\n"
     ]
    }
   ],
   "source": [
    "#Computing the percentage of customer transaction and offer events\n",
    "total_events = offer_response['count'].sum()\n",
    "\n",
    "transaction_percentage = 100 * offer_response.iloc[0]['count'] / total_events\n",
    "offer_percentage = 100 * offer_response.iloc[1:]['count'].sum() / total_events\n",
    "\n",
    "print(\"Percentage of customer transaction events: %.1f %%\" % (transaction_percentage ))\n",
    "print(\"Percentage of customer offer events: %.1f %%\" % (offer_percentage))"
   ]
  },
  {
   "cell_type": "markdown",
   "metadata": {},
   "source": [
    "From above result we can tell 45% of transcript dataset is related to customer purchase and 54 % of data is related to offers"
   ]
  },
  {
   "cell_type": "markdown",
   "metadata": {},
   "source": [
    "## 3. Data Preprocessing\n",
    "\n",
    "### 3.1 Portfolio Data:\n",
    "\n",
    "1. First thing we need we need to do is Hot Encode the channels column.\n",
    "2. We will also create the dummy column for offer_type. For this we will create a function that we can use later also  to create dummy variable. Since channels columns contain the data in list we will be not able to apply that fucntion to it."
   ]
  },
  {
   "cell_type": "code",
   "execution_count": 21,
   "metadata": {},
   "outputs": [
    {
     "data": {
      "text/html": [
       "<div>\n",
       "<style scoped>\n",
       "    .dataframe tbody tr th:only-of-type {\n",
       "        vertical-align: middle;\n",
       "    }\n",
       "\n",
       "    .dataframe tbody tr th {\n",
       "        vertical-align: top;\n",
       "    }\n",
       "\n",
       "    .dataframe thead th {\n",
       "        text-align: right;\n",
       "    }\n",
       "</style>\n",
       "<table border=\"1\" class=\"dataframe\">\n",
       "  <thead>\n",
       "    <tr style=\"text-align: right;\">\n",
       "      <th></th>\n",
       "      <th>difficulty</th>\n",
       "      <th>duration</th>\n",
       "      <th>id</th>\n",
       "      <th>offer_type</th>\n",
       "      <th>reward</th>\n",
       "      <th>email</th>\n",
       "      <th>mobile</th>\n",
       "      <th>social</th>\n",
       "      <th>web</th>\n",
       "    </tr>\n",
       "  </thead>\n",
       "  <tbody>\n",
       "    <tr>\n",
       "      <th>0</th>\n",
       "      <td>10</td>\n",
       "      <td>7</td>\n",
       "      <td>ae264e3637204a6fb9bb56bc8210ddfd</td>\n",
       "      <td>bogo</td>\n",
       "      <td>10</td>\n",
       "      <td>1</td>\n",
       "      <td>1</td>\n",
       "      <td>1</td>\n",
       "      <td>0</td>\n",
       "    </tr>\n",
       "    <tr>\n",
       "      <th>1</th>\n",
       "      <td>10</td>\n",
       "      <td>5</td>\n",
       "      <td>4d5c57ea9a6940dd891ad53e9dbe8da0</td>\n",
       "      <td>bogo</td>\n",
       "      <td>10</td>\n",
       "      <td>1</td>\n",
       "      <td>1</td>\n",
       "      <td>1</td>\n",
       "      <td>1</td>\n",
       "    </tr>\n",
       "    <tr>\n",
       "      <th>2</th>\n",
       "      <td>0</td>\n",
       "      <td>4</td>\n",
       "      <td>3f207df678b143eea3cee63160fa8bed</td>\n",
       "      <td>informational</td>\n",
       "      <td>0</td>\n",
       "      <td>1</td>\n",
       "      <td>1</td>\n",
       "      <td>0</td>\n",
       "      <td>1</td>\n",
       "    </tr>\n",
       "    <tr>\n",
       "      <th>3</th>\n",
       "      <td>5</td>\n",
       "      <td>7</td>\n",
       "      <td>9b98b8c7a33c4b65b9aebfe6a799e6d9</td>\n",
       "      <td>bogo</td>\n",
       "      <td>5</td>\n",
       "      <td>1</td>\n",
       "      <td>1</td>\n",
       "      <td>0</td>\n",
       "      <td>1</td>\n",
       "    </tr>\n",
       "    <tr>\n",
       "      <th>4</th>\n",
       "      <td>20</td>\n",
       "      <td>10</td>\n",
       "      <td>0b1e1539f2cc45b7b9fa7c272da2e1d7</td>\n",
       "      <td>discount</td>\n",
       "      <td>5</td>\n",
       "      <td>1</td>\n",
       "      <td>0</td>\n",
       "      <td>0</td>\n",
       "      <td>1</td>\n",
       "    </tr>\n",
       "  </tbody>\n",
       "</table>\n",
       "</div>"
      ],
      "text/plain": [
       "   difficulty  duration                                id     offer_type  \\\n",
       "0          10         7  ae264e3637204a6fb9bb56bc8210ddfd           bogo   \n",
       "1          10         5  4d5c57ea9a6940dd891ad53e9dbe8da0           bogo   \n",
       "2           0         4  3f207df678b143eea3cee63160fa8bed  informational   \n",
       "3           5         7  9b98b8c7a33c4b65b9aebfe6a799e6d9           bogo   \n",
       "4          20        10  0b1e1539f2cc45b7b9fa7c272da2e1d7       discount   \n",
       "\n",
       "   reward  email  mobile  social  web  \n",
       "0      10      1       1       1    0  \n",
       "1      10      1       1       1    1  \n",
       "2       0      1       1       0    1  \n",
       "3       5      1       1       0    1  \n",
       "4       5      1       0       0    1  "
      ]
     },
     "execution_count": 21,
     "metadata": {},
     "output_type": "execute_result"
    }
   ],
   "source": [
    "# find all available channels\n",
    "available_channels = []\n",
    "for channel_list in portfolio['channels']:\n",
    "    for channel in channel_list:\n",
    "        if channel not in available_channels:\n",
    "            available_channels.append(channel)\n",
    "\n",
    "# one-hot encode channel\n",
    "for channel in available_channels:\n",
    "    portfolio[channel] = portfolio['channels'].apply(lambda x: 1 if channel in x else 0)\n",
    "    \n",
    "# drop channels column\n",
    "portfolio.drop(['channels'], axis=1, inplace=True)\n",
    "\n",
    "portfolio.head()"
   ]
  },
  {
   "cell_type": "code",
   "execution_count": 22,
   "metadata": {},
   "outputs": [],
   "source": [
    "# One hot Encoded function\n",
    "\n",
    "def one_hot_encoding(dataframe, column_list):\n",
    "    \n",
    "    '''INPUT- Dataframe and list which need to be encoded\n",
    "       OUTPUT- Encoded catrgorical columns\n",
    "    '''\n",
    "    \n",
    "    for column in column_list:\n",
    "        column_dummies = pd.get_dummies(dataframe[column],prefix=column, prefix_sep='_',)\n",
    "        dataframe = dataframe.drop(column, axis = 1)\n",
    "        dataframe = dataframe.join(column_dummies)\n",
    "    return dataframe"
   ]
  },
  {
   "cell_type": "code",
   "execution_count": 23,
   "metadata": {},
   "outputs": [
    {
     "data": {
      "text/html": [
       "<div>\n",
       "<style scoped>\n",
       "    .dataframe tbody tr th:only-of-type {\n",
       "        vertical-align: middle;\n",
       "    }\n",
       "\n",
       "    .dataframe tbody tr th {\n",
       "        vertical-align: top;\n",
       "    }\n",
       "\n",
       "    .dataframe thead th {\n",
       "        text-align: right;\n",
       "    }\n",
       "</style>\n",
       "<table border=\"1\" class=\"dataframe\">\n",
       "  <thead>\n",
       "    <tr style=\"text-align: right;\">\n",
       "      <th></th>\n",
       "      <th>difficulty</th>\n",
       "      <th>duration</th>\n",
       "      <th>offer_id</th>\n",
       "      <th>reward</th>\n",
       "      <th>email</th>\n",
       "      <th>mobile</th>\n",
       "      <th>social</th>\n",
       "      <th>web</th>\n",
       "      <th>offer_type_bogo</th>\n",
       "      <th>offer_type_discount</th>\n",
       "      <th>offer_type_informational</th>\n",
       "    </tr>\n",
       "  </thead>\n",
       "  <tbody>\n",
       "    <tr>\n",
       "      <th>0</th>\n",
       "      <td>10</td>\n",
       "      <td>7</td>\n",
       "      <td>ae264e3637204a6fb9bb56bc8210ddfd</td>\n",
       "      <td>10</td>\n",
       "      <td>1</td>\n",
       "      <td>1</td>\n",
       "      <td>1</td>\n",
       "      <td>0</td>\n",
       "      <td>1</td>\n",
       "      <td>0</td>\n",
       "      <td>0</td>\n",
       "    </tr>\n",
       "    <tr>\n",
       "      <th>1</th>\n",
       "      <td>10</td>\n",
       "      <td>5</td>\n",
       "      <td>4d5c57ea9a6940dd891ad53e9dbe8da0</td>\n",
       "      <td>10</td>\n",
       "      <td>1</td>\n",
       "      <td>1</td>\n",
       "      <td>1</td>\n",
       "      <td>1</td>\n",
       "      <td>1</td>\n",
       "      <td>0</td>\n",
       "      <td>0</td>\n",
       "    </tr>\n",
       "    <tr>\n",
       "      <th>2</th>\n",
       "      <td>0</td>\n",
       "      <td>4</td>\n",
       "      <td>3f207df678b143eea3cee63160fa8bed</td>\n",
       "      <td>0</td>\n",
       "      <td>1</td>\n",
       "      <td>1</td>\n",
       "      <td>0</td>\n",
       "      <td>1</td>\n",
       "      <td>0</td>\n",
       "      <td>0</td>\n",
       "      <td>1</td>\n",
       "    </tr>\n",
       "    <tr>\n",
       "      <th>3</th>\n",
       "      <td>5</td>\n",
       "      <td>7</td>\n",
       "      <td>9b98b8c7a33c4b65b9aebfe6a799e6d9</td>\n",
       "      <td>5</td>\n",
       "      <td>1</td>\n",
       "      <td>1</td>\n",
       "      <td>0</td>\n",
       "      <td>1</td>\n",
       "      <td>1</td>\n",
       "      <td>0</td>\n",
       "      <td>0</td>\n",
       "    </tr>\n",
       "    <tr>\n",
       "      <th>4</th>\n",
       "      <td>20</td>\n",
       "      <td>10</td>\n",
       "      <td>0b1e1539f2cc45b7b9fa7c272da2e1d7</td>\n",
       "      <td>5</td>\n",
       "      <td>1</td>\n",
       "      <td>0</td>\n",
       "      <td>0</td>\n",
       "      <td>1</td>\n",
       "      <td>0</td>\n",
       "      <td>1</td>\n",
       "      <td>0</td>\n",
       "    </tr>\n",
       "  </tbody>\n",
       "</table>\n",
       "</div>"
      ],
      "text/plain": [
       "   difficulty  duration                          offer_id  reward  email  \\\n",
       "0          10         7  ae264e3637204a6fb9bb56bc8210ddfd      10      1   \n",
       "1          10         5  4d5c57ea9a6940dd891ad53e9dbe8da0      10      1   \n",
       "2           0         4  3f207df678b143eea3cee63160fa8bed       0      1   \n",
       "3           5         7  9b98b8c7a33c4b65b9aebfe6a799e6d9       5      1   \n",
       "4          20        10  0b1e1539f2cc45b7b9fa7c272da2e1d7       5      1   \n",
       "\n",
       "   mobile  social  web  offer_type_bogo  offer_type_discount  \\\n",
       "0       1       1    0                1                    0   \n",
       "1       1       1    1                1                    0   \n",
       "2       1       0    1                0                    0   \n",
       "3       1       0    1                1                    0   \n",
       "4       0       0    1                0                    1   \n",
       "\n",
       "   offer_type_informational  \n",
       "0                         0  \n",
       "1                         0  \n",
       "2                         1  \n",
       "3                         0  \n",
       "4                         0  "
      ]
     },
     "execution_count": 23,
     "metadata": {},
     "output_type": "execute_result"
    }
   ],
   "source": [
    "# Encodeing the offer_type\n",
    "offer_type_col= ['offer_type']\n",
    "portfolio= one_hot_encoding(portfolio, offer_type_col)\n",
    "\n",
    "# Renaming the id column to offer_id so that it is easy to distinguish\n",
    "portfolio.rename(columns={'id': 'offer_id'}, inplace= True)\n",
    "portfolio.head()"
   ]
  },
  {
   "cell_type": "markdown",
   "metadata": {},
   "source": [
    "### 2.2 Profile Data"
   ]
  },
  {
   "cell_type": "markdown",
   "metadata": {},
   "source": [
    "1. We need to convert the datatype of \"became_member_on\" column to datetime.\n",
    "2. After converting to datetime we need to extract year and month and rename the column to year and month respectively."
   ]
  },
  {
   "cell_type": "code",
   "execution_count": 24,
   "metadata": {},
   "outputs": [
    {
     "data": {
      "text/html": [
       "<div>\n",
       "<style scoped>\n",
       "    .dataframe tbody tr th:only-of-type {\n",
       "        vertical-align: middle;\n",
       "    }\n",
       "\n",
       "    .dataframe tbody tr th {\n",
       "        vertical-align: top;\n",
       "    }\n",
       "\n",
       "    .dataframe thead th {\n",
       "        text-align: right;\n",
       "    }\n",
       "</style>\n",
       "<table border=\"1\" class=\"dataframe\">\n",
       "  <thead>\n",
       "    <tr style=\"text-align: right;\">\n",
       "      <th></th>\n",
       "      <th>age</th>\n",
       "      <th>became_member_on</th>\n",
       "      <th>gender</th>\n",
       "      <th>id</th>\n",
       "      <th>income</th>\n",
       "      <th>became_member_year</th>\n",
       "      <th>became_member_month</th>\n",
       "    </tr>\n",
       "  </thead>\n",
       "  <tbody>\n",
       "    <tr>\n",
       "      <th>0</th>\n",
       "      <td>118</td>\n",
       "      <td>2017-02-12</td>\n",
       "      <td>None</td>\n",
       "      <td>68be06ca386d4c31939f3a4f0e3dd783</td>\n",
       "      <td>NaN</td>\n",
       "      <td>2017</td>\n",
       "      <td>2</td>\n",
       "    </tr>\n",
       "    <tr>\n",
       "      <th>1</th>\n",
       "      <td>55</td>\n",
       "      <td>2017-07-15</td>\n",
       "      <td>F</td>\n",
       "      <td>0610b486422d4921ae7d2bf64640c50b</td>\n",
       "      <td>112000.0</td>\n",
       "      <td>2017</td>\n",
       "      <td>7</td>\n",
       "    </tr>\n",
       "    <tr>\n",
       "      <th>2</th>\n",
       "      <td>118</td>\n",
       "      <td>2018-07-12</td>\n",
       "      <td>None</td>\n",
       "      <td>38fe809add3b4fcf9315a9694bb96ff5</td>\n",
       "      <td>NaN</td>\n",
       "      <td>2018</td>\n",
       "      <td>7</td>\n",
       "    </tr>\n",
       "    <tr>\n",
       "      <th>3</th>\n",
       "      <td>75</td>\n",
       "      <td>2017-05-09</td>\n",
       "      <td>F</td>\n",
       "      <td>78afa995795e4d85b5d9ceeca43f5fef</td>\n",
       "      <td>100000.0</td>\n",
       "      <td>2017</td>\n",
       "      <td>5</td>\n",
       "    </tr>\n",
       "    <tr>\n",
       "      <th>4</th>\n",
       "      <td>118</td>\n",
       "      <td>2017-08-04</td>\n",
       "      <td>None</td>\n",
       "      <td>a03223e636434f42ac4c3df47e8bac43</td>\n",
       "      <td>NaN</td>\n",
       "      <td>2017</td>\n",
       "      <td>8</td>\n",
       "    </tr>\n",
       "  </tbody>\n",
       "</table>\n",
       "</div>"
      ],
      "text/plain": [
       "   age became_member_on gender                                id    income  \\\n",
       "0  118       2017-02-12   None  68be06ca386d4c31939f3a4f0e3dd783       NaN   \n",
       "1   55       2017-07-15      F  0610b486422d4921ae7d2bf64640c50b  112000.0   \n",
       "2  118       2018-07-12   None  38fe809add3b4fcf9315a9694bb96ff5       NaN   \n",
       "3   75       2017-05-09      F  78afa995795e4d85b5d9ceeca43f5fef  100000.0   \n",
       "4  118       2017-08-04   None  a03223e636434f42ac4c3df47e8bac43       NaN   \n",
       "\n",
       "   became_member_year  became_member_month  \n",
       "0                2017                    2  \n",
       "1                2017                    7  \n",
       "2                2018                    7  \n",
       "3                2017                    5  \n",
       "4                2017                    8  "
      ]
     },
     "execution_count": 24,
     "metadata": {},
     "output_type": "execute_result"
    }
   ],
   "source": [
    "# convert the datatype into datetime\n",
    "profile[\"became_member_on\"] = pd.to_datetime(profile.became_member_on.apply(str))\n",
    "profile[\"became_member_year\"] = profile.became_member_on.dt.year\n",
    "profile[\"became_member_month\"] = profile.became_member_on.dt.month\n",
    "profile.head()"
   ]
  },
  {
   "cell_type": "markdown",
   "metadata": {},
   "source": [
    "3. Now we will deal with the outlier of the profile data that is age. We will convert the age =118 to np.nan.\n",
    "4. Perform one hot encoding to gender column so that it will help in data analysis part"
   ]
  },
  {
   "cell_type": "code",
   "execution_count": 25,
   "metadata": {},
   "outputs": [
    {
     "data": {
      "text/html": [
       "<div>\n",
       "<style scoped>\n",
       "    .dataframe tbody tr th:only-of-type {\n",
       "        vertical-align: middle;\n",
       "    }\n",
       "\n",
       "    .dataframe tbody tr th {\n",
       "        vertical-align: top;\n",
       "    }\n",
       "\n",
       "    .dataframe thead th {\n",
       "        text-align: right;\n",
       "    }\n",
       "</style>\n",
       "<table border=\"1\" class=\"dataframe\">\n",
       "  <thead>\n",
       "    <tr style=\"text-align: right;\">\n",
       "      <th></th>\n",
       "      <th>age</th>\n",
       "      <th>became_member_on</th>\n",
       "      <th>customer_id</th>\n",
       "      <th>income</th>\n",
       "      <th>became_member_year</th>\n",
       "      <th>became_member_month</th>\n",
       "      <th>Female</th>\n",
       "      <th>Male</th>\n",
       "      <th>Others</th>\n",
       "    </tr>\n",
       "  </thead>\n",
       "  <tbody>\n",
       "    <tr>\n",
       "      <th>1</th>\n",
       "      <td>55.0</td>\n",
       "      <td>2017-07-15</td>\n",
       "      <td>0610b486422d4921ae7d2bf64640c50b</td>\n",
       "      <td>112000.0</td>\n",
       "      <td>2017</td>\n",
       "      <td>7</td>\n",
       "      <td>1</td>\n",
       "      <td>0</td>\n",
       "      <td>0</td>\n",
       "    </tr>\n",
       "    <tr>\n",
       "      <th>3</th>\n",
       "      <td>75.0</td>\n",
       "      <td>2017-05-09</td>\n",
       "      <td>78afa995795e4d85b5d9ceeca43f5fef</td>\n",
       "      <td>100000.0</td>\n",
       "      <td>2017</td>\n",
       "      <td>5</td>\n",
       "      <td>1</td>\n",
       "      <td>0</td>\n",
       "      <td>0</td>\n",
       "    </tr>\n",
       "    <tr>\n",
       "      <th>5</th>\n",
       "      <td>68.0</td>\n",
       "      <td>2018-04-26</td>\n",
       "      <td>e2127556f4f64592b11af22de27a7932</td>\n",
       "      <td>70000.0</td>\n",
       "      <td>2018</td>\n",
       "      <td>4</td>\n",
       "      <td>0</td>\n",
       "      <td>1</td>\n",
       "      <td>0</td>\n",
       "    </tr>\n",
       "    <tr>\n",
       "      <th>8</th>\n",
       "      <td>65.0</td>\n",
       "      <td>2018-02-09</td>\n",
       "      <td>389bc3fa690240e798340f5a15918d5c</td>\n",
       "      <td>53000.0</td>\n",
       "      <td>2018</td>\n",
       "      <td>2</td>\n",
       "      <td>0</td>\n",
       "      <td>1</td>\n",
       "      <td>0</td>\n",
       "    </tr>\n",
       "    <tr>\n",
       "      <th>12</th>\n",
       "      <td>58.0</td>\n",
       "      <td>2017-11-11</td>\n",
       "      <td>2eeac8d8feae4a8cad5a6af0499a211d</td>\n",
       "      <td>51000.0</td>\n",
       "      <td>2017</td>\n",
       "      <td>11</td>\n",
       "      <td>0</td>\n",
       "      <td>1</td>\n",
       "      <td>0</td>\n",
       "    </tr>\n",
       "  </tbody>\n",
       "</table>\n",
       "</div>"
      ],
      "text/plain": [
       "     age became_member_on                       customer_id    income  \\\n",
       "1   55.0       2017-07-15  0610b486422d4921ae7d2bf64640c50b  112000.0   \n",
       "3   75.0       2017-05-09  78afa995795e4d85b5d9ceeca43f5fef  100000.0   \n",
       "5   68.0       2018-04-26  e2127556f4f64592b11af22de27a7932   70000.0   \n",
       "8   65.0       2018-02-09  389bc3fa690240e798340f5a15918d5c   53000.0   \n",
       "12  58.0       2017-11-11  2eeac8d8feae4a8cad5a6af0499a211d   51000.0   \n",
       "\n",
       "    became_member_year  became_member_month  Female  Male  Others  \n",
       "1                 2017                    7       1     0       0  \n",
       "3                 2017                    5       1     0       0  \n",
       "5                 2018                    4       0     1       0  \n",
       "8                 2018                    2       0     1       0  \n",
       "12                2017                   11       0     1       0  "
      ]
     },
     "execution_count": 25,
     "metadata": {},
     "output_type": "execute_result"
    }
   ],
   "source": [
    "#Replacing age outlier with np.nan\n",
    "profile.loc[profile.age == 118, \"age\"] = np.nan\n",
    "\n",
    "# profile: drop rows with no gender, income, age data\n",
    "profile = profile.drop(profile[profile['gender'].isnull()].index)\n",
    "\n",
    "#Renaming the column\n",
    "profile.rename(columns={profile.columns.values[5]: 'became_member_year', profile.columns.values[6]: 'became_member_month',\n",
    "                        'id':'customer_id' }, inplace= True)\n",
    "\n",
    "#One Hot Encoding of Gender Column\n",
    "\n",
    "gender_col= ['gender']\n",
    "profile = one_hot_encoding(profile, gender_col)\n",
    "\n",
    "#Remaing the newly created gender column\n",
    "profile.rename(columns={'gender_M': 'Male', 'gender_F': 'Female', 'gender_O': 'Others'}, inplace= True)\n",
    "\n",
    "profile.head()"
   ]
  },
  {
   "cell_type": "markdown",
   "metadata": {},
   "source": [
    "### 2.3 Transcript Data"
   ]
  },
  {
   "cell_type": "code",
   "execution_count": 26,
   "metadata": {},
   "outputs": [
    {
     "data": {
      "text/html": [
       "<div>\n",
       "<style scoped>\n",
       "    .dataframe tbody tr th:only-of-type {\n",
       "        vertical-align: middle;\n",
       "    }\n",
       "\n",
       "    .dataframe tbody tr th {\n",
       "        vertical-align: top;\n",
       "    }\n",
       "\n",
       "    .dataframe thead th {\n",
       "        text-align: right;\n",
       "    }\n",
       "</style>\n",
       "<table border=\"1\" class=\"dataframe\">\n",
       "  <thead>\n",
       "    <tr style=\"text-align: right;\">\n",
       "      <th></th>\n",
       "      <th>event</th>\n",
       "      <th>customer_id</th>\n",
       "      <th>time</th>\n",
       "      <th>value</th>\n",
       "    </tr>\n",
       "  </thead>\n",
       "  <tbody>\n",
       "    <tr>\n",
       "      <th>0</th>\n",
       "      <td>offer received</td>\n",
       "      <td>78afa995795e4d85b5d9ceeca43f5fef</td>\n",
       "      <td>0</td>\n",
       "      <td>{'offer id': '9b98b8c7a33c4b65b9aebfe6a799e6d9'}</td>\n",
       "    </tr>\n",
       "    <tr>\n",
       "      <th>1</th>\n",
       "      <td>offer received</td>\n",
       "      <td>a03223e636434f42ac4c3df47e8bac43</td>\n",
       "      <td>0</td>\n",
       "      <td>{'offer id': '0b1e1539f2cc45b7b9fa7c272da2e1d7'}</td>\n",
       "    </tr>\n",
       "    <tr>\n",
       "      <th>2</th>\n",
       "      <td>offer received</td>\n",
       "      <td>e2127556f4f64592b11af22de27a7932</td>\n",
       "      <td>0</td>\n",
       "      <td>{'offer id': '2906b810c7d4411798c6938adc9daaa5'}</td>\n",
       "    </tr>\n",
       "    <tr>\n",
       "      <th>3</th>\n",
       "      <td>offer received</td>\n",
       "      <td>8ec6ce2a7e7949b1bf142def7d0e0586</td>\n",
       "      <td>0</td>\n",
       "      <td>{'offer id': 'fafdcd668e3743c1bb461111dcafc2a4'}</td>\n",
       "    </tr>\n",
       "    <tr>\n",
       "      <th>4</th>\n",
       "      <td>offer received</td>\n",
       "      <td>68617ca6246f4fbc85e91a2a49552598</td>\n",
       "      <td>0</td>\n",
       "      <td>{'offer id': '4d5c57ea9a6940dd891ad53e9dbe8da0'}</td>\n",
       "    </tr>\n",
       "  </tbody>\n",
       "</table>\n",
       "</div>"
      ],
      "text/plain": [
       "            event                       customer_id  time  \\\n",
       "0  offer received  78afa995795e4d85b5d9ceeca43f5fef     0   \n",
       "1  offer received  a03223e636434f42ac4c3df47e8bac43     0   \n",
       "2  offer received  e2127556f4f64592b11af22de27a7932     0   \n",
       "3  offer received  8ec6ce2a7e7949b1bf142def7d0e0586     0   \n",
       "4  offer received  68617ca6246f4fbc85e91a2a49552598     0   \n",
       "\n",
       "                                              value  \n",
       "0  {'offer id': '9b98b8c7a33c4b65b9aebfe6a799e6d9'}  \n",
       "1  {'offer id': '0b1e1539f2cc45b7b9fa7c272da2e1d7'}  \n",
       "2  {'offer id': '2906b810c7d4411798c6938adc9daaa5'}  \n",
       "3  {'offer id': 'fafdcd668e3743c1bb461111dcafc2a4'}  \n",
       "4  {'offer id': '4d5c57ea9a6940dd891ad53e9dbe8da0'}  "
      ]
     },
     "execution_count": 26,
     "metadata": {},
     "output_type": "execute_result"
    }
   ],
   "source": [
    "#Renaming the profile_id to customer_id so that it will be easy to map with demographic data\n",
    "\n",
    "transcript.rename(columns={'profile_id': 'customer_id'}, inplace= True)\n",
    "transcript.head()"
   ]
  },
  {
   "cell_type": "markdown",
   "metadata": {},
   "source": [
    "Since 'value' column contains the data of offers and transactions in the form of dictionary, hence, we need to exctract the offer_id and transactions amount from the data  and need to store in seperate columns like offer id and transaction."
   ]
  },
  {
   "cell_type": "code",
   "execution_count": 27,
   "metadata": {},
   "outputs": [],
   "source": [
    "#Creating seperate columns for offer id and transaction amounts\n",
    "\n",
    "def offer_id_col(value):\n",
    "    '''\n",
    "    INPUT- Column contains the value in dictionary form\n",
    "    OUTPUT- return the values\n",
    "    '''\n",
    "    \n",
    "    if list(value.keys())[0] in ['offer id', 'offer_id']:\n",
    "        return list(value.values())[0]\n",
    "    \n",
    "def amount_col(value):\n",
    "    if list(value.keys())[0] in ['amount']:\n",
    "        return list(value.values())[0]\n",
    "    \n",
    "transcript['offer_id'] = transcript.value.apply(offer_id_col)\n",
    "transcript['amount'] = transcript.value.apply(amount_col)\n",
    "\n",
    "# change amount column type to float\n",
    "transcript.amount.astype('float')\n",
    "\n",
    "# drop value column\n",
    "transcript.drop(columns=['value'], inplace=True)"
   ]
  },
  {
   "cell_type": "code",
   "execution_count": 28,
   "metadata": {},
   "outputs": [
    {
     "data": {
      "text/html": [
       "<div>\n",
       "<style scoped>\n",
       "    .dataframe tbody tr th:only-of-type {\n",
       "        vertical-align: middle;\n",
       "    }\n",
       "\n",
       "    .dataframe tbody tr th {\n",
       "        vertical-align: top;\n",
       "    }\n",
       "\n",
       "    .dataframe thead th {\n",
       "        text-align: right;\n",
       "    }\n",
       "</style>\n",
       "<table border=\"1\" class=\"dataframe\">\n",
       "  <thead>\n",
       "    <tr style=\"text-align: right;\">\n",
       "      <th></th>\n",
       "      <th>event</th>\n",
       "      <th>customer_id</th>\n",
       "      <th>time</th>\n",
       "      <th>offer_id</th>\n",
       "      <th>amount</th>\n",
       "    </tr>\n",
       "  </thead>\n",
       "  <tbody>\n",
       "    <tr>\n",
       "      <th>0</th>\n",
       "      <td>offer received</td>\n",
       "      <td>78afa995795e4d85b5d9ceeca43f5fef</td>\n",
       "      <td>0</td>\n",
       "      <td>9b98b8c7a33c4b65b9aebfe6a799e6d9</td>\n",
       "      <td>NaN</td>\n",
       "    </tr>\n",
       "    <tr>\n",
       "      <th>1</th>\n",
       "      <td>offer received</td>\n",
       "      <td>a03223e636434f42ac4c3df47e8bac43</td>\n",
       "      <td>0</td>\n",
       "      <td>0b1e1539f2cc45b7b9fa7c272da2e1d7</td>\n",
       "      <td>NaN</td>\n",
       "    </tr>\n",
       "    <tr>\n",
       "      <th>2</th>\n",
       "      <td>offer received</td>\n",
       "      <td>e2127556f4f64592b11af22de27a7932</td>\n",
       "      <td>0</td>\n",
       "      <td>2906b810c7d4411798c6938adc9daaa5</td>\n",
       "      <td>NaN</td>\n",
       "    </tr>\n",
       "    <tr>\n",
       "      <th>3</th>\n",
       "      <td>offer received</td>\n",
       "      <td>8ec6ce2a7e7949b1bf142def7d0e0586</td>\n",
       "      <td>0</td>\n",
       "      <td>fafdcd668e3743c1bb461111dcafc2a4</td>\n",
       "      <td>NaN</td>\n",
       "    </tr>\n",
       "    <tr>\n",
       "      <th>4</th>\n",
       "      <td>offer received</td>\n",
       "      <td>68617ca6246f4fbc85e91a2a49552598</td>\n",
       "      <td>0</td>\n",
       "      <td>4d5c57ea9a6940dd891ad53e9dbe8da0</td>\n",
       "      <td>NaN</td>\n",
       "    </tr>\n",
       "  </tbody>\n",
       "</table>\n",
       "</div>"
      ],
      "text/plain": [
       "            event                       customer_id  time  \\\n",
       "0  offer received  78afa995795e4d85b5d9ceeca43f5fef     0   \n",
       "1  offer received  a03223e636434f42ac4c3df47e8bac43     0   \n",
       "2  offer received  e2127556f4f64592b11af22de27a7932     0   \n",
       "3  offer received  8ec6ce2a7e7949b1bf142def7d0e0586     0   \n",
       "4  offer received  68617ca6246f4fbc85e91a2a49552598     0   \n",
       "\n",
       "                           offer_id  amount  \n",
       "0  9b98b8c7a33c4b65b9aebfe6a799e6d9     NaN  \n",
       "1  0b1e1539f2cc45b7b9fa7c272da2e1d7     NaN  \n",
       "2  2906b810c7d4411798c6938adc9daaa5     NaN  \n",
       "3  fafdcd668e3743c1bb461111dcafc2a4     NaN  \n",
       "4  4d5c57ea9a6940dd891ad53e9dbe8da0     NaN  "
      ]
     },
     "execution_count": 28,
     "metadata": {},
     "output_type": "execute_result"
    }
   ],
   "source": [
    "transcript.head()"
   ]
  },
  {
   "cell_type": "code",
   "execution_count": 29,
   "metadata": {},
   "outputs": [
    {
     "data": {
      "text/plain": [
       "event          397\n",
       "customer_id    397\n",
       "time           397\n",
       "offer_id       397\n",
       "amount           0\n",
       "dtype: int64"
      ]
     },
     "execution_count": 29,
     "metadata": {},
     "output_type": "execute_result"
    }
   ],
   "source": [
    "#Checking for the duplicate values\n",
    "transcript[transcript.duplicated()].count()"
   ]
  },
  {
   "cell_type": "code",
   "execution_count": 30,
   "metadata": {},
   "outputs": [
    {
     "name": "stdout",
     "output_type": "stream",
     "text": [
      "306534\n"
     ]
    }
   ],
   "source": [
    "#No of rows before deleting the duplicates\n",
    "print(transcript.shape[0])"
   ]
  },
  {
   "cell_type": "markdown",
   "metadata": {},
   "source": [
    "Some person had completed the same offer twice  so we need to remove those duplicate values."
   ]
  },
  {
   "cell_type": "code",
   "execution_count": 31,
   "metadata": {},
   "outputs": [
    {
     "name": "stdout",
     "output_type": "stream",
     "text": [
      "306137\n"
     ]
    }
   ],
   "source": [
    "# droping the duplicate values, and reset the index\n",
    "transcript.drop_duplicates(inplace=True)\n",
    "\n",
    "transcript.reset_index(drop=True, inplace=True)\n",
    "\n",
    "# No of rows after deleting the duplicates\n",
    "print(transcript.shape[0])"
   ]
  },
  {
   "cell_type": "code",
   "execution_count": 32,
   "metadata": {},
   "outputs": [],
   "source": [
    "#drop transaction rows whose customer_id is not in profile:customer_id data\n",
    "transcript = transcript[transcript.customer_id.isin(profile.customer_id)]"
   ]
  },
  {
   "cell_type": "code",
   "execution_count": 33,
   "metadata": {},
   "outputs": [],
   "source": [
    "# Converting the time into day format\n",
    "transcript['time'] = transcript['time']/ 24.0"
   ]
  },
  {
   "cell_type": "markdown",
   "metadata": {},
   "source": [
    "#### 2.3.1 Creating Transaction DataFrame\n",
    "Need to store transaction data in a seperate data frame for easy analysis."
   ]
  },
  {
   "cell_type": "code",
   "execution_count": 34,
   "metadata": {},
   "outputs": [
    {
     "data": {
      "text/html": [
       "<div>\n",
       "<style scoped>\n",
       "    .dataframe tbody tr th:only-of-type {\n",
       "        vertical-align: middle;\n",
       "    }\n",
       "\n",
       "    .dataframe tbody tr th {\n",
       "        vertical-align: top;\n",
       "    }\n",
       "\n",
       "    .dataframe thead th {\n",
       "        text-align: right;\n",
       "    }\n",
       "</style>\n",
       "<table border=\"1\" class=\"dataframe\">\n",
       "  <thead>\n",
       "    <tr style=\"text-align: right;\">\n",
       "      <th></th>\n",
       "      <th>customer_id</th>\n",
       "      <th>time</th>\n",
       "      <th>amount</th>\n",
       "    </tr>\n",
       "  </thead>\n",
       "  <tbody>\n",
       "    <tr>\n",
       "      <th>12654</th>\n",
       "      <td>02c083884c7d45b39cc68e1314fec56c</td>\n",
       "      <td>0.0</td>\n",
       "      <td>0.83</td>\n",
       "    </tr>\n",
       "    <tr>\n",
       "      <th>12657</th>\n",
       "      <td>9fa9ae8f57894cc9a3b8a9bbe0fc1b2f</td>\n",
       "      <td>0.0</td>\n",
       "      <td>34.56</td>\n",
       "    </tr>\n",
       "    <tr>\n",
       "      <th>12659</th>\n",
       "      <td>54890f68699049c2a04d415abc25e717</td>\n",
       "      <td>0.0</td>\n",
       "      <td>13.23</td>\n",
       "    </tr>\n",
       "    <tr>\n",
       "      <th>12670</th>\n",
       "      <td>b2f1cd155b864803ad8334cdf13c4bd2</td>\n",
       "      <td>0.0</td>\n",
       "      <td>19.51</td>\n",
       "    </tr>\n",
       "    <tr>\n",
       "      <th>12671</th>\n",
       "      <td>fe97aa22dd3e48c8b143116a8403dd52</td>\n",
       "      <td>0.0</td>\n",
       "      <td>18.97</td>\n",
       "    </tr>\n",
       "  </tbody>\n",
       "</table>\n",
       "</div>"
      ],
      "text/plain": [
       "                            customer_id  time  amount\n",
       "12654  02c083884c7d45b39cc68e1314fec56c   0.0    0.83\n",
       "12657  9fa9ae8f57894cc9a3b8a9bbe0fc1b2f   0.0   34.56\n",
       "12659  54890f68699049c2a04d415abc25e717   0.0   13.23\n",
       "12670  b2f1cd155b864803ad8334cdf13c4bd2   0.0   19.51\n",
       "12671  fe97aa22dd3e48c8b143116a8403dd52   0.0   18.97"
      ]
     },
     "execution_count": 34,
     "metadata": {},
     "output_type": "execute_result"
    }
   ],
   "source": [
    "#segregate offer and transaction data \n",
    "\n",
    "# extract transactions from transcript data\n",
    "transaction_df = transcript[transcript.event=='transaction'].copy()\n",
    "transaction_df.drop(columns=['offer_id', 'event'], inplace=True)\n",
    "transaction_df.head()"
   ]
  },
  {
   "cell_type": "markdown",
   "metadata": {},
   "source": [
    "#### 2.3.2 Creating Offers DataFrame\n",
    "\n",
    "Same thing we need to do with offers. We need to store the offer related data in a seperate dataframe."
   ]
  },
  {
   "cell_type": "code",
   "execution_count": 35,
   "metadata": {},
   "outputs": [
    {
     "data": {
      "text/html": [
       "<div>\n",
       "<style scoped>\n",
       "    .dataframe tbody tr th:only-of-type {\n",
       "        vertical-align: middle;\n",
       "    }\n",
       "\n",
       "    .dataframe tbody tr th {\n",
       "        vertical-align: top;\n",
       "    }\n",
       "\n",
       "    .dataframe thead th {\n",
       "        text-align: right;\n",
       "    }\n",
       "</style>\n",
       "<table border=\"1\" class=\"dataframe\">\n",
       "  <thead>\n",
       "    <tr style=\"text-align: right;\">\n",
       "      <th></th>\n",
       "      <th>customer_id</th>\n",
       "      <th>time</th>\n",
       "      <th>offer_id</th>\n",
       "      <th>completed</th>\n",
       "      <th>received</th>\n",
       "      <th>viewed</th>\n",
       "    </tr>\n",
       "  </thead>\n",
       "  <tbody>\n",
       "    <tr>\n",
       "      <th>0</th>\n",
       "      <td>78afa995795e4d85b5d9ceeca43f5fef</td>\n",
       "      <td>0.0</td>\n",
       "      <td>9b98b8c7a33c4b65b9aebfe6a799e6d9</td>\n",
       "      <td>0</td>\n",
       "      <td>1</td>\n",
       "      <td>0</td>\n",
       "    </tr>\n",
       "    <tr>\n",
       "      <th>2</th>\n",
       "      <td>e2127556f4f64592b11af22de27a7932</td>\n",
       "      <td>0.0</td>\n",
       "      <td>2906b810c7d4411798c6938adc9daaa5</td>\n",
       "      <td>0</td>\n",
       "      <td>1</td>\n",
       "      <td>0</td>\n",
       "    </tr>\n",
       "    <tr>\n",
       "      <th>5</th>\n",
       "      <td>389bc3fa690240e798340f5a15918d5c</td>\n",
       "      <td>0.0</td>\n",
       "      <td>f19421c1d4aa40978ebb69ca19b0e20d</td>\n",
       "      <td>0</td>\n",
       "      <td>1</td>\n",
       "      <td>0</td>\n",
       "    </tr>\n",
       "    <tr>\n",
       "      <th>7</th>\n",
       "      <td>2eeac8d8feae4a8cad5a6af0499a211d</td>\n",
       "      <td>0.0</td>\n",
       "      <td>3f207df678b143eea3cee63160fa8bed</td>\n",
       "      <td>0</td>\n",
       "      <td>1</td>\n",
       "      <td>0</td>\n",
       "    </tr>\n",
       "    <tr>\n",
       "      <th>8</th>\n",
       "      <td>aa4862eba776480b8bb9c68455b8c2e1</td>\n",
       "      <td>0.0</td>\n",
       "      <td>0b1e1539f2cc45b7b9fa7c272da2e1d7</td>\n",
       "      <td>0</td>\n",
       "      <td>1</td>\n",
       "      <td>0</td>\n",
       "    </tr>\n",
       "  </tbody>\n",
       "</table>\n",
       "</div>"
      ],
      "text/plain": [
       "                        customer_id  time                          offer_id  \\\n",
       "0  78afa995795e4d85b5d9ceeca43f5fef   0.0  9b98b8c7a33c4b65b9aebfe6a799e6d9   \n",
       "2  e2127556f4f64592b11af22de27a7932   0.0  2906b810c7d4411798c6938adc9daaa5   \n",
       "5  389bc3fa690240e798340f5a15918d5c   0.0  f19421c1d4aa40978ebb69ca19b0e20d   \n",
       "7  2eeac8d8feae4a8cad5a6af0499a211d   0.0  3f207df678b143eea3cee63160fa8bed   \n",
       "8  aa4862eba776480b8bb9c68455b8c2e1   0.0  0b1e1539f2cc45b7b9fa7c272da2e1d7   \n",
       "\n",
       "   completed  received  viewed  \n",
       "0          0         1       0  \n",
       "2          0         1       0  \n",
       "5          0         1       0  \n",
       "7          0         1       0  \n",
       "8          0         1       0  "
      ]
     },
     "execution_count": 35,
     "metadata": {},
     "output_type": "execute_result"
    }
   ],
   "source": [
    "# extract offer-related from transcript data\n",
    "offers_df = transcript[transcript.event!='transaction'].copy()\n",
    "\n",
    "# one-hot encode offer event\n",
    "event_col= ['event']\n",
    "offers_df= one_hot_encoding(offers_df, event_col)\n",
    "\n",
    "#Renaming the columns\n",
    "offers_df.rename(columns={'event_offer completed': 'completed', 'event_offer received' : 'received',\n",
    "                          'event_offer viewed': 'viewed' }, inplace= True)\n",
    "\n",
    "offers_df.drop(columns=['amount'], inplace=True)\n",
    "offers_df.head()"
   ]
  },
  {
   "cell_type": "markdown",
   "metadata": {},
   "source": [
    "## 3. Data Analysis\n",
    "\n",
    "After cleaning the data it is important to do some data analysis to get some more insights from data and establish a relation between these data sets."
   ]
  },
  {
   "cell_type": "markdown",
   "metadata": {},
   "source": [
    "### 3.1 Profile Data\n",
    "\n",
    "Before analysing the profile data lets recollect the some key points from Data Undersating :\n",
    "1. Most of the customers lies in the middle age group that is between 30 to 70.\n",
    "2. Male customers are more than the female customers.\n",
    "3. The graph was skewed to right that means most of the customers belongs to average income bracket."
   ]
  },
  {
   "cell_type": "code",
   "execution_count": 36,
   "metadata": {},
   "outputs": [
    {
     "data": {
      "text/html": [
       "<div>\n",
       "<style scoped>\n",
       "    .dataframe tbody tr th:only-of-type {\n",
       "        vertical-align: middle;\n",
       "    }\n",
       "\n",
       "    .dataframe tbody tr th {\n",
       "        vertical-align: top;\n",
       "    }\n",
       "\n",
       "    .dataframe thead th {\n",
       "        text-align: right;\n",
       "    }\n",
       "</style>\n",
       "<table border=\"1\" class=\"dataframe\">\n",
       "  <thead>\n",
       "    <tr style=\"text-align: right;\">\n",
       "      <th></th>\n",
       "      <th>age</th>\n",
       "      <th>became_member_on</th>\n",
       "      <th>customer_id</th>\n",
       "      <th>income</th>\n",
       "      <th>became_member_year</th>\n",
       "      <th>became_member_month</th>\n",
       "      <th>Female</th>\n",
       "      <th>Male</th>\n",
       "      <th>Others</th>\n",
       "    </tr>\n",
       "  </thead>\n",
       "  <tbody>\n",
       "    <tr>\n",
       "      <th>1</th>\n",
       "      <td>55.0</td>\n",
       "      <td>2017-07-15</td>\n",
       "      <td>0610b486422d4921ae7d2bf64640c50b</td>\n",
       "      <td>112000.0</td>\n",
       "      <td>2017</td>\n",
       "      <td>7</td>\n",
       "      <td>1</td>\n",
       "      <td>0</td>\n",
       "      <td>0</td>\n",
       "    </tr>\n",
       "    <tr>\n",
       "      <th>3</th>\n",
       "      <td>75.0</td>\n",
       "      <td>2017-05-09</td>\n",
       "      <td>78afa995795e4d85b5d9ceeca43f5fef</td>\n",
       "      <td>100000.0</td>\n",
       "      <td>2017</td>\n",
       "      <td>5</td>\n",
       "      <td>1</td>\n",
       "      <td>0</td>\n",
       "      <td>0</td>\n",
       "    </tr>\n",
       "    <tr>\n",
       "      <th>5</th>\n",
       "      <td>68.0</td>\n",
       "      <td>2018-04-26</td>\n",
       "      <td>e2127556f4f64592b11af22de27a7932</td>\n",
       "      <td>70000.0</td>\n",
       "      <td>2018</td>\n",
       "      <td>4</td>\n",
       "      <td>0</td>\n",
       "      <td>1</td>\n",
       "      <td>0</td>\n",
       "    </tr>\n",
       "    <tr>\n",
       "      <th>8</th>\n",
       "      <td>65.0</td>\n",
       "      <td>2018-02-09</td>\n",
       "      <td>389bc3fa690240e798340f5a15918d5c</td>\n",
       "      <td>53000.0</td>\n",
       "      <td>2018</td>\n",
       "      <td>2</td>\n",
       "      <td>0</td>\n",
       "      <td>1</td>\n",
       "      <td>0</td>\n",
       "    </tr>\n",
       "    <tr>\n",
       "      <th>12</th>\n",
       "      <td>58.0</td>\n",
       "      <td>2017-11-11</td>\n",
       "      <td>2eeac8d8feae4a8cad5a6af0499a211d</td>\n",
       "      <td>51000.0</td>\n",
       "      <td>2017</td>\n",
       "      <td>11</td>\n",
       "      <td>0</td>\n",
       "      <td>1</td>\n",
       "      <td>0</td>\n",
       "    </tr>\n",
       "  </tbody>\n",
       "</table>\n",
       "</div>"
      ],
      "text/plain": [
       "     age became_member_on                       customer_id    income  \\\n",
       "1   55.0       2017-07-15  0610b486422d4921ae7d2bf64640c50b  112000.0   \n",
       "3   75.0       2017-05-09  78afa995795e4d85b5d9ceeca43f5fef  100000.0   \n",
       "5   68.0       2018-04-26  e2127556f4f64592b11af22de27a7932   70000.0   \n",
       "8   65.0       2018-02-09  389bc3fa690240e798340f5a15918d5c   53000.0   \n",
       "12  58.0       2017-11-11  2eeac8d8feae4a8cad5a6af0499a211d   51000.0   \n",
       "\n",
       "    became_member_year  became_member_month  Female  Male  Others  \n",
       "1                 2017                    7       1     0       0  \n",
       "3                 2017                    5       1     0       0  \n",
       "5                 2018                    4       0     1       0  \n",
       "8                 2018                    2       0     1       0  \n",
       "12                2017                   11       0     1       0  "
      ]
     },
     "execution_count": 36,
     "metadata": {},
     "output_type": "execute_result"
    }
   ],
   "source": [
    "profile.head()"
   ]
  },
  {
   "cell_type": "markdown",
   "metadata": {},
   "source": [
    "#### 3.1.1 Income Distribution vs Gender Distribution\n",
    "Since we have created the dummy variable columns for gender column therefore, now we can drill down more into the data.\n",
    "Firstly lets analyse the incomes of Male and Female."
   ]
  },
  {
   "cell_type": "code",
   "execution_count": 37,
   "metadata": {},
   "outputs": [
    {
     "name": "stdout",
     "output_type": "stream",
     "text": [
      "Male Average Income 61194.60160301744\n",
      "Female Average Income 71306.41213901126\n",
      "Others Average Income 63287.735849056604\n"
     ]
    }
   ],
   "source": [
    "#Average income of different Gender group\n",
    "print('Male Average Income {}'.format(profile[(profile['Male']==1)]['income'].mean()))\n",
    "print('Female Average Income {}'.format(profile[(profile['Female']==1)]['income'].mean()))\n",
    "print('Others Average Income {}'.format(profile[(profile['Others']==1)]['income'].mean()))"
   ]
  },
  {
   "cell_type": "code",
   "execution_count": 38,
   "metadata": {},
   "outputs": [
    {
     "data": {
      "image/png": "[encoded data removed]",
      "text/plain": [
       "<matplotlib.figure.Figure at 0x7fb12f230978>"
      ]
     },
     "metadata": {
      "needs_background": "light"
     },
     "output_type": "display_data"
    }
   ],
   "source": [
    "# extract male and female customers\n",
    "male_customers = profile[profile['Male'] == 1]\n",
    "female_customers = profile[profile['Female'] == 1]\n",
    "\n",
    "# to be able to draw two subplots in a row\n",
    "fig, ax = plt.subplots(figsize=(10, 4), nrows=1, ncols=2, sharex=True, sharey=True)\n",
    "\n",
    "current_palette = sns.color_palette()\n",
    "sns.set(font_scale=1.5)\n",
    "sns.set_style('white')\n",
    "\n",
    "# plot a male customers income distribution\n",
    "plt.sca(ax[0])\n",
    "sns.distplot(male_customers['income'] * 1E-3, color=current_palette[1])\n",
    "plt.xlabel('Income [10K]')\n",
    "plt.ylabel('Income')\n",
    "plt.title('Male Customer Income')\n",
    "\n",
    "# plot a female customers income distribution\n",
    "plt.sca(ax[1])\n",
    "sns.distplot(female_customers['income'] * 1E-3, color=current_palette[0])\n",
    "plt.xlabel('Income [10K]')\n",
    "plt.ylabel('Income')\n",
    "plt.title('Female Customer Income')\n",
    "plt.tight_layout()"
   ]
  },
  {
   "cell_type": "markdown",
   "metadata": {},
   "source": [
    "Results suggest that the minimum and maximum income for both male and female customers are approximately the same. However, male customer income is slightly biased towards lower values compared to female customer income."
   ]
  },
  {
   "cell_type": "markdown",
   "metadata": {},
   "source": [
    "#### 3.1.2 Evaluate Membership Start Year Statistics"
   ]
  },
  {
   "cell_type": "code",
   "execution_count": 39,
   "metadata": {},
   "outputs": [
    {
     "data": {
      "image/png": "[encoded data removed]",
      "text/plain": [
       "<matplotlib.figure.Figure at 0x7fb12f24a710>"
      ]
     },
     "metadata": {},
     "output_type": "display_data"
    }
   ],
   "source": [
    "# groupby start_year and gender to plot a graph\n",
    "membership_date = profile.groupby(['became_member_year', 'Male']).size()\n",
    "membership_date = membership_date.reset_index()\n",
    "membership_date.columns = ['became_member_year', 'Male',  'count']\n",
    "\n",
    "# plot a bar graph for age distribution as a function of gender in membership program\n",
    "plt.figure(figsize=(10, 5))\n",
    "sns.barplot(x='became_member_year', y='count', hue='Male', data=membership_date)\n",
    "l= plt.legend()\n",
    "l.get_texts()[0].set_text('Female')\n",
    "l.get_texts()[1].set_text('Male')\n",
    "plt.xlabel('Membership Start Year')\n",
    "plt.ylabel('Count');"
   ]
  },
  {
   "cell_type": "markdown",
   "metadata": {},
   "source": [
    "**Observations**\n",
    "1. The result suggest that some intresting facts here. We can see that there is an increase in the number of customers from year 2017.\n",
    "2. There are more increase in numbers of Male as compared to Female. One fact we already know from Data Undersatnding that there are more number of male customers as compared to "
   ]
  },
  {
   "cell_type": "markdown",
   "metadata": {},
   "source": [
    "#### 3.1.3 Evaluating Age and Gender Statistics\n",
    "\n",
    "We will analyse the behavior of Male Female transaction habbits."
   ]
  },
  {
   "cell_type": "code",
   "execution_count": 40,
   "metadata": {},
   "outputs": [
    {
     "data": {
      "text/html": [
       "<div>\n",
       "<style scoped>\n",
       "    .dataframe tbody tr th:only-of-type {\n",
       "        vertical-align: middle;\n",
       "    }\n",
       "\n",
       "    .dataframe tbody tr th {\n",
       "        vertical-align: top;\n",
       "    }\n",
       "\n",
       "    .dataframe thead th {\n",
       "        text-align: right;\n",
       "    }\n",
       "</style>\n",
       "<table border=\"1\" class=\"dataframe\">\n",
       "  <thead>\n",
       "    <tr style=\"text-align: right;\">\n",
       "      <th></th>\n",
       "      <th>Male</th>\n",
       "      <th>Female</th>\n",
       "    </tr>\n",
       "    <tr>\n",
       "      <th>age</th>\n",
       "      <th></th>\n",
       "      <th></th>\n",
       "    </tr>\n",
       "  </thead>\n",
       "  <tbody>\n",
       "    <tr>\n",
       "      <th>(0, 10]</th>\n",
       "      <td>0.0</td>\n",
       "      <td>0.0</td>\n",
       "    </tr>\n",
       "    <tr>\n",
       "      <th>(10, 20]</th>\n",
       "      <td>256.0</td>\n",
       "      <td>80.0</td>\n",
       "    </tr>\n",
       "    <tr>\n",
       "      <th>(20, 30]</th>\n",
       "      <td>953.0</td>\n",
       "      <td>398.0</td>\n",
       "    </tr>\n",
       "    <tr>\n",
       "      <th>(30, 40]</th>\n",
       "      <td>1049.0</td>\n",
       "      <td>522.0</td>\n",
       "    </tr>\n",
       "    <tr>\n",
       "      <th>(40, 50]</th>\n",
       "      <td>1457.0</td>\n",
       "      <td>898.0</td>\n",
       "    </tr>\n",
       "    <tr>\n",
       "      <th>(50, 60]</th>\n",
       "      <td>1953.0</td>\n",
       "      <td>1574.0</td>\n",
       "    </tr>\n",
       "    <tr>\n",
       "      <th>(60, 70]</th>\n",
       "      <td>1549.0</td>\n",
       "      <td>1327.0</td>\n",
       "    </tr>\n",
       "    <tr>\n",
       "      <th>(70, 80]</th>\n",
       "      <td>852.0</td>\n",
       "      <td>771.0</td>\n",
       "    </tr>\n",
       "    <tr>\n",
       "      <th>(80, 90]</th>\n",
       "      <td>334.0</td>\n",
       "      <td>423.0</td>\n",
       "    </tr>\n",
       "    <tr>\n",
       "      <th>(90, 100]</th>\n",
       "      <td>81.0</td>\n",
       "      <td>131.0</td>\n",
       "    </tr>\n",
       "    <tr>\n",
       "      <th>(100, 110]</th>\n",
       "      <td>0.0</td>\n",
       "      <td>5.0</td>\n",
       "    </tr>\n",
       "    <tr>\n",
       "      <th>(110, 120]</th>\n",
       "      <td>0.0</td>\n",
       "      <td>0.0</td>\n",
       "    </tr>\n",
       "  </tbody>\n",
       "</table>\n",
       "</div>"
      ],
      "text/plain": [
       "              Male  Female\n",
       "age                       \n",
       "(0, 10]        0.0     0.0\n",
       "(10, 20]     256.0    80.0\n",
       "(20, 30]     953.0   398.0\n",
       "(30, 40]    1049.0   522.0\n",
       "(40, 50]    1457.0   898.0\n",
       "(50, 60]    1953.0  1574.0\n",
       "(60, 70]    1549.0  1327.0\n",
       "(70, 80]     852.0   771.0\n",
       "(80, 90]     334.0   423.0\n",
       "(90, 100]     81.0   131.0\n",
       "(100, 110]     0.0     5.0\n",
       "(110, 120]     0.0     0.0"
      ]
     },
     "execution_count": 40,
     "metadata": {},
     "output_type": "execute_result"
    }
   ],
   "source": [
    "#Age vs Gender Transaction\n",
    "agegroup_gender= profile.groupby(pd.cut(profile['age'] ,  np.arange(0, 118+10, 10)))['Male', 'Female'].sum()\n",
    "agegroup_gender"
   ]
  },
  {
   "cell_type": "markdown",
   "metadata": {},
   "source": [
    "**Observations of Profile Analysis**\n",
    "\n",
    "1. From the Data understanding part we can say that high-income users are not the main users; but the low-income users and the medium income users have the most transaction amount.\n",
    "2. Whereas the high-level females transaction amount is higher than the high-level males.\n",
    "3. Above Analysis also suggest that there is not much difference in Male and Female income.However, male customer income is slightly biased towards lower values compared to female customer income.\n",
    "4. There is a increase in transaction after year 2016.\n",
    "5. We noticed more noticible spike in male transaction as compared to female transaction."
   ]
  },
  {
   "cell_type": "markdown",
   "metadata": {},
   "source": [
    "### 3.2 Transaction Data\n",
    "\n",
    "Before analysing the transaction data lets note down the point that we already know from Data understanding.\n",
    "\n",
    "1. The Transcript data was divided into two parts. First is transaction which comprises 45% of the data set and seccond part is offers which comprises 54% of the the dataset.\n",
    "2. We already segregated this data in two parts in **Data Processing**.\n",
    "\n",
    "To analyse transaction data first we need to combine transaction data with profile data, portfolio data an offers data.\n",
    "\n",
    "For Each customer we need to apply following algorithm:\n",
    "\n",
    "1. Iterate over each offer a customer receives\n",
    "2. Initialize the current offer id\n",
    "3. Look-up a description of the current offer\n",
    "4. Initialize the time period when an offer is valid\n",
    "5. Initialize a Boolean array that select customer transactions that fall within the valid offer time window\n",
    "6. Initialize a Boolean array that selects a description of when a customer completes an offer (this array may not contain any True values)\n",
    "7. Initialize a Boolean array that selects a description of when a customer views an offer (this array may not contain any True values)\n",
    "8. Determine whether the current offer was successful\n",
    "9. Select customer transactions that occurred within the current offer valid time window\n",
    "10. Initialize a dictionary that describes the current customer offer\n",
    "11. Update a list of dictionaries that describes the effectiveness of offers to a specific customer\n",
    "\n",
    "Once all customer transactions have been evaluated, convert the resulting list of dictionaries into a pandas DataFrame."
   ]
  },
  {
   "cell_type": "markdown",
   "metadata": {},
   "source": [
    "#### 3.2.1 Combining Data"
   ]
  },
  {
   "cell_type": "code",
   "execution_count": 41,
   "metadata": {},
   "outputs": [],
   "source": [
    "def combine_data(profile, portfolio, offers_df, transaction_df):\n",
    "    \n",
    "    '''\n",
    "    INPUT- 4 Data frame which needs to be combine\n",
    "    OUTPUT- Combine 4 dataframe and gives output on the basis viewed offer is completed or not in the given time frame.\n",
    "    '''\n",
    "    \n",
    "    data = []\n",
    "    customer_ids = offers_df['customer_id'].unique()\n",
    "    \n",
    "    widgets=[\n",
    "        ' [', progressbar.Timer(), '] ',\n",
    "        progressbar.Bar(),\n",
    "        ' (', progressbar.ETA(), ') ',\n",
    "    ]\n",
    "    \n",
    "    # loop through all customer ids in offers_df\n",
    "    for cus in progressbar.progressbar(range(len(customer_ids)), widgets=widgets):\n",
    "        \n",
    "        # get customer id from the list\n",
    "        cust_id = customer_ids[cus]\n",
    "        \n",
    "        # extract customer profile from profile data\n",
    "        customer = profile[profile['customer_id']==cust_id]\n",
    "        \n",
    "        # extract offers associated with the customer from offers_df\n",
    "        customer_offer_data = offers_df[offers_df['customer_id']==cust_id]\n",
    "        \n",
    "        # extract transactions associated with the customer from transactions_df\n",
    "        customer_transaction_data = transaction_df[transaction_df['customer_id']==cust_id]\n",
    "        \n",
    "        # extract received, completed, viewed offer data from customer offers\n",
    "        offer_received_data = customer_offer_data[customer_offer_data['received'] == 1]\n",
    "        offer_completed_data = customer_offer_data[customer_offer_data['completed'] == 1]\n",
    "        offer_viewed_data = customer_offer_data[customer_offer_data['viewed'] == 1]\n",
    "        \n",
    "        rows = []\n",
    "        # loop through each received offer\n",
    "        for i in range(offer_received_data.shape[0]):\n",
    "            \n",
    "            # fetch an offer id \n",
    "            offer_id = offer_received_data.iloc[i]['offer_id']\n",
    "            \n",
    "            # extract offer row from portfolio\n",
    "            offer_row = portfolio.loc[portfolio['offer_id'] == offer_id]\n",
    "            \n",
    "            # extract duration days of an offer from offer row\n",
    "            duration_days = offer_row['duration'].values[0]\n",
    "            \n",
    "            # initialize start and end time of an offer\n",
    "            start_time = offer_received_data.iloc[i]['time']\n",
    "            end_time = start_time + duration_days\n",
    "        \n",
    "            # seggregate offers completed within end date\n",
    "            off_completed_withintime = np.logical_and(\n",
    "                offer_completed_data['time'] >= start_time, offer_completed_data['time'] <= end_time)\n",
    "            \n",
    "            # seggregate offers viewed within end date\n",
    "            off_viewed_withintime = np.logical_and(\n",
    "                offer_viewed_data['time'] >= start_time, offer_viewed_data['time'] <=end_time)\n",
    "\n",
    "            # flag offer_successful to 1 if an offer is viewed and completed within end time else to 0\n",
    "            offer_successful = off_completed_withintime.sum() > 0 and off_viewed_withintime.sum() > 0\n",
    "            \n",
    "            # extract transactions occured within time\n",
    "            transaction_withintime = np.logical_and(\n",
    "                customer_transaction_data['time'] >= start_time, customer_transaction_data['time'] <= end_time)\n",
    "        \n",
    "            transaction_data = customer_transaction_data[transaction_withintime]\n",
    "            \n",
    "            # total amount spent by a customer from given offers\n",
    "            transaction_total_amount = transaction_data['amount'].sum()\n",
    "            \n",
    "            row = {\n",
    "                'offer_id': offer_id,\n",
    "                'customer_id': cust_id,\n",
    "                'time': start_time,\n",
    "                'total_amount': transaction_total_amount,\n",
    "                'offer_successful': int(offer_successful),\n",
    "            }\n",
    "                \n",
    "            row.update(offer_row.iloc[0,0:].to_dict())\n",
    "\n",
    "            row.update(customer.iloc[0,:].to_dict())\n",
    "\n",
    "            rows.append(row)\n",
    "        \n",
    "        data.extend(rows)\n",
    "    \n",
    "    data = pd.DataFrame(data)\n",
    "    return data"
   ]
  },
  {
   "cell_type": "code",
   "execution_count": 42,
   "metadata": {},
   "outputs": [
    {
     "name": "stderr",
     "output_type": "stream",
     "text": [
      " [Elapsed Time: 0:14:18] |##################################| (Time:  0:14:18) \n"
     ]
    }
   ],
   "source": [
    "data = combine_data(profile, portfolio, offers_df, transaction_df)"
   ]
  },
  {
   "cell_type": "code",
   "execution_count": 43,
   "metadata": {},
   "outputs": [
    {
     "data": {
      "text/html": [
       "<div>\n",
       "<style scoped>\n",
       "    .dataframe tbody tr th:only-of-type {\n",
       "        vertical-align: middle;\n",
       "    }\n",
       "\n",
       "    .dataframe tbody tr th {\n",
       "        vertical-align: top;\n",
       "    }\n",
       "\n",
       "    .dataframe thead th {\n",
       "        text-align: right;\n",
       "    }\n",
       "</style>\n",
       "<table border=\"1\" class=\"dataframe\">\n",
       "  <thead>\n",
       "    <tr style=\"text-align: right;\">\n",
       "      <th></th>\n",
       "      <th>Female</th>\n",
       "      <th>Male</th>\n",
       "      <th>Others</th>\n",
       "      <th>age</th>\n",
       "      <th>became_member_month</th>\n",
       "      <th>became_member_on</th>\n",
       "      <th>became_member_year</th>\n",
       "      <th>customer_id</th>\n",
       "      <th>difficulty</th>\n",
       "      <th>duration</th>\n",
       "      <th>...</th>\n",
       "      <th>offer_id</th>\n",
       "      <th>offer_successful</th>\n",
       "      <th>offer_type_bogo</th>\n",
       "      <th>offer_type_discount</th>\n",
       "      <th>offer_type_informational</th>\n",
       "      <th>reward</th>\n",
       "      <th>social</th>\n",
       "      <th>time</th>\n",
       "      <th>total_amount</th>\n",
       "      <th>web</th>\n",
       "    </tr>\n",
       "  </thead>\n",
       "  <tbody>\n",
       "    <tr>\n",
       "      <th>0</th>\n",
       "      <td>1</td>\n",
       "      <td>0</td>\n",
       "      <td>0</td>\n",
       "      <td>75.0</td>\n",
       "      <td>5</td>\n",
       "      <td>2017-05-09</td>\n",
       "      <td>2017</td>\n",
       "      <td>78afa995795e4d85b5d9ceeca43f5fef</td>\n",
       "      <td>5</td>\n",
       "      <td>7</td>\n",
       "      <td>...</td>\n",
       "      <td>9b98b8c7a33c4b65b9aebfe6a799e6d9</td>\n",
       "      <td>1</td>\n",
       "      <td>1</td>\n",
       "      <td>0</td>\n",
       "      <td>0</td>\n",
       "      <td>5</td>\n",
       "      <td>0</td>\n",
       "      <td>0.0</td>\n",
       "      <td>37.67</td>\n",
       "      <td>1</td>\n",
       "    </tr>\n",
       "    <tr>\n",
       "      <th>1</th>\n",
       "      <td>1</td>\n",
       "      <td>0</td>\n",
       "      <td>0</td>\n",
       "      <td>75.0</td>\n",
       "      <td>5</td>\n",
       "      <td>2017-05-09</td>\n",
       "      <td>2017</td>\n",
       "      <td>78afa995795e4d85b5d9ceeca43f5fef</td>\n",
       "      <td>0</td>\n",
       "      <td>3</td>\n",
       "      <td>...</td>\n",
       "      <td>5a8bc65990b245e5a138643cd4eb9837</td>\n",
       "      <td>0</td>\n",
       "      <td>0</td>\n",
       "      <td>0</td>\n",
       "      <td>1</td>\n",
       "      <td>0</td>\n",
       "      <td>1</td>\n",
       "      <td>7.0</td>\n",
       "      <td>49.39</td>\n",
       "      <td>0</td>\n",
       "    </tr>\n",
       "    <tr>\n",
       "      <th>2</th>\n",
       "      <td>1</td>\n",
       "      <td>0</td>\n",
       "      <td>0</td>\n",
       "      <td>75.0</td>\n",
       "      <td>5</td>\n",
       "      <td>2017-05-09</td>\n",
       "      <td>2017</td>\n",
       "      <td>78afa995795e4d85b5d9ceeca43f5fef</td>\n",
       "      <td>10</td>\n",
       "      <td>7</td>\n",
       "      <td>...</td>\n",
       "      <td>ae264e3637204a6fb9bb56bc8210ddfd</td>\n",
       "      <td>1</td>\n",
       "      <td>1</td>\n",
       "      <td>0</td>\n",
       "      <td>0</td>\n",
       "      <td>10</td>\n",
       "      <td>1</td>\n",
       "      <td>17.0</td>\n",
       "      <td>48.28</td>\n",
       "      <td>0</td>\n",
       "    </tr>\n",
       "    <tr>\n",
       "      <th>3</th>\n",
       "      <td>1</td>\n",
       "      <td>0</td>\n",
       "      <td>0</td>\n",
       "      <td>75.0</td>\n",
       "      <td>5</td>\n",
       "      <td>2017-05-09</td>\n",
       "      <td>2017</td>\n",
       "      <td>78afa995795e4d85b5d9ceeca43f5fef</td>\n",
       "      <td>5</td>\n",
       "      <td>5</td>\n",
       "      <td>...</td>\n",
       "      <td>f19421c1d4aa40978ebb69ca19b0e20d</td>\n",
       "      <td>1</td>\n",
       "      <td>1</td>\n",
       "      <td>0</td>\n",
       "      <td>0</td>\n",
       "      <td>5</td>\n",
       "      <td>1</td>\n",
       "      <td>21.0</td>\n",
       "      <td>48.28</td>\n",
       "      <td>1</td>\n",
       "    </tr>\n",
       "    <tr>\n",
       "      <th>4</th>\n",
       "      <td>0</td>\n",
       "      <td>1</td>\n",
       "      <td>0</td>\n",
       "      <td>68.0</td>\n",
       "      <td>4</td>\n",
       "      <td>2018-04-26</td>\n",
       "      <td>2018</td>\n",
       "      <td>e2127556f4f64592b11af22de27a7932</td>\n",
       "      <td>10</td>\n",
       "      <td>7</td>\n",
       "      <td>...</td>\n",
       "      <td>2906b810c7d4411798c6938adc9daaa5</td>\n",
       "      <td>0</td>\n",
       "      <td>0</td>\n",
       "      <td>1</td>\n",
       "      <td>0</td>\n",
       "      <td>2</td>\n",
       "      <td>0</td>\n",
       "      <td>0.0</td>\n",
       "      <td>0.00</td>\n",
       "      <td>1</td>\n",
       "    </tr>\n",
       "  </tbody>\n",
       "</table>\n",
       "<p>5 rows × 23 columns</p>\n",
       "</div>"
      ],
      "text/plain": [
       "   Female  Male  Others   age  became_member_month became_member_on  \\\n",
       "0       1     0       0  75.0                    5       2017-05-09   \n",
       "1       1     0       0  75.0                    5       2017-05-09   \n",
       "2       1     0       0  75.0                    5       2017-05-09   \n",
       "3       1     0       0  75.0                    5       2017-05-09   \n",
       "4       0     1       0  68.0                    4       2018-04-26   \n",
       "\n",
       "   became_member_year                       customer_id  difficulty  duration  \\\n",
       "0                2017  78afa995795e4d85b5d9ceeca43f5fef           5         7   \n",
       "1                2017  78afa995795e4d85b5d9ceeca43f5fef           0         3   \n",
       "2                2017  78afa995795e4d85b5d9ceeca43f5fef          10         7   \n",
       "3                2017  78afa995795e4d85b5d9ceeca43f5fef           5         5   \n",
       "4                2018  e2127556f4f64592b11af22de27a7932          10         7   \n",
       "\n",
       "  ...                           offer_id  offer_successful  offer_type_bogo  \\\n",
       "0 ...   9b98b8c7a33c4b65b9aebfe6a799e6d9                 1                1   \n",
       "1 ...   5a8bc65990b245e5a138643cd4eb9837                 0                0   \n",
       "2 ...   ae264e3637204a6fb9bb56bc8210ddfd                 1                1   \n",
       "3 ...   f19421c1d4aa40978ebb69ca19b0e20d                 1                1   \n",
       "4 ...   2906b810c7d4411798c6938adc9daaa5                 0                0   \n",
       "\n",
       "  offer_type_discount  offer_type_informational  reward  social  time  \\\n",
       "0                   0                         0       5       0   0.0   \n",
       "1                   0                         1       0       1   7.0   \n",
       "2                   0                         0      10       1  17.0   \n",
       "3                   0                         0       5       1  21.0   \n",
       "4                   1                         0       2       0   0.0   \n",
       "\n",
       "   total_amount  web  \n",
       "0         37.67    1  \n",
       "1         49.39    0  \n",
       "2         48.28    0  \n",
       "3         48.28    1  \n",
       "4          0.00    1  \n",
       "\n",
       "[5 rows x 23 columns]"
      ]
     },
     "execution_count": 43,
     "metadata": {},
     "output_type": "execute_result"
    }
   ],
   "source": [
    "data.head()"
   ]
  },
  {
   "cell_type": "code",
   "execution_count": 44,
   "metadata": {},
   "outputs": [
    {
     "data": {
      "text/plain": [
       "0    35136\n",
       "1    31365\n",
       "Name: offer_successful, dtype: int64"
      ]
     },
     "execution_count": 44,
     "metadata": {},
     "output_type": "execute_result"
    }
   ],
   "source": [
    "#Count of Succesfull\n",
    "data.offer_successful.value_counts()"
   ]
  },
  {
   "cell_type": "code",
   "execution_count": 45,
   "metadata": {},
   "outputs": [
    {
     "data": {
      "text/plain": [
       "Index(['Female', 'Male', 'Others', 'age', 'became_member_month',\n",
       "       'became_member_on', 'became_member_year', 'customer_id', 'difficulty',\n",
       "       'duration', 'email', 'income', 'mobile', 'offer_id', 'offer_successful',\n",
       "       'offer_type_bogo', 'offer_type_discount', 'offer_type_informational',\n",
       "       'reward', 'social', 'time', 'total_amount', 'web'],\n",
       "      dtype='object')"
      ]
     },
     "execution_count": 45,
     "metadata": {},
     "output_type": "execute_result"
    }
   ],
   "source": [
    "#Columns in our data\n",
    "data.columns"
   ]
  },
  {
   "cell_type": "markdown",
   "metadata": {},
   "source": [
    "#### 3.2.2 Loading and Reading the new data\n",
    "\n",
    "After cleaning and combining the data it is better we can save it to csv file for better data handling"
   ]
  },
  {
   "cell_type": "code",
   "execution_count": 46,
   "metadata": {},
   "outputs": [],
   "source": [
    "#expoting combied data to csv file\n",
    "data.to_csv('transaction_offer_analysis.csv', index=False)"
   ]
  },
  {
   "cell_type": "code",
   "execution_count": 47,
   "metadata": {},
   "outputs": [],
   "source": [
    "#Reading and storing the data from csv file\n",
    "data_df= pd.read_csv('transaction_offer_analysis.csv')"
   ]
  },
  {
   "cell_type": "markdown",
   "metadata": {},
   "source": [
    "#### 3.2.3 Analysing the Gender vs succesfull offer"
   ]
  },
  {
   "cell_type": "code",
   "execution_count": 48,
   "metadata": {},
   "outputs": [
    {
     "data": {
      "image/png": "[encoded data removed]",
      "text/plain": [
       "<matplotlib.figure.Figure at 0x7fb12f1a8c50>"
      ]
     },
     "metadata": {},
     "output_type": "display_data"
    }
   ],
   "source": [
    "gender_size= data_df.groupby(['Male','offer_successful']).size()\n",
    "gender_size= gender_size.reset_index()\n",
    "gender_size.columns = ['Male','offer_successful',  'count']\n",
    "\n",
    "# plot a bar graph for age distribution as a function of gender in membership program\n",
    "plt.figure(figsize=(10, 5))\n",
    "sns.barplot(x='Male', y='count', hue='offer_successful', data=gender_size)\n",
    "l= plt.legend()\n",
    "l.get_texts()[0].set_text('Yes')\n",
    "l.get_texts()[1].set_text('No')\n",
    "plt.xlabel('Gender')\n",
    "plt.ylabel('Success_Count');"
   ]
  },
  {
   "cell_type": "markdown",
   "metadata": {},
   "source": [
    "Here '0' is Female and '1' is male. From the graph we can say that more male are completeing the offers as compared to female."
   ]
  },
  {
   "cell_type": "markdown",
   "metadata": {},
   "source": [
    "#### 3.2.4 Analysing the Membership start year vs succesfull offer"
   ]
  },
  {
   "cell_type": "code",
   "execution_count": 49,
   "metadata": {},
   "outputs": [
    {
     "data": {
      "image/png": "[encoded data removed]",
      "text/plain": [
       "<matplotlib.figure.Figure at 0x7fb12f1ffeb8>"
      ]
     },
     "metadata": {},
     "output_type": "display_data"
    }
   ],
   "source": [
    "# groupby start_year and gender to plot a graph\n",
    "membership_date = data_df.groupby(['became_member_year', 'offer_successful']).size()\n",
    "membership_date = membership_date.reset_index()\n",
    "membership_date.columns = ['became_member_year', 'offer_successful',  'count']\n",
    "\n",
    "# plot a bar graph for age distribution as a function of gender in membership program\n",
    "plt.figure(figsize=(10, 5))\n",
    "sns.barplot(x='became_member_year', y='count', hue='offer_successful', data=membership_date)\n",
    "l= plt.legend()\n",
    "l.get_texts()[0].set_text('Yes')\n",
    "l.get_texts()[1].set_text('No')\n",
    "plt.xlabel('Membership Start Year')\n",
    "plt.ylabel('Count');"
   ]
  },
  {
   "cell_type": "markdown",
   "metadata": {},
   "source": [
    "The above graph is quite interesting . Before 2017, no of non completed offers is more than the no of offers completed. However, from 2017 the scenario is completely change. Perhaps, company has change their marketing startegy."
   ]
  },
  {
   "cell_type": "markdown",
   "metadata": {},
   "source": [
    "#### 3.2.5 Analyze Offer Statistics"
   ]
  },
  {
   "cell_type": "code",
   "execution_count": 50,
   "metadata": {},
   "outputs": [],
   "source": [
    "#Calculating success percent of offers\n",
    "\n",
    "def success_percent_of_offers():\n",
    "    \n",
    "    '''\n",
    "    INPUT- Take dataframe as an input\n",
    "    OUTPUT- give a column of success percentage of offer that is completed by the customers\n",
    "    '''\n",
    "    successful_offer_count = data[['offer_id', 'offer_successful', 'Male','Female']].groupby(\n",
    "        'offer_id').sum().reset_index()\n",
    "\n",
    "    offer_count = data['offer_id'].value_counts()\n",
    "\n",
    "    offer_count = pd.DataFrame(list(zip(offer_count.index.values,\n",
    "                                        offer_count.values)),\n",
    "                               columns=['offer_id', 'count'])\n",
    "\n",
    "    successful_offer_count = successful_offer_count.sort_values('offer_id')\n",
    "\n",
    "    offer_count = offer_count.sort_values('offer_id')\n",
    "\n",
    "    percent_success = pd.merge(offer_count, successful_offer_count, on=\"offer_id\")\n",
    "\n",
    "    percent_success['percent_success'] = (100 * percent_success['offer_successful'] / percent_success['count'])\n",
    "\n",
    "    percent_success = pd.merge(percent_success, portfolio, on=\"offer_id\")\n",
    "\n",
    "    percent_success = percent_success.drop(columns=['offer_successful'])\n",
    "\n",
    "    percent_success = percent_success.sort_values('percent_success', ascending=False)\n",
    "\n",
    "    return percent_success.reset_index(drop=True)"
   ]
  },
  {
   "cell_type": "code",
   "execution_count": 51,
   "metadata": {},
   "outputs": [
    {
     "data": {
      "text/html": [
       "<div>\n",
       "<style scoped>\n",
       "    .dataframe tbody tr th:only-of-type {\n",
       "        vertical-align: middle;\n",
       "    }\n",
       "\n",
       "    .dataframe tbody tr th {\n",
       "        vertical-align: top;\n",
       "    }\n",
       "\n",
       "    .dataframe thead th {\n",
       "        text-align: right;\n",
       "    }\n",
       "</style>\n",
       "<table border=\"1\" class=\"dataframe\">\n",
       "  <thead>\n",
       "    <tr style=\"text-align: right;\">\n",
       "      <th></th>\n",
       "      <th>offer_id</th>\n",
       "      <th>count</th>\n",
       "      <th>Male</th>\n",
       "      <th>Female</th>\n",
       "      <th>percent_success</th>\n",
       "      <th>difficulty</th>\n",
       "      <th>duration</th>\n",
       "      <th>reward</th>\n",
       "      <th>email</th>\n",
       "      <th>mobile</th>\n",
       "      <th>social</th>\n",
       "      <th>web</th>\n",
       "      <th>offer_type_bogo</th>\n",
       "      <th>offer_type_discount</th>\n",
       "      <th>offer_type_informational</th>\n",
       "    </tr>\n",
       "  </thead>\n",
       "  <tbody>\n",
       "    <tr>\n",
       "      <th>0</th>\n",
       "      <td>fafdcd668e3743c1bb461111dcafc2a4</td>\n",
       "      <td>6652</td>\n",
       "      <td>3868</td>\n",
       "      <td>2696</td>\n",
       "      <td>75.285628</td>\n",
       "      <td>10</td>\n",
       "      <td>10</td>\n",
       "      <td>2</td>\n",
       "      <td>1</td>\n",
       "      <td>1</td>\n",
       "      <td>1</td>\n",
       "      <td>1</td>\n",
       "      <td>0</td>\n",
       "      <td>1</td>\n",
       "      <td>0</td>\n",
       "    </tr>\n",
       "    <tr>\n",
       "      <th>1</th>\n",
       "      <td>2298d6c36e964ae4a3e7e9706d1fb8c2</td>\n",
       "      <td>6655</td>\n",
       "      <td>3845</td>\n",
       "      <td>2718</td>\n",
       "      <td>72.742299</td>\n",
       "      <td>7</td>\n",
       "      <td>7</td>\n",
       "      <td>3</td>\n",
       "      <td>1</td>\n",
       "      <td>1</td>\n",
       "      <td>1</td>\n",
       "      <td>1</td>\n",
       "      <td>0</td>\n",
       "      <td>1</td>\n",
       "      <td>0</td>\n",
       "    </tr>\n",
       "    <tr>\n",
       "      <th>2</th>\n",
       "      <td>f19421c1d4aa40978ebb69ca19b0e20d</td>\n",
       "      <td>6576</td>\n",
       "      <td>3767</td>\n",
       "      <td>2721</td>\n",
       "      <td>61.618005</td>\n",
       "      <td>5</td>\n",
       "      <td>5</td>\n",
       "      <td>5</td>\n",
       "      <td>1</td>\n",
       "      <td>1</td>\n",
       "      <td>1</td>\n",
       "      <td>1</td>\n",
       "      <td>1</td>\n",
       "      <td>0</td>\n",
       "      <td>0</td>\n",
       "    </tr>\n",
       "    <tr>\n",
       "      <th>3</th>\n",
       "      <td>ae264e3637204a6fb9bb56bc8210ddfd</td>\n",
       "      <td>6683</td>\n",
       "      <td>3840</td>\n",
       "      <td>2750</td>\n",
       "      <td>54.646117</td>\n",
       "      <td>10</td>\n",
       "      <td>7</td>\n",
       "      <td>10</td>\n",
       "      <td>1</td>\n",
       "      <td>1</td>\n",
       "      <td>1</td>\n",
       "      <td>0</td>\n",
       "      <td>1</td>\n",
       "      <td>0</td>\n",
       "      <td>0</td>\n",
       "    </tr>\n",
       "    <tr>\n",
       "      <th>4</th>\n",
       "      <td>4d5c57ea9a6940dd891ad53e9dbe8da0</td>\n",
       "      <td>6593</td>\n",
       "      <td>3784</td>\n",
       "      <td>2737</td>\n",
       "      <td>51.721523</td>\n",
       "      <td>10</td>\n",
       "      <td>5</td>\n",
       "      <td>10</td>\n",
       "      <td>1</td>\n",
       "      <td>1</td>\n",
       "      <td>1</td>\n",
       "      <td>1</td>\n",
       "      <td>1</td>\n",
       "      <td>0</td>\n",
       "      <td>0</td>\n",
       "    </tr>\n",
       "    <tr>\n",
       "      <th>5</th>\n",
       "      <td>9b98b8c7a33c4b65b9aebfe6a799e6d9</td>\n",
       "      <td>6685</td>\n",
       "      <td>3817</td>\n",
       "      <td>2767</td>\n",
       "      <td>48.287210</td>\n",
       "      <td>5</td>\n",
       "      <td>7</td>\n",
       "      <td>5</td>\n",
       "      <td>1</td>\n",
       "      <td>1</td>\n",
       "      <td>0</td>\n",
       "      <td>1</td>\n",
       "      <td>1</td>\n",
       "      <td>0</td>\n",
       "      <td>0</td>\n",
       "    </tr>\n",
       "    <tr>\n",
       "      <th>6</th>\n",
       "      <td>2906b810c7d4411798c6938adc9daaa5</td>\n",
       "      <td>6631</td>\n",
       "      <td>3815</td>\n",
       "      <td>2728</td>\n",
       "      <td>47.730357</td>\n",
       "      <td>10</td>\n",
       "      <td>7</td>\n",
       "      <td>2</td>\n",
       "      <td>1</td>\n",
       "      <td>1</td>\n",
       "      <td>0</td>\n",
       "      <td>1</td>\n",
       "      <td>0</td>\n",
       "      <td>1</td>\n",
       "      <td>0</td>\n",
       "    </tr>\n",
       "    <tr>\n",
       "      <th>7</th>\n",
       "      <td>0b1e1539f2cc45b7b9fa7c272da2e1d7</td>\n",
       "      <td>6726</td>\n",
       "      <td>3826</td>\n",
       "      <td>2801</td>\n",
       "      <td>45.762712</td>\n",
       "      <td>20</td>\n",
       "      <td>10</td>\n",
       "      <td>5</td>\n",
       "      <td>1</td>\n",
       "      <td>0</td>\n",
       "      <td>0</td>\n",
       "      <td>1</td>\n",
       "      <td>0</td>\n",
       "      <td>1</td>\n",
       "      <td>0</td>\n",
       "    </tr>\n",
       "    <tr>\n",
       "      <th>8</th>\n",
       "      <td>3f207df678b143eea3cee63160fa8bed</td>\n",
       "      <td>6657</td>\n",
       "      <td>3812</td>\n",
       "      <td>2749</td>\n",
       "      <td>7.721196</td>\n",
       "      <td>0</td>\n",
       "      <td>4</td>\n",
       "      <td>0</td>\n",
       "      <td>1</td>\n",
       "      <td>1</td>\n",
       "      <td>0</td>\n",
       "      <td>1</td>\n",
       "      <td>0</td>\n",
       "      <td>0</td>\n",
       "      <td>1</td>\n",
       "    </tr>\n",
       "    <tr>\n",
       "      <th>9</th>\n",
       "      <td>5a8bc65990b245e5a138643cd4eb9837</td>\n",
       "      <td>6643</td>\n",
       "      <td>3755</td>\n",
       "      <td>2789</td>\n",
       "      <td>6.277284</td>\n",
       "      <td>0</td>\n",
       "      <td>3</td>\n",
       "      <td>0</td>\n",
       "      <td>1</td>\n",
       "      <td>1</td>\n",
       "      <td>1</td>\n",
       "      <td>0</td>\n",
       "      <td>0</td>\n",
       "      <td>0</td>\n",
       "      <td>1</td>\n",
       "    </tr>\n",
       "  </tbody>\n",
       "</table>\n",
       "</div>"
      ],
      "text/plain": [
       "                           offer_id  count  Male  Female  percent_success  \\\n",
       "0  fafdcd668e3743c1bb461111dcafc2a4   6652  3868    2696        75.285628   \n",
       "1  2298d6c36e964ae4a3e7e9706d1fb8c2   6655  3845    2718        72.742299   \n",
       "2  f19421c1d4aa40978ebb69ca19b0e20d   6576  3767    2721        61.618005   \n",
       "3  ae264e3637204a6fb9bb56bc8210ddfd   6683  3840    2750        54.646117   \n",
       "4  4d5c57ea9a6940dd891ad53e9dbe8da0   6593  3784    2737        51.721523   \n",
       "5  9b98b8c7a33c4b65b9aebfe6a799e6d9   6685  3817    2767        48.287210   \n",
       "6  2906b810c7d4411798c6938adc9daaa5   6631  3815    2728        47.730357   \n",
       "7  0b1e1539f2cc45b7b9fa7c272da2e1d7   6726  3826    2801        45.762712   \n",
       "8  3f207df678b143eea3cee63160fa8bed   6657  3812    2749         7.721196   \n",
       "9  5a8bc65990b245e5a138643cd4eb9837   6643  3755    2789         6.277284   \n",
       "\n",
       "   difficulty  duration  reward  email  mobile  social  web  offer_type_bogo  \\\n",
       "0          10        10       2      1       1       1    1                0   \n",
       "1           7         7       3      1       1       1    1                0   \n",
       "2           5         5       5      1       1       1    1                1   \n",
       "3          10         7      10      1       1       1    0                1   \n",
       "4          10         5      10      1       1       1    1                1   \n",
       "5           5         7       5      1       1       0    1                1   \n",
       "6          10         7       2      1       1       0    1                0   \n",
       "7          20        10       5      1       0       0    1                0   \n",
       "8           0         4       0      1       1       0    1                0   \n",
       "9           0         3       0      1       1       1    0                0   \n",
       "\n",
       "   offer_type_discount  offer_type_informational  \n",
       "0                    1                         0  \n",
       "1                    1                         0  \n",
       "2                    0                         0  \n",
       "3                    0                         0  \n",
       "4                    0                         0  \n",
       "5                    0                         0  \n",
       "6                    1                         0  \n",
       "7                    1                         0  \n",
       "8                    0                         1  \n",
       "9                    0                         1  "
      ]
     },
     "execution_count": 51,
     "metadata": {},
     "output_type": "execute_result"
    }
   ],
   "source": [
    "#Calling the function\n",
    "success_percent = success_percent_of_offers()\n",
    "success_percent"
   ]
  },
  {
   "cell_type": "markdown",
   "metadata": {},
   "source": [
    "If we notice email column is having only value 1 which is kind of a bizzrare. We can say its an inconsistent data. Also from informational column we come to know that only two types of offer has been sent to the customers that is also not very important in predicting the results."
   ]
  },
  {
   "cell_type": "markdown",
   "metadata": {},
   "source": [
    "#### 3.2.6 visual representation of offer statics\n",
    "We will try to answe below questions:\n",
    "* How many customers were provided with the offer?\n",
    "* Percentage of succesful offers completed by the customers"
   ]
  },
  {
   "cell_type": "code",
   "execution_count": 52,
   "metadata": {},
   "outputs": [
    {
     "data": {
      "text/plain": [
       "Text(0,0.5,'Success percentage')"
      ]
     },
     "execution_count": 52,
     "metadata": {},
     "output_type": "execute_result"
    },
    {
     "data": {
      "image/png": "[encoded data removed]",
      "text/plain": [
       "<matplotlib.figure.Figure at 0x7fb12f149470>"
      ]
     },
     "metadata": {},
     "output_type": "display_data"
    }
   ],
   "source": [
    "#Success Percentage vs offer number\n",
    "\n",
    "plt.plot(success_percent.index + 1, success_percent['percent_success'])\n",
    "plt.xticks(np.arange(0,10) + 1)\n",
    "plt.xlabel('Offer number')\n",
    "plt.ylabel('Success percentage')"
   ]
  },
  {
   "cell_type": "markdown",
   "metadata": {},
   "source": [
    "#### 3.2.7 Heat Map for corealtion between varables\n",
    "\n",
    "From this heat map we can also answer the first question of Business Undersatanding part that is:\n",
    "1. Discover the main drivers of offer effectiveness.\n",
    "\n",
    "From the heat map we can say that the main drivers which influence the customer to whether to do the transaction or not are\n",
    "\n",
    "* Type of offer- Whether its a bogo, discount or informational.\n",
    "* Duration- Time given to avail the offer\n",
    "* Reward- How much benefit they can avail.\n",
    "* Difficulty"
   ]
  },
  {
   "cell_type": "code",
   "execution_count": 53,
   "metadata": {},
   "outputs": [
    {
     "data": {
      "image/png": "[encoded data removed]",
      "text/plain": [
       "<matplotlib.figure.Figure at 0x7fb12f0f55f8>"
      ]
     },
     "metadata": {},
     "output_type": "display_data"
    }
   ],
   "source": [
    "with sns.axes_style(\"dark\"), sns.plotting_context(\"paper\", font_scale=1.2):\n",
    "    plt.figure(figsize=(22, 8))\n",
    "    plt.tight_layout()\n",
    "    ax = plt.subplot()\n",
    "    sns.heatmap(data_df.select_dtypes(exclude=[\"object\"]).corr(), annot=True, ax=ax)\n",
    "\n",
    "    ax.tick_params(labelsize=14)\n",
    "    ax.tick_params(axis=\"x\", rotation=270, pad=0)"
   ]
  },
  {
   "cell_type": "markdown",
   "metadata": {},
   "source": [
    "From the heat we can observe that the feature difficulty is highly corellated to feature duration. It seems like it also a major driver to predict our result."
   ]
  },
  {
   "cell_type": "markdown",
   "metadata": {},
   "source": [
    "**Observations**\n",
    "\n",
    "1. These results suggest that distribution of offers in the simulated Starbucks mobile application data is approximately uniform. They also imply that the percentage of an offer's success ranges from ~ 6% to 75%, with the two least successful offers being informational.\n",
    "2. Also all 10 offers distributed almost equally between customers.\n",
    "3. From above observation we caome to know that informational column have only two types of offer that has been sent to the customers."
   ]
  },
  {
   "cell_type": "markdown",
   "metadata": {},
   "source": [
    "## Feature Engineering\n",
    "\n",
    "After completing the data analysis part we need to do some feature engineering.\n",
    "1. We need to make sure all the variable are in float or in int.\n",
    "2. Need to change categorical variable to dummy columns.\n",
    "3. To avoid dummy trap we need to drop 1 column each for every newly dummy column craeted.\n",
    "4. Our Data is not scaled or normalised for example age column or income column they are having high value as respect to other dummy variable column. However, as mentioned in Business Understaning part we are going to use Linear Regression and Random Forrest which does not require feature scaling."
   ]
  },
  {
   "cell_type": "code",
   "execution_count": 54,
   "metadata": {},
   "outputs": [],
   "source": [
    "#Encoding Categorical columns\n",
    "data_df2= data_df.copy()\n",
    "encode_col= ['offer_id', 'became_member_year']\n",
    "data_df2 = one_hot_encoding(data_df2,encode_col )"
   ]
  },
  {
   "cell_type": "code",
   "execution_count": 55,
   "metadata": {},
   "outputs": [
    {
     "data": {
      "text/html": [
       "<div>\n",
       "<style scoped>\n",
       "    .dataframe tbody tr th:only-of-type {\n",
       "        vertical-align: middle;\n",
       "    }\n",
       "\n",
       "    .dataframe tbody tr th {\n",
       "        vertical-align: top;\n",
       "    }\n",
       "\n",
       "    .dataframe thead th {\n",
       "        text-align: right;\n",
       "    }\n",
       "</style>\n",
       "<table border=\"1\" class=\"dataframe\">\n",
       "  <thead>\n",
       "    <tr style=\"text-align: right;\">\n",
       "      <th></th>\n",
       "      <th>offer_successful</th>\n",
       "      <th>Female</th>\n",
       "      <th>Male</th>\n",
       "      <th>Others</th>\n",
       "      <th>age</th>\n",
       "      <th>became_member_month</th>\n",
       "      <th>became_member_on</th>\n",
       "      <th>customer_id</th>\n",
       "      <th>difficulty</th>\n",
       "      <th>duration</th>\n",
       "      <th>...</th>\n",
       "      <th>offer_id_9b98b8c7a33c4b65b9aebfe6a799e6d9</th>\n",
       "      <th>offer_id_ae264e3637204a6fb9bb56bc8210ddfd</th>\n",
       "      <th>offer_id_f19421c1d4aa40978ebb69ca19b0e20d</th>\n",
       "      <th>offer_id_fafdcd668e3743c1bb461111dcafc2a4</th>\n",
       "      <th>became_member_year_2013</th>\n",
       "      <th>became_member_year_2014</th>\n",
       "      <th>became_member_year_2015</th>\n",
       "      <th>became_member_year_2016</th>\n",
       "      <th>became_member_year_2017</th>\n",
       "      <th>became_member_year_2018</th>\n",
       "    </tr>\n",
       "  </thead>\n",
       "  <tbody>\n",
       "    <tr>\n",
       "      <th>0</th>\n",
       "      <td>1</td>\n",
       "      <td>1</td>\n",
       "      <td>0</td>\n",
       "      <td>0</td>\n",
       "      <td>75.0</td>\n",
       "      <td>5</td>\n",
       "      <td>2017-05-09</td>\n",
       "      <td>78afa995795e4d85b5d9ceeca43f5fef</td>\n",
       "      <td>5</td>\n",
       "      <td>7</td>\n",
       "      <td>...</td>\n",
       "      <td>1</td>\n",
       "      <td>0</td>\n",
       "      <td>0</td>\n",
       "      <td>0</td>\n",
       "      <td>0</td>\n",
       "      <td>0</td>\n",
       "      <td>0</td>\n",
       "      <td>0</td>\n",
       "      <td>1</td>\n",
       "      <td>0</td>\n",
       "    </tr>\n",
       "    <tr>\n",
       "      <th>1</th>\n",
       "      <td>0</td>\n",
       "      <td>1</td>\n",
       "      <td>0</td>\n",
       "      <td>0</td>\n",
       "      <td>75.0</td>\n",
       "      <td>5</td>\n",
       "      <td>2017-05-09</td>\n",
       "      <td>78afa995795e4d85b5d9ceeca43f5fef</td>\n",
       "      <td>0</td>\n",
       "      <td>3</td>\n",
       "      <td>...</td>\n",
       "      <td>0</td>\n",
       "      <td>0</td>\n",
       "      <td>0</td>\n",
       "      <td>0</td>\n",
       "      <td>0</td>\n",
       "      <td>0</td>\n",
       "      <td>0</td>\n",
       "      <td>0</td>\n",
       "      <td>1</td>\n",
       "      <td>0</td>\n",
       "    </tr>\n",
       "    <tr>\n",
       "      <th>2</th>\n",
       "      <td>1</td>\n",
       "      <td>1</td>\n",
       "      <td>0</td>\n",
       "      <td>0</td>\n",
       "      <td>75.0</td>\n",
       "      <td>5</td>\n",
       "      <td>2017-05-09</td>\n",
       "      <td>78afa995795e4d85b5d9ceeca43f5fef</td>\n",
       "      <td>10</td>\n",
       "      <td>7</td>\n",
       "      <td>...</td>\n",
       "      <td>0</td>\n",
       "      <td>1</td>\n",
       "      <td>0</td>\n",
       "      <td>0</td>\n",
       "      <td>0</td>\n",
       "      <td>0</td>\n",
       "      <td>0</td>\n",
       "      <td>0</td>\n",
       "      <td>1</td>\n",
       "      <td>0</td>\n",
       "    </tr>\n",
       "    <tr>\n",
       "      <th>3</th>\n",
       "      <td>1</td>\n",
       "      <td>1</td>\n",
       "      <td>0</td>\n",
       "      <td>0</td>\n",
       "      <td>75.0</td>\n",
       "      <td>5</td>\n",
       "      <td>2017-05-09</td>\n",
       "      <td>78afa995795e4d85b5d9ceeca43f5fef</td>\n",
       "      <td>5</td>\n",
       "      <td>5</td>\n",
       "      <td>...</td>\n",
       "      <td>0</td>\n",
       "      <td>0</td>\n",
       "      <td>1</td>\n",
       "      <td>0</td>\n",
       "      <td>0</td>\n",
       "      <td>0</td>\n",
       "      <td>0</td>\n",
       "      <td>0</td>\n",
       "      <td>1</td>\n",
       "      <td>0</td>\n",
       "    </tr>\n",
       "    <tr>\n",
       "      <th>4</th>\n",
       "      <td>0</td>\n",
       "      <td>0</td>\n",
       "      <td>1</td>\n",
       "      <td>0</td>\n",
       "      <td>68.0</td>\n",
       "      <td>4</td>\n",
       "      <td>2018-04-26</td>\n",
       "      <td>e2127556f4f64592b11af22de27a7932</td>\n",
       "      <td>10</td>\n",
       "      <td>7</td>\n",
       "      <td>...</td>\n",
       "      <td>0</td>\n",
       "      <td>0</td>\n",
       "      <td>0</td>\n",
       "      <td>0</td>\n",
       "      <td>0</td>\n",
       "      <td>0</td>\n",
       "      <td>0</td>\n",
       "      <td>0</td>\n",
       "      <td>0</td>\n",
       "      <td>1</td>\n",
       "    </tr>\n",
       "  </tbody>\n",
       "</table>\n",
       "<p>5 rows × 37 columns</p>\n",
       "</div>"
      ],
      "text/plain": [
       "   offer_successful  Female  Male  Others   age  became_member_month  \\\n",
       "0                 1       1     0       0  75.0                    5   \n",
       "1                 0       1     0       0  75.0                    5   \n",
       "2                 1       1     0       0  75.0                    5   \n",
       "3                 1       1     0       0  75.0                    5   \n",
       "4                 0       0     1       0  68.0                    4   \n",
       "\n",
       "  became_member_on                       customer_id  difficulty  duration  \\\n",
       "0       2017-05-09  78afa995795e4d85b5d9ceeca43f5fef           5         7   \n",
       "1       2017-05-09  78afa995795e4d85b5d9ceeca43f5fef           0         3   \n",
       "2       2017-05-09  78afa995795e4d85b5d9ceeca43f5fef          10         7   \n",
       "3       2017-05-09  78afa995795e4d85b5d9ceeca43f5fef           5         5   \n",
       "4       2018-04-26  e2127556f4f64592b11af22de27a7932          10         7   \n",
       "\n",
       "            ...             offer_id_9b98b8c7a33c4b65b9aebfe6a799e6d9  \\\n",
       "0           ...                                                     1   \n",
       "1           ...                                                     0   \n",
       "2           ...                                                     0   \n",
       "3           ...                                                     0   \n",
       "4           ...                                                     0   \n",
       "\n",
       "   offer_id_ae264e3637204a6fb9bb56bc8210ddfd  \\\n",
       "0                                          0   \n",
       "1                                          0   \n",
       "2                                          1   \n",
       "3                                          0   \n",
       "4                                          0   \n",
       "\n",
       "   offer_id_f19421c1d4aa40978ebb69ca19b0e20d  \\\n",
       "0                                          0   \n",
       "1                                          0   \n",
       "2                                          0   \n",
       "3                                          1   \n",
       "4                                          0   \n",
       "\n",
       "   offer_id_fafdcd668e3743c1bb461111dcafc2a4  became_member_year_2013  \\\n",
       "0                                          0                        0   \n",
       "1                                          0                        0   \n",
       "2                                          0                        0   \n",
       "3                                          0                        0   \n",
       "4                                          0                        0   \n",
       "\n",
       "   became_member_year_2014  became_member_year_2015  became_member_year_2016  \\\n",
       "0                        0                        0                        0   \n",
       "1                        0                        0                        0   \n",
       "2                        0                        0                        0   \n",
       "3                        0                        0                        0   \n",
       "4                        0                        0                        0   \n",
       "\n",
       "   became_member_year_2017  became_member_year_2018  \n",
       "0                        1                        0  \n",
       "1                        1                        0  \n",
       "2                        1                        0  \n",
       "3                        1                        0  \n",
       "4                        0                        1  \n",
       "\n",
       "[5 rows x 37 columns]"
      ]
     },
     "execution_count": 55,
     "metadata": {},
     "output_type": "execute_result"
    }
   ],
   "source": [
    "# We need to change the order of feature so that it is easy to split later\n",
    "column_ordering = ['offer_successful']\n",
    "column_ordering.extend([elem for elem in data_df2.columns if elem not in column_ordering])\n",
    "\n",
    "data_df2 = data_df2[column_ordering]\n",
    "data_df2.head()"
   ]
  },
  {
   "cell_type": "markdown",
   "metadata": {},
   "source": [
    "We need to drop unncessary columns first and last column of every dummy column to avaoid dummy variable trap.\n",
    "\n",
    "1. We know that the feature email is imbalance data, hence we need to drop this feature.\n",
    "2. We also need to drop customer id since it will not help in prediction same goes for time.\n",
    "3. Since difficulty is high relation with the duration hence we need to drop difficulty column.\n",
    "4. We will also drop information column since it has only type of offers.\n",
    "5. Atlast we will drop the last column of each dummy variable."
   ]
  },
  {
   "cell_type": "code",
   "execution_count": 56,
   "metadata": {},
   "outputs": [
    {
     "data": {
      "text/html": [
       "<div>\n",
       "<style scoped>\n",
       "    .dataframe tbody tr th:only-of-type {\n",
       "        vertical-align: middle;\n",
       "    }\n",
       "\n",
       "    .dataframe tbody tr th {\n",
       "        vertical-align: top;\n",
       "    }\n",
       "\n",
       "    .dataframe thead th {\n",
       "        text-align: right;\n",
       "    }\n",
       "</style>\n",
       "<table border=\"1\" class=\"dataframe\">\n",
       "  <thead>\n",
       "    <tr style=\"text-align: right;\">\n",
       "      <th></th>\n",
       "      <th>offer_successful</th>\n",
       "      <th>Female</th>\n",
       "      <th>Male</th>\n",
       "      <th>age</th>\n",
       "      <th>became_member_month</th>\n",
       "      <th>difficulty</th>\n",
       "      <th>duration</th>\n",
       "      <th>income</th>\n",
       "      <th>mobile</th>\n",
       "      <th>offer_type_bogo</th>\n",
       "      <th>...</th>\n",
       "      <th>offer_id_4d5c57ea9a6940dd891ad53e9dbe8da0</th>\n",
       "      <th>offer_id_9b98b8c7a33c4b65b9aebfe6a799e6d9</th>\n",
       "      <th>offer_id_ae264e3637204a6fb9bb56bc8210ddfd</th>\n",
       "      <th>offer_id_f19421c1d4aa40978ebb69ca19b0e20d</th>\n",
       "      <th>offer_id_fafdcd668e3743c1bb461111dcafc2a4</th>\n",
       "      <th>became_member_year_2013</th>\n",
       "      <th>became_member_year_2015</th>\n",
       "      <th>became_member_year_2016</th>\n",
       "      <th>became_member_year_2017</th>\n",
       "      <th>became_member_year_2018</th>\n",
       "    </tr>\n",
       "  </thead>\n",
       "  <tbody>\n",
       "    <tr>\n",
       "      <th>0</th>\n",
       "      <td>1</td>\n",
       "      <td>1</td>\n",
       "      <td>0</td>\n",
       "      <td>75.0</td>\n",
       "      <td>5</td>\n",
       "      <td>5</td>\n",
       "      <td>7</td>\n",
       "      <td>100000.0</td>\n",
       "      <td>1</td>\n",
       "      <td>1</td>\n",
       "      <td>...</td>\n",
       "      <td>0</td>\n",
       "      <td>1</td>\n",
       "      <td>0</td>\n",
       "      <td>0</td>\n",
       "      <td>0</td>\n",
       "      <td>0</td>\n",
       "      <td>0</td>\n",
       "      <td>0</td>\n",
       "      <td>1</td>\n",
       "      <td>0</td>\n",
       "    </tr>\n",
       "    <tr>\n",
       "      <th>1</th>\n",
       "      <td>0</td>\n",
       "      <td>1</td>\n",
       "      <td>0</td>\n",
       "      <td>75.0</td>\n",
       "      <td>5</td>\n",
       "      <td>0</td>\n",
       "      <td>3</td>\n",
       "      <td>100000.0</td>\n",
       "      <td>1</td>\n",
       "      <td>0</td>\n",
       "      <td>...</td>\n",
       "      <td>0</td>\n",
       "      <td>0</td>\n",
       "      <td>0</td>\n",
       "      <td>0</td>\n",
       "      <td>0</td>\n",
       "      <td>0</td>\n",
       "      <td>0</td>\n",
       "      <td>0</td>\n",
       "      <td>1</td>\n",
       "      <td>0</td>\n",
       "    </tr>\n",
       "    <tr>\n",
       "      <th>2</th>\n",
       "      <td>1</td>\n",
       "      <td>1</td>\n",
       "      <td>0</td>\n",
       "      <td>75.0</td>\n",
       "      <td>5</td>\n",
       "      <td>10</td>\n",
       "      <td>7</td>\n",
       "      <td>100000.0</td>\n",
       "      <td>1</td>\n",
       "      <td>1</td>\n",
       "      <td>...</td>\n",
       "      <td>0</td>\n",
       "      <td>0</td>\n",
       "      <td>1</td>\n",
       "      <td>0</td>\n",
       "      <td>0</td>\n",
       "      <td>0</td>\n",
       "      <td>0</td>\n",
       "      <td>0</td>\n",
       "      <td>1</td>\n",
       "      <td>0</td>\n",
       "    </tr>\n",
       "    <tr>\n",
       "      <th>3</th>\n",
       "      <td>1</td>\n",
       "      <td>1</td>\n",
       "      <td>0</td>\n",
       "      <td>75.0</td>\n",
       "      <td>5</td>\n",
       "      <td>5</td>\n",
       "      <td>5</td>\n",
       "      <td>100000.0</td>\n",
       "      <td>1</td>\n",
       "      <td>1</td>\n",
       "      <td>...</td>\n",
       "      <td>0</td>\n",
       "      <td>0</td>\n",
       "      <td>0</td>\n",
       "      <td>1</td>\n",
       "      <td>0</td>\n",
       "      <td>0</td>\n",
       "      <td>0</td>\n",
       "      <td>0</td>\n",
       "      <td>1</td>\n",
       "      <td>0</td>\n",
       "    </tr>\n",
       "    <tr>\n",
       "      <th>4</th>\n",
       "      <td>0</td>\n",
       "      <td>0</td>\n",
       "      <td>1</td>\n",
       "      <td>68.0</td>\n",
       "      <td>4</td>\n",
       "      <td>10</td>\n",
       "      <td>7</td>\n",
       "      <td>70000.0</td>\n",
       "      <td>1</td>\n",
       "      <td>0</td>\n",
       "      <td>...</td>\n",
       "      <td>0</td>\n",
       "      <td>0</td>\n",
       "      <td>0</td>\n",
       "      <td>0</td>\n",
       "      <td>0</td>\n",
       "      <td>0</td>\n",
       "      <td>0</td>\n",
       "      <td>0</td>\n",
       "      <td>0</td>\n",
       "      <td>1</td>\n",
       "    </tr>\n",
       "  </tbody>\n",
       "</table>\n",
       "<p>5 rows × 29 columns</p>\n",
       "</div>"
      ],
      "text/plain": [
       "   offer_successful  Female  Male   age  became_member_month  difficulty  \\\n",
       "0                 1       1     0  75.0                    5           5   \n",
       "1                 0       1     0  75.0                    5           0   \n",
       "2                 1       1     0  75.0                    5          10   \n",
       "3                 1       1     0  75.0                    5           5   \n",
       "4                 0       0     1  68.0                    4          10   \n",
       "\n",
       "   duration    income  mobile  offer_type_bogo           ...             \\\n",
       "0         7  100000.0       1                1           ...              \n",
       "1         3  100000.0       1                0           ...              \n",
       "2         7  100000.0       1                1           ...              \n",
       "3         5  100000.0       1                1           ...              \n",
       "4         7   70000.0       1                0           ...              \n",
       "\n",
       "   offer_id_4d5c57ea9a6940dd891ad53e9dbe8da0  \\\n",
       "0                                          0   \n",
       "1                                          0   \n",
       "2                                          0   \n",
       "3                                          0   \n",
       "4                                          0   \n",
       "\n",
       "   offer_id_9b98b8c7a33c4b65b9aebfe6a799e6d9  \\\n",
       "0                                          1   \n",
       "1                                          0   \n",
       "2                                          0   \n",
       "3                                          0   \n",
       "4                                          0   \n",
       "\n",
       "   offer_id_ae264e3637204a6fb9bb56bc8210ddfd  \\\n",
       "0                                          0   \n",
       "1                                          0   \n",
       "2                                          1   \n",
       "3                                          0   \n",
       "4                                          0   \n",
       "\n",
       "   offer_id_f19421c1d4aa40978ebb69ca19b0e20d  \\\n",
       "0                                          0   \n",
       "1                                          0   \n",
       "2                                          0   \n",
       "3                                          1   \n",
       "4                                          0   \n",
       "\n",
       "   offer_id_fafdcd668e3743c1bb461111dcafc2a4  became_member_year_2013  \\\n",
       "0                                          0                        0   \n",
       "1                                          0                        0   \n",
       "2                                          0                        0   \n",
       "3                                          0                        0   \n",
       "4                                          0                        0   \n",
       "\n",
       "   became_member_year_2015  became_member_year_2016  became_member_year_2017  \\\n",
       "0                        0                        0                        1   \n",
       "1                        0                        0                        1   \n",
       "2                        0                        0                        1   \n",
       "3                        0                        0                        1   \n",
       "4                        0                        0                        0   \n",
       "\n",
       "   became_member_year_2018  \n",
       "0                        0  \n",
       "1                        0  \n",
       "2                        0  \n",
       "3                        0  \n",
       "4                        1  \n",
       "\n",
       "[5 rows x 29 columns]"
      ]
     },
     "execution_count": 56,
     "metadata": {},
     "output_type": "execute_result"
    }
   ],
   "source": [
    "#Droping columns unnecessary columns\n",
    "\n",
    "data_df2= data_df2.drop(columns=['email', 'customer_id', 'time', 'offer_type_informational', \n",
    "                                'Others','became_member_on','offer_id_5a8bc65990b245e5a138643cd4eb9837',\n",
    "                                'became_member_year_2014' ], axis= 1)\n",
    "                               \n",
    "data_df2.head()"
   ]
  },
  {
   "cell_type": "code",
   "execution_count": 57,
   "metadata": {},
   "outputs": [
    {
     "data": {
      "text/plain": [
       "Index([], dtype='object')"
      ]
     },
     "execution_count": 57,
     "metadata": {},
     "output_type": "execute_result"
    }
   ],
   "source": [
    "# Review the remaining object columns\n",
    "data_df2.select_dtypes(include=['object']).columns"
   ]
  },
  {
   "cell_type": "markdown",
   "metadata": {},
   "source": [
    "Hence, we dont have any feature with data type object. We are good to go to build our model."
   ]
  },
  {
   "cell_type": "markdown",
   "metadata": {},
   "source": [
    "## 5. Building Model"
   ]
  },
  {
   "cell_type": "markdown",
   "metadata": {},
   "source": [
    "### 5.1 Splitting the data into training and test set\n",
    "\n",
    "To create our machine learning model first we need to split our data ino Training set and Test set."
   ]
  },
  {
   "cell_type": "code",
   "execution_count": 58,
   "metadata": {},
   "outputs": [],
   "source": [
    "# factors/features that influence the label variable\n",
    "X = data_df2.iloc[:, 1:] \n",
    "\n",
    "# label variable to predict\n",
    "y= data_df2.iloc[:, 0]\n",
    "\n",
    "# split data into train and test sets\n",
    "X_train, X_test, y_train, y_test = train_test_split(X, y , test_size=0.3, random_state=56)"
   ]
  },
  {
   "cell_type": "markdown",
   "metadata": {},
   "source": [
    "### 5.2 valuate Naive Predictor Performance\n",
    "First lets build a basic machine learning model to predict the result and what it's accuracy."
   ]
  },
  {
   "cell_type": "code",
   "execution_count": 59,
   "metadata": {},
   "outputs": [
    {
     "name": "stdout",
     "output_type": "stream",
     "text": [
      "Naive predictor accuracy: 0.472\n",
      "Naive predictor f1-score: 0.641\n"
     ]
    }
   ],
   "source": [
    "naive_predictor_accuracy = accuracy_score(y_train, np.ones(len(y_train)))\n",
    "naive_predictor_f1score = f1_score(y_train, np.ones(len(y_train)))\n",
    "\n",
    "print(\"Naive predictor accuracy: %.3f\" % (naive_predictor_accuracy))\n",
    "print(\"Naive predictor f1-score: %.3f\" % (naive_predictor_f1score))"
   ]
  },
  {
   "cell_type": "markdown",
   "metadata": {},
   "source": [
    "As we can see above the accuracy score and f1  score is quite low. We will try improve the score by using different models"
   ]
  },
  {
   "cell_type": "markdown",
   "metadata": {},
   "source": [
    "## 5.3 Building Logistic Regression Model\n",
    "1. Perform random search of model hyperparameter space\n",
    "2. Evaluating our model"
   ]
  },
  {
   "cell_type": "code",
   "execution_count": 60,
   "metadata": {},
   "outputs": [
    {
     "name": "stdout",
     "output_type": "stream",
     "text": [
      "Fitting 10 folds for each of 3 candidates, totalling 30 fits\n",
      "[CV] penalty=l2, C=1526.41796718 .....................................\n",
      "[CV] ...................... penalty=l2, C=1526.41796718, total=   1.1s\n",
      "[CV] penalty=l2, C=1526.41796718 .....................................\n"
     ]
    },
    {
     "name": "stderr",
     "output_type": "stream",
     "text": [
      "[Parallel(n_jobs=-1)]: Done   1 out of   1 | elapsed:    1.1s remaining:    0.0s\n"
     ]
    },
    {
     "name": "stdout",
     "output_type": "stream",
     "text": [
      "[CV] ...................... penalty=l2, C=1526.41796718, total=   1.0s\n",
      "[CV] penalty=l2, C=1526.41796718 .....................................\n",
      "[CV] ...................... penalty=l2, C=1526.41796718, total=   0.9s\n",
      "[CV] penalty=l2, C=1526.41796718 .....................................\n",
      "[CV] ...................... penalty=l2, C=1526.41796718, total=   0.9s\n",
      "[CV] penalty=l2, C=1526.41796718 .....................................\n",
      "[CV] ...................... penalty=l2, C=1526.41796718, total=   0.9s\n",
      "[CV] penalty=l2, C=1526.41796718 .....................................\n",
      "[CV] ...................... penalty=l2, C=1526.41796718, total=   0.9s\n",
      "[CV] penalty=l2, C=1526.41796718 .....................................\n",
      "[CV] ...................... penalty=l2, C=1526.41796718, total=   1.0s\n",
      "[CV] penalty=l2, C=1526.41796718 .....................................\n",
      "[CV] ...................... penalty=l2, C=1526.41796718, total=   1.1s\n",
      "[CV] penalty=l2, C=1526.41796718 .....................................\n",
      "[CV] ...................... penalty=l2, C=1526.41796718, total=   1.0s\n",
      "[CV] penalty=l2, C=1526.41796718 .....................................\n",
      "[CV] ...................... penalty=l2, C=1526.41796718, total=   1.1s\n",
      "[CV] penalty=l2, C=16.7683293681 .....................................\n",
      "[CV] ...................... penalty=l2, C=16.7683293681, total=   1.0s\n",
      "[CV] penalty=l2, C=16.7683293681 .....................................\n",
      "[CV] ...................... penalty=l2, C=16.7683293681, total=   1.2s\n",
      "[CV] penalty=l2, C=16.7683293681 .....................................\n",
      "[CV] ...................... penalty=l2, C=16.7683293681, total=   0.9s\n",
      "[CV] penalty=l2, C=16.7683293681 .....................................\n",
      "[CV] ...................... penalty=l2, C=16.7683293681, total=   1.0s\n",
      "[CV] penalty=l2, C=16.7683293681 .....................................\n",
      "[CV] ...................... penalty=l2, C=16.7683293681, total=   0.9s\n",
      "[CV] penalty=l2, C=16.7683293681 .....................................\n",
      "[CV] ...................... penalty=l2, C=16.7683293681, total=   0.8s\n",
      "[CV] penalty=l2, C=16.7683293681 .....................................\n",
      "[CV] ...................... penalty=l2, C=16.7683293681, total=   1.1s\n",
      "[CV] penalty=l2, C=16.7683293681 .....................................\n",
      "[CV] ...................... penalty=l2, C=16.7683293681, total=   1.1s\n",
      "[CV] penalty=l2, C=16.7683293681 .....................................\n",
      "[CV] ...................... penalty=l2, C=16.7683293681, total=   1.0s\n",
      "[CV] penalty=l2, C=16.7683293681 .....................................\n",
      "[CV] ...................... penalty=l2, C=16.7683293681, total=   1.0s\n",
      "[CV] penalty=l2, C=2.12095088792 .....................................\n",
      "[CV] ...................... penalty=l2, C=2.12095088792, total=   1.1s\n",
      "[CV] penalty=l2, C=2.12095088792 .....................................\n",
      "[CV] ...................... penalty=l2, C=2.12095088792, total=   1.0s\n",
      "[CV] penalty=l2, C=2.12095088792 .....................................\n",
      "[CV] ...................... penalty=l2, C=2.12095088792, total=   0.9s\n",
      "[CV] penalty=l2, C=2.12095088792 .....................................\n",
      "[CV] ...................... penalty=l2, C=2.12095088792, total=   0.9s\n",
      "[CV] penalty=l2, C=2.12095088792 .....................................\n",
      "[CV] ...................... penalty=l2, C=2.12095088792, total=   0.9s\n",
      "[CV] penalty=l2, C=2.12095088792 .....................................\n",
      "[CV] ...................... penalty=l2, C=2.12095088792, total=   1.0s\n",
      "[CV] penalty=l2, C=2.12095088792 .....................................\n",
      "[CV] ...................... penalty=l2, C=2.12095088792, total=   1.1s\n",
      "[CV] penalty=l2, C=2.12095088792 .....................................\n",
      "[CV] ...................... penalty=l2, C=2.12095088792, total=   1.0s\n",
      "[CV] penalty=l2, C=2.12095088792 .....................................\n",
      "[CV] ...................... penalty=l2, C=2.12095088792, total=   1.0s\n",
      "[CV] penalty=l2, C=2.12095088792 .....................................\n",
      "[CV] ...................... penalty=l2, C=2.12095088792, total=   1.1s\n"
     ]
    },
    {
     "name": "stderr",
     "output_type": "stream",
     "text": [
      "[Parallel(n_jobs=-1)]: Done  30 out of  30 | elapsed:   30.2s finished\n"
     ]
    },
    {
     "data": {
      "text/plain": [
       "RandomizedSearchCV(cv=10, error_score='raise',\n",
       "          estimator=LogisticRegression(C=1.0, class_weight=None, dual=False, fit_intercept=True,\n",
       "          intercept_scaling=1, max_iter=100, multi_class='ovr', n_jobs=1,\n",
       "          penalty='l2', random_state=42, solver='liblinear', tol=0.0001,\n",
       "          verbose=0, warm_start=False),\n",
       "          fit_params=None, iid=True, n_iter=3, n_jobs=-1,\n",
       "          param_distributions={'penalty': ['l2'], 'C': array([  1.00000e+00,   1.20679e+00,   1.45635e+00,   1.75751e+00,\n",
       "         2.12095e+00,   2.55955e+00,   3.08884e+00,   3.72759e+00,\n",
       "         4.49843e+00,   5.42868e+00,   6.55129e+00,   7.90604e+00,\n",
       "         9.54095e+00,   1.15140e+01,   1.38950e+01,   ...    3.90694e+03,   4.71487e+03,   5.68987e+03,   6.86649e+03,\n",
       "         8.28643e+03,   1.00000e+04])},\n",
       "          pre_dispatch='2*n_jobs', random_state=62, refit=True,\n",
       "          return_train_score='warn', scoring='roc_auc', verbose=2)"
      ]
     },
     "execution_count": 60,
     "metadata": {},
     "output_type": "execute_result"
    }
   ],
   "source": [
    "scorer = make_scorer(fbeta_score, beta=0.5)\n",
    "\n",
    "# instantiate a logistic regression classifer object\n",
    "logistic_clf = LogisticRegression(random_state=42, solver='liblinear')\n",
    "\n",
    "# construct a params dict to tune the model\n",
    "grid_params = {\n",
    "    'penalty': ['l2'],\n",
    "    'C': np.logspace(0, 4)}\n",
    "\n",
    "logistic_random = RandomizedSearchCV(\n",
    "                                    estimator = logistic_clf, param_distributions = grid_params, \n",
    "                                    scoring='roc_auc', n_iter = 3, cv = 10, verbose=2, \n",
    "                                    random_state=62, n_jobs = -1)\n",
    "\n",
    "# fit train data to the model\n",
    "logistic_random.fit(X_train, y_train)"
   ]
  },
  {
   "cell_type": "markdown",
   "metadata": {},
   "source": [
    "### 5.3.1 Evaluating train data performance"
   ]
  },
  {
   "cell_type": "code",
   "execution_count": 61,
   "metadata": {},
   "outputs": [],
   "source": [
    "def evaluating_model(clf, X_train, y_train):\n",
    "    \n",
    "    '''INPUT: Classifier and training data set\n",
    "       OUTUT: Accuracy and f1 score\n",
    "    '''\n",
    "    \n",
    "    class_name = re.sub(\"[<>']\", '', str(clf.__class__))\n",
    "    class_name = class_name.split(' ')[1]\n",
    "    class_name = class_name.split('.')[-1]\n",
    "\n",
    "    y_pred_rf = clf.predict(X_train)\n",
    "\n",
    "    clf_accuracy = accuracy_score(y_train, y_pred_rf)\n",
    "    clf_f1_score = f1_score(y_train, y_pred_rf)\n",
    "    \n",
    "    print(\"%s model accuracy: %.3f\" % (class_name, clf_accuracy))\n",
    "    print(\"%s model f1-score: %.3f\" % (class_name, clf_f1_score))\n",
    "    \n",
    "    return clf_accuracy, clf_f1_score"
   ]
  },
  {
   "cell_type": "code",
   "execution_count": 62,
   "metadata": {},
   "outputs": [
    {
     "name": "stdout",
     "output_type": "stream",
     "text": [
      "RandomizedSearchCV model accuracy: 0.873\n",
      "RandomizedSearchCV model f1-score: 0.861\n"
     ]
    },
    {
     "data": {
      "text/plain": [
       "(0.87349087003222337, 0.86122958738836397)"
      ]
     },
     "execution_count": 62,
     "metadata": {},
     "output_type": "execute_result"
    }
   ],
   "source": [
    "# evaluate logistic regression model's performance\n",
    "evaluating_model(logistic_random, X_train, y_train)"
   ]
  },
  {
   "cell_type": "markdown",
   "metadata": {},
   "source": [
    "### 5.3.2 Evaluating test data performance"
   ]
  },
  {
   "cell_type": "code",
   "execution_count": 63,
   "metadata": {},
   "outputs": [
    {
     "name": "stdout",
     "output_type": "stream",
     "text": [
      "RandomizedSearchCV model accuracy: 0.870\n",
      "RandomizedSearchCV model f1-score: 0.857\n"
     ]
    },
    {
     "data": {
      "text/plain": [
       "(0.87003157736454317, 0.85663736385249067)"
      ]
     },
     "execution_count": 63,
     "metadata": {},
     "output_type": "execute_result"
    }
   ],
   "source": [
    "evaluating_model(logistic_random, X_test, y_test)"
   ]
  },
  {
   "cell_type": "markdown",
   "metadata": {},
   "source": [
    "### 5.4 Building Random Forest Model\n",
    "1. Perform random search of model hyperparameter space\n",
    "2. Evaluating our model"
   ]
  },
  {
   "cell_type": "code",
   "execution_count": 64,
   "metadata": {},
   "outputs": [
    {
     "name": "stdout",
     "output_type": "stream",
     "text": [
      "Fitting 3 folds for each of 100 candidates, totalling 300 fits\n",
      "[CV] n_estimators=50, min_samples_split=8, min_samples_leaf=4, max_features=sqrt, max_depth=3, criterion=gini \n",
      "[CV]  n_estimators=50, min_samples_split=8, min_samples_leaf=4, max_features=sqrt, max_depth=3, criterion=gini, total=   0.7s\n",
      "[CV] n_estimators=50, min_samples_split=8, min_samples_leaf=4, max_features=sqrt, max_depth=3, criterion=gini \n"
     ]
    },
    {
     "name": "stderr",
     "output_type": "stream",
     "text": [
      "[Parallel(n_jobs=-1)]: Done   1 out of   1 | elapsed:    0.8s remaining:    0.0s\n"
     ]
    },
    {
     "name": "stdout",
     "output_type": "stream",
     "text": [
      "[CV]  n_estimators=50, min_samples_split=8, min_samples_leaf=4, max_features=sqrt, max_depth=3, criterion=gini, total=   0.7s\n",
      "[CV] n_estimators=50, min_samples_split=8, min_samples_leaf=4, max_features=sqrt, max_depth=3, criterion=gini \n",
      "[CV]  n_estimators=50, min_samples_split=8, min_samples_leaf=4, max_features=sqrt, max_depth=3, criterion=gini, total=   0.7s\n",
      "[CV] n_estimators=50, min_samples_split=4, min_samples_leaf=1, max_features=auto, max_depth=5, criterion=gini \n",
      "[CV]  n_estimators=50, min_samples_split=4, min_samples_leaf=1, max_features=auto, max_depth=5, criterion=gini, total=   0.9s\n",
      "[CV] n_estimators=50, min_samples_split=4, min_samples_leaf=1, max_features=auto, max_depth=5, criterion=gini \n",
      "[CV]  n_estimators=50, min_samples_split=4, min_samples_leaf=1, max_features=auto, max_depth=5, criterion=gini, total=   0.9s\n",
      "[CV] n_estimators=50, min_samples_split=4, min_samples_leaf=1, max_features=auto, max_depth=5, criterion=gini \n",
      "[CV]  n_estimators=50, min_samples_split=4, min_samples_leaf=1, max_features=auto, max_depth=5, criterion=gini, total=   0.9s\n",
      "[CV] n_estimators=50, min_samples_split=4, min_samples_leaf=2, max_features=sqrt, max_depth=3, criterion=gini \n",
      "[CV]  n_estimators=50, min_samples_split=4, min_samples_leaf=2, max_features=sqrt, max_depth=3, criterion=gini, total=   0.7s\n",
      "[CV] n_estimators=50, min_samples_split=4, min_samples_leaf=2, max_features=sqrt, max_depth=3, criterion=gini \n",
      "[CV]  n_estimators=50, min_samples_split=4, min_samples_leaf=2, max_features=sqrt, max_depth=3, criterion=gini, total=   0.7s\n",
      "[CV] n_estimators=50, min_samples_split=4, min_samples_leaf=2, max_features=sqrt, max_depth=3, criterion=gini \n",
      "[CV]  n_estimators=50, min_samples_split=4, min_samples_leaf=2, max_features=sqrt, max_depth=3, criterion=gini, total=   0.7s\n",
      "[CV] n_estimators=10, min_samples_split=4, min_samples_leaf=4, max_features=sqrt, max_depth=3, criterion=gini \n",
      "[CV]  n_estimators=10, min_samples_split=4, min_samples_leaf=4, max_features=sqrt, max_depth=3, criterion=gini, total=   0.2s\n",
      "[CV] n_estimators=10, min_samples_split=4, min_samples_leaf=4, max_features=sqrt, max_depth=3, criterion=gini \n",
      "[CV]  n_estimators=10, min_samples_split=4, min_samples_leaf=4, max_features=sqrt, max_depth=3, criterion=gini, total=   0.2s\n",
      "[CV] n_estimators=10, min_samples_split=4, min_samples_leaf=4, max_features=sqrt, max_depth=3, criterion=gini \n",
      "[CV]  n_estimators=10, min_samples_split=4, min_samples_leaf=4, max_features=sqrt, max_depth=3, criterion=gini, total=   0.2s\n",
      "[CV] n_estimators=10, min_samples_split=4, min_samples_leaf=2, max_features=log2, max_depth=5, criterion=gini \n",
      "[CV]  n_estimators=10, min_samples_split=4, min_samples_leaf=2, max_features=log2, max_depth=5, criterion=gini, total=   0.2s\n",
      "[CV] n_estimators=10, min_samples_split=4, min_samples_leaf=2, max_features=log2, max_depth=5, criterion=gini \n",
      "[CV]  n_estimators=10, min_samples_split=4, min_samples_leaf=2, max_features=log2, max_depth=5, criterion=gini, total=   0.2s\n",
      "[CV] n_estimators=10, min_samples_split=4, min_samples_leaf=2, max_features=log2, max_depth=5, criterion=gini \n",
      "[CV]  n_estimators=10, min_samples_split=4, min_samples_leaf=2, max_features=log2, max_depth=5, criterion=gini, total=   0.2s\n",
      "[CV] n_estimators=100, min_samples_split=2, min_samples_leaf=1, max_features=sqrt, max_depth=3, criterion=gini \n",
      "[CV]  n_estimators=100, min_samples_split=2, min_samples_leaf=1, max_features=sqrt, max_depth=3, criterion=gini, total=   1.3s\n",
      "[CV] n_estimators=100, min_samples_split=2, min_samples_leaf=1, max_features=sqrt, max_depth=3, criterion=gini \n",
      "[CV]  n_estimators=100, min_samples_split=2, min_samples_leaf=1, max_features=sqrt, max_depth=3, criterion=gini, total=   1.3s\n",
      "[CV] n_estimators=100, min_samples_split=2, min_samples_leaf=1, max_features=sqrt, max_depth=3, criterion=gini \n",
      "[CV]  n_estimators=100, min_samples_split=2, min_samples_leaf=1, max_features=sqrt, max_depth=3, criterion=gini, total=   1.3s\n",
      "[CV] n_estimators=50, min_samples_split=2, min_samples_leaf=4, max_features=sqrt, max_depth=8, criterion=gini \n",
      "[CV]  n_estimators=50, min_samples_split=2, min_samples_leaf=4, max_features=sqrt, max_depth=8, criterion=gini, total=   1.3s\n",
      "[CV] n_estimators=50, min_samples_split=2, min_samples_leaf=4, max_features=sqrt, max_depth=8, criterion=gini \n",
      "[CV]  n_estimators=50, min_samples_split=2, min_samples_leaf=4, max_features=sqrt, max_depth=8, criterion=gini, total=   1.3s\n",
      "[CV] n_estimators=50, min_samples_split=2, min_samples_leaf=4, max_features=sqrt, max_depth=8, criterion=gini \n",
      "[CV]  n_estimators=50, min_samples_split=2, min_samples_leaf=4, max_features=sqrt, max_depth=8, criterion=gini, total=   1.3s\n",
      "[CV] n_estimators=50, min_samples_split=8, min_samples_leaf=2, max_features=log2, max_depth=3, criterion=gini \n",
      "[CV]  n_estimators=50, min_samples_split=8, min_samples_leaf=2, max_features=log2, max_depth=3, criterion=gini, total=   0.6s\n",
      "[CV] n_estimators=50, min_samples_split=8, min_samples_leaf=2, max_features=log2, max_depth=3, criterion=gini \n",
      "[CV]  n_estimators=50, min_samples_split=8, min_samples_leaf=2, max_features=log2, max_depth=3, criterion=gini, total=   0.6s\n",
      "[CV] n_estimators=50, min_samples_split=8, min_samples_leaf=2, max_features=log2, max_depth=3, criterion=gini \n",
      "[CV]  n_estimators=50, min_samples_split=8, min_samples_leaf=2, max_features=log2, max_depth=3, criterion=gini, total=   0.6s\n",
      "[CV] n_estimators=50, min_samples_split=4, min_samples_leaf=1, max_features=auto, max_depth=3, criterion=gini \n",
      "[CV]  n_estimators=50, min_samples_split=4, min_samples_leaf=1, max_features=auto, max_depth=3, criterion=gini, total=   0.7s\n",
      "[CV] n_estimators=50, min_samples_split=4, min_samples_leaf=1, max_features=auto, max_depth=3, criterion=gini \n",
      "[CV]  n_estimators=50, min_samples_split=4, min_samples_leaf=1, max_features=auto, max_depth=3, criterion=gini, total=   0.7s\n",
      "[CV] n_estimators=50, min_samples_split=4, min_samples_leaf=1, max_features=auto, max_depth=3, criterion=gini \n",
      "[CV]  n_estimators=50, min_samples_split=4, min_samples_leaf=1, max_features=auto, max_depth=3, criterion=gini, total=   0.7s\n",
      "[CV] n_estimators=10, min_samples_split=4, min_samples_leaf=1, max_features=sqrt, max_depth=8, criterion=gini \n",
      "[CV]  n_estimators=10, min_samples_split=4, min_samples_leaf=1, max_features=sqrt, max_depth=8, criterion=gini, total=   0.3s\n",
      "[CV] n_estimators=10, min_samples_split=4, min_samples_leaf=1, max_features=sqrt, max_depth=8, criterion=gini \n",
      "[CV]  n_estimators=10, min_samples_split=4, min_samples_leaf=1, max_features=sqrt, max_depth=8, criterion=gini, total=   0.3s\n",
      "[CV] n_estimators=10, min_samples_split=4, min_samples_leaf=1, max_features=sqrt, max_depth=8, criterion=gini \n",
      "[CV]  n_estimators=10, min_samples_split=4, min_samples_leaf=1, max_features=sqrt, max_depth=8, criterion=gini, total=   0.3s\n",
      "[CV] n_estimators=100, min_samples_split=4, min_samples_leaf=1, max_features=auto, max_depth=8, criterion=gini \n",
      "[CV]  n_estimators=100, min_samples_split=4, min_samples_leaf=1, max_features=auto, max_depth=8, criterion=gini, total=   2.5s\n",
      "[CV] n_estimators=100, min_samples_split=4, min_samples_leaf=1, max_features=auto, max_depth=8, criterion=gini \n",
      "[CV]  n_estimators=100, min_samples_split=4, min_samples_leaf=1, max_features=auto, max_depth=8, criterion=gini, total=   2.5s\n",
      "[CV] n_estimators=100, min_samples_split=4, min_samples_leaf=1, max_features=auto, max_depth=8, criterion=gini \n",
      "[CV]  n_estimators=100, min_samples_split=4, min_samples_leaf=1, max_features=auto, max_depth=8, criterion=gini, total=   2.6s\n",
      "[CV] n_estimators=100, min_samples_split=8, min_samples_leaf=1, max_features=log2, max_depth=5, criterion=gini \n",
      "[CV]  n_estimators=100, min_samples_split=8, min_samples_leaf=1, max_features=log2, max_depth=5, criterion=gini, total=   1.6s\n",
      "[CV] n_estimators=100, min_samples_split=8, min_samples_leaf=1, max_features=log2, max_depth=5, criterion=gini \n",
      "[CV]  n_estimators=100, min_samples_split=8, min_samples_leaf=1, max_features=log2, max_depth=5, criterion=gini, total=   1.6s\n",
      "[CV] n_estimators=100, min_samples_split=8, min_samples_leaf=1, max_features=log2, max_depth=5, criterion=gini \n",
      "[CV]  n_estimators=100, min_samples_split=8, min_samples_leaf=1, max_features=log2, max_depth=5, criterion=gini, total=   1.6s\n",
      "[CV] n_estimators=50, min_samples_split=2, min_samples_leaf=2, max_features=sqrt, max_depth=3, criterion=gini \n"
     ]
    },
    {
     "name": "stdout",
     "output_type": "stream",
     "text": [
      "[CV]  n_estimators=50, min_samples_split=2, min_samples_leaf=2, max_features=sqrt, max_depth=3, criterion=gini, total=   0.7s\n",
      "[CV] n_estimators=50, min_samples_split=2, min_samples_leaf=2, max_features=sqrt, max_depth=3, criterion=gini \n",
      "[CV]  n_estimators=50, min_samples_split=2, min_samples_leaf=2, max_features=sqrt, max_depth=3, criterion=gini, total=   0.7s\n",
      "[CV] n_estimators=50, min_samples_split=2, min_samples_leaf=2, max_features=sqrt, max_depth=3, criterion=gini \n",
      "[CV]  n_estimators=50, min_samples_split=2, min_samples_leaf=2, max_features=sqrt, max_depth=3, criterion=gini, total=   0.7s\n",
      "[CV] n_estimators=100, min_samples_split=4, min_samples_leaf=2, max_features=auto, max_depth=5, criterion=gini \n",
      "[CV]  n_estimators=100, min_samples_split=4, min_samples_leaf=2, max_features=auto, max_depth=5, criterion=gini, total=   1.8s\n",
      "[CV] n_estimators=100, min_samples_split=4, min_samples_leaf=2, max_features=auto, max_depth=5, criterion=gini \n",
      "[CV]  n_estimators=100, min_samples_split=4, min_samples_leaf=2, max_features=auto, max_depth=5, criterion=gini, total=   1.8s\n",
      "[CV] n_estimators=100, min_samples_split=4, min_samples_leaf=2, max_features=auto, max_depth=5, criterion=gini \n",
      "[CV]  n_estimators=100, min_samples_split=4, min_samples_leaf=2, max_features=auto, max_depth=5, criterion=gini, total=   1.8s\n",
      "[CV] n_estimators=50, min_samples_split=8, min_samples_leaf=2, max_features=sqrt, max_depth=8, criterion=gini \n",
      "[CV]  n_estimators=50, min_samples_split=8, min_samples_leaf=2, max_features=sqrt, max_depth=8, criterion=gini, total=   1.3s\n",
      "[CV] n_estimators=50, min_samples_split=8, min_samples_leaf=2, max_features=sqrt, max_depth=8, criterion=gini \n",
      "[CV]  n_estimators=50, min_samples_split=8, min_samples_leaf=2, max_features=sqrt, max_depth=8, criterion=gini, total=   1.3s\n",
      "[CV] n_estimators=50, min_samples_split=8, min_samples_leaf=2, max_features=sqrt, max_depth=8, criterion=gini \n",
      "[CV]  n_estimators=50, min_samples_split=8, min_samples_leaf=2, max_features=sqrt, max_depth=8, criterion=gini, total=   1.3s\n",
      "[CV] n_estimators=10, min_samples_split=2, min_samples_leaf=4, max_features=auto, max_depth=5, criterion=gini \n",
      "[CV]  n_estimators=10, min_samples_split=2, min_samples_leaf=4, max_features=auto, max_depth=5, criterion=gini, total=   0.2s\n",
      "[CV] n_estimators=10, min_samples_split=2, min_samples_leaf=4, max_features=auto, max_depth=5, criterion=gini \n",
      "[CV]  n_estimators=10, min_samples_split=2, min_samples_leaf=4, max_features=auto, max_depth=5, criterion=gini, total=   0.2s\n",
      "[CV] n_estimators=10, min_samples_split=2, min_samples_leaf=4, max_features=auto, max_depth=5, criterion=gini \n",
      "[CV]  n_estimators=10, min_samples_split=2, min_samples_leaf=4, max_features=auto, max_depth=5, criterion=gini, total=   0.2s\n",
      "[CV] n_estimators=100, min_samples_split=8, min_samples_leaf=4, max_features=auto, max_depth=5, criterion=gini \n",
      "[CV]  n_estimators=100, min_samples_split=8, min_samples_leaf=4, max_features=auto, max_depth=5, criterion=gini, total=   1.8s\n",
      "[CV] n_estimators=100, min_samples_split=8, min_samples_leaf=4, max_features=auto, max_depth=5, criterion=gini \n",
      "[CV]  n_estimators=100, min_samples_split=8, min_samples_leaf=4, max_features=auto, max_depth=5, criterion=gini, total=   1.8s\n",
      "[CV] n_estimators=100, min_samples_split=8, min_samples_leaf=4, max_features=auto, max_depth=5, criterion=gini \n",
      "[CV]  n_estimators=100, min_samples_split=8, min_samples_leaf=4, max_features=auto, max_depth=5, criterion=gini, total=   1.8s\n",
      "[CV] n_estimators=10, min_samples_split=8, min_samples_leaf=2, max_features=log2, max_depth=5, criterion=gini \n",
      "[CV]  n_estimators=10, min_samples_split=8, min_samples_leaf=2, max_features=log2, max_depth=5, criterion=gini, total=   0.2s\n",
      "[CV] n_estimators=10, min_samples_split=8, min_samples_leaf=2, max_features=log2, max_depth=5, criterion=gini \n",
      "[CV]  n_estimators=10, min_samples_split=8, min_samples_leaf=2, max_features=log2, max_depth=5, criterion=gini, total=   0.2s\n",
      "[CV] n_estimators=10, min_samples_split=8, min_samples_leaf=2, max_features=log2, max_depth=5, criterion=gini \n",
      "[CV]  n_estimators=10, min_samples_split=8, min_samples_leaf=2, max_features=log2, max_depth=5, criterion=gini, total=   0.2s\n",
      "[CV] n_estimators=100, min_samples_split=4, min_samples_leaf=2, max_features=log2, max_depth=8, criterion=gini \n",
      "[CV]  n_estimators=100, min_samples_split=4, min_samples_leaf=2, max_features=log2, max_depth=8, criterion=gini, total=   2.3s\n",
      "[CV] n_estimators=100, min_samples_split=4, min_samples_leaf=2, max_features=log2, max_depth=8, criterion=gini \n",
      "[CV]  n_estimators=100, min_samples_split=4, min_samples_leaf=2, max_features=log2, max_depth=8, criterion=gini, total=   2.3s\n",
      "[CV] n_estimators=100, min_samples_split=4, min_samples_leaf=2, max_features=log2, max_depth=8, criterion=gini \n",
      "[CV]  n_estimators=100, min_samples_split=4, min_samples_leaf=2, max_features=log2, max_depth=8, criterion=gini, total=   2.3s\n",
      "[CV] n_estimators=50, min_samples_split=2, min_samples_leaf=4, max_features=log2, max_depth=8, criterion=gini \n",
      "[CV]  n_estimators=50, min_samples_split=2, min_samples_leaf=4, max_features=log2, max_depth=8, criterion=gini, total=   1.1s\n",
      "[CV] n_estimators=50, min_samples_split=2, min_samples_leaf=4, max_features=log2, max_depth=8, criterion=gini \n",
      "[CV]  n_estimators=50, min_samples_split=2, min_samples_leaf=4, max_features=log2, max_depth=8, criterion=gini, total=   1.2s\n",
      "[CV] n_estimators=50, min_samples_split=2, min_samples_leaf=4, max_features=log2, max_depth=8, criterion=gini \n",
      "[CV]  n_estimators=50, min_samples_split=2, min_samples_leaf=4, max_features=log2, max_depth=8, criterion=gini, total=   1.2s\n",
      "[CV] n_estimators=10, min_samples_split=4, min_samples_leaf=2, max_features=log2, max_depth=3, criterion=gini \n",
      "[CV]  n_estimators=10, min_samples_split=4, min_samples_leaf=2, max_features=log2, max_depth=3, criterion=gini, total=   0.1s\n",
      "[CV] n_estimators=10, min_samples_split=4, min_samples_leaf=2, max_features=log2, max_depth=3, criterion=gini \n",
      "[CV]  n_estimators=10, min_samples_split=4, min_samples_leaf=2, max_features=log2, max_depth=3, criterion=gini, total=   0.1s\n",
      "[CV] n_estimators=10, min_samples_split=4, min_samples_leaf=2, max_features=log2, max_depth=3, criterion=gini \n",
      "[CV]  n_estimators=10, min_samples_split=4, min_samples_leaf=2, max_features=log2, max_depth=3, criterion=gini, total=   0.1s\n",
      "[CV] n_estimators=10, min_samples_split=4, min_samples_leaf=4, max_features=log2, max_depth=8, criterion=gini \n",
      "[CV]  n_estimators=10, min_samples_split=4, min_samples_leaf=4, max_features=log2, max_depth=8, criterion=gini, total=   0.3s\n",
      "[CV] n_estimators=10, min_samples_split=4, min_samples_leaf=4, max_features=log2, max_depth=8, criterion=gini \n",
      "[CV]  n_estimators=10, min_samples_split=4, min_samples_leaf=4, max_features=log2, max_depth=8, criterion=gini, total=   0.3s\n",
      "[CV] n_estimators=10, min_samples_split=4, min_samples_leaf=4, max_features=log2, max_depth=8, criterion=gini \n",
      "[CV]  n_estimators=10, min_samples_split=4, min_samples_leaf=4, max_features=log2, max_depth=8, criterion=gini, total=   0.3s\n",
      "[CV] n_estimators=100, min_samples_split=2, min_samples_leaf=2, max_features=auto, max_depth=5, criterion=gini \n",
      "[CV]  n_estimators=100, min_samples_split=2, min_samples_leaf=2, max_features=auto, max_depth=5, criterion=gini, total=   1.8s\n",
      "[CV] n_estimators=100, min_samples_split=2, min_samples_leaf=2, max_features=auto, max_depth=5, criterion=gini \n",
      "[CV]  n_estimators=100, min_samples_split=2, min_samples_leaf=2, max_features=auto, max_depth=5, criterion=gini, total=   1.8s\n",
      "[CV] n_estimators=100, min_samples_split=2, min_samples_leaf=2, max_features=auto, max_depth=5, criterion=gini \n",
      "[CV]  n_estimators=100, min_samples_split=2, min_samples_leaf=2, max_features=auto, max_depth=5, criterion=gini, total=   1.8s\n",
      "[CV] n_estimators=100, min_samples_split=2, min_samples_leaf=4, max_features=sqrt, max_depth=8, criterion=gini \n",
      "[CV]  n_estimators=100, min_samples_split=2, min_samples_leaf=4, max_features=sqrt, max_depth=8, criterion=gini, total=   2.6s\n",
      "[CV] n_estimators=100, min_samples_split=2, min_samples_leaf=4, max_features=sqrt, max_depth=8, criterion=gini \n",
      "[CV]  n_estimators=100, min_samples_split=2, min_samples_leaf=4, max_features=sqrt, max_depth=8, criterion=gini, total=   2.7s\n",
      "[CV] n_estimators=100, min_samples_split=2, min_samples_leaf=4, max_features=sqrt, max_depth=8, criterion=gini \n"
     ]
    },
    {
     "name": "stdout",
     "output_type": "stream",
     "text": [
      "[CV]  n_estimators=100, min_samples_split=2, min_samples_leaf=4, max_features=sqrt, max_depth=8, criterion=gini, total=   2.6s\n",
      "[CV] n_estimators=100, min_samples_split=8, min_samples_leaf=4, max_features=auto, max_depth=3, criterion=gini \n",
      "[CV]  n_estimators=100, min_samples_split=8, min_samples_leaf=4, max_features=auto, max_depth=3, criterion=gini, total=   1.3s\n",
      "[CV] n_estimators=100, min_samples_split=8, min_samples_leaf=4, max_features=auto, max_depth=3, criterion=gini \n",
      "[CV]  n_estimators=100, min_samples_split=8, min_samples_leaf=4, max_features=auto, max_depth=3, criterion=gini, total=   1.3s\n",
      "[CV] n_estimators=100, min_samples_split=8, min_samples_leaf=4, max_features=auto, max_depth=3, criterion=gini \n",
      "[CV]  n_estimators=100, min_samples_split=8, min_samples_leaf=4, max_features=auto, max_depth=3, criterion=gini, total=   1.3s\n",
      "[CV] n_estimators=10, min_samples_split=8, min_samples_leaf=2, max_features=auto, max_depth=5, criterion=gini \n",
      "[CV]  n_estimators=10, min_samples_split=8, min_samples_leaf=2, max_features=auto, max_depth=5, criterion=gini, total=   0.2s\n",
      "[CV] n_estimators=10, min_samples_split=8, min_samples_leaf=2, max_features=auto, max_depth=5, criterion=gini \n",
      "[CV]  n_estimators=10, min_samples_split=8, min_samples_leaf=2, max_features=auto, max_depth=5, criterion=gini, total=   0.2s\n",
      "[CV] n_estimators=10, min_samples_split=8, min_samples_leaf=2, max_features=auto, max_depth=5, criterion=gini \n",
      "[CV]  n_estimators=10, min_samples_split=8, min_samples_leaf=2, max_features=auto, max_depth=5, criterion=gini, total=   0.2s\n",
      "[CV] n_estimators=10, min_samples_split=2, min_samples_leaf=2, max_features=sqrt, max_depth=8, criterion=gini \n",
      "[CV]  n_estimators=10, min_samples_split=2, min_samples_leaf=2, max_features=sqrt, max_depth=8, criterion=gini, total=   0.3s\n",
      "[CV] n_estimators=10, min_samples_split=2, min_samples_leaf=2, max_features=sqrt, max_depth=8, criterion=gini \n",
      "[CV]  n_estimators=10, min_samples_split=2, min_samples_leaf=2, max_features=sqrt, max_depth=8, criterion=gini, total=   0.3s\n",
      "[CV] n_estimators=10, min_samples_split=2, min_samples_leaf=2, max_features=sqrt, max_depth=8, criterion=gini \n",
      "[CV]  n_estimators=10, min_samples_split=2, min_samples_leaf=2, max_features=sqrt, max_depth=8, criterion=gini, total=   0.3s\n",
      "[CV] n_estimators=100, min_samples_split=4, min_samples_leaf=1, max_features=sqrt, max_depth=3, criterion=gini \n",
      "[CV]  n_estimators=100, min_samples_split=4, min_samples_leaf=1, max_features=sqrt, max_depth=3, criterion=gini, total=   1.3s\n",
      "[CV] n_estimators=100, min_samples_split=4, min_samples_leaf=1, max_features=sqrt, max_depth=3, criterion=gini \n",
      "[CV]  n_estimators=100, min_samples_split=4, min_samples_leaf=1, max_features=sqrt, max_depth=3, criterion=gini, total=   1.3s\n",
      "[CV] n_estimators=100, min_samples_split=4, min_samples_leaf=1, max_features=sqrt, max_depth=3, criterion=gini \n",
      "[CV]  n_estimators=100, min_samples_split=4, min_samples_leaf=1, max_features=sqrt, max_depth=3, criterion=gini, total=   1.3s\n",
      "[CV] n_estimators=100, min_samples_split=2, min_samples_leaf=4, max_features=sqrt, max_depth=3, criterion=gini \n",
      "[CV]  n_estimators=100, min_samples_split=2, min_samples_leaf=4, max_features=sqrt, max_depth=3, criterion=gini, total=   1.3s\n",
      "[CV] n_estimators=100, min_samples_split=2, min_samples_leaf=4, max_features=sqrt, max_depth=3, criterion=gini \n",
      "[CV]  n_estimators=100, min_samples_split=2, min_samples_leaf=4, max_features=sqrt, max_depth=3, criterion=gini, total=   1.3s\n",
      "[CV] n_estimators=100, min_samples_split=2, min_samples_leaf=4, max_features=sqrt, max_depth=3, criterion=gini \n",
      "[CV]  n_estimators=100, min_samples_split=2, min_samples_leaf=4, max_features=sqrt, max_depth=3, criterion=gini, total=   1.3s\n",
      "[CV] n_estimators=100, min_samples_split=4, min_samples_leaf=4, max_features=log2, max_depth=8, criterion=gini \n",
      "[CV]  n_estimators=100, min_samples_split=4, min_samples_leaf=4, max_features=log2, max_depth=8, criterion=gini, total=   2.3s\n",
      "[CV] n_estimators=100, min_samples_split=4, min_samples_leaf=4, max_features=log2, max_depth=8, criterion=gini \n",
      "[CV]  n_estimators=100, min_samples_split=4, min_samples_leaf=4, max_features=log2, max_depth=8, criterion=gini, total=   2.3s\n",
      "[CV] n_estimators=100, min_samples_split=4, min_samples_leaf=4, max_features=log2, max_depth=8, criterion=gini \n",
      "[CV]  n_estimators=100, min_samples_split=4, min_samples_leaf=4, max_features=log2, max_depth=8, criterion=gini, total=   2.3s\n",
      "[CV] n_estimators=100, min_samples_split=4, min_samples_leaf=1, max_features=auto, max_depth=3, criterion=gini \n",
      "[CV]  n_estimators=100, min_samples_split=4, min_samples_leaf=1, max_features=auto, max_depth=3, criterion=gini, total=   1.3s\n",
      "[CV] n_estimators=100, min_samples_split=4, min_samples_leaf=1, max_features=auto, max_depth=3, criterion=gini \n",
      "[CV]  n_estimators=100, min_samples_split=4, min_samples_leaf=1, max_features=auto, max_depth=3, criterion=gini, total=   1.3s\n",
      "[CV] n_estimators=100, min_samples_split=4, min_samples_leaf=1, max_features=auto, max_depth=3, criterion=gini \n",
      "[CV]  n_estimators=100, min_samples_split=4, min_samples_leaf=1, max_features=auto, max_depth=3, criterion=gini, total=   1.3s\n",
      "[CV] n_estimators=100, min_samples_split=2, min_samples_leaf=1, max_features=sqrt, max_depth=8, criterion=gini \n",
      "[CV]  n_estimators=100, min_samples_split=2, min_samples_leaf=1, max_features=sqrt, max_depth=8, criterion=gini, total=   2.5s\n",
      "[CV] n_estimators=100, min_samples_split=2, min_samples_leaf=1, max_features=sqrt, max_depth=8, criterion=gini \n",
      "[CV]  n_estimators=100, min_samples_split=2, min_samples_leaf=1, max_features=sqrt, max_depth=8, criterion=gini, total=   2.5s\n",
      "[CV] n_estimators=100, min_samples_split=2, min_samples_leaf=1, max_features=sqrt, max_depth=8, criterion=gini \n",
      "[CV]  n_estimators=100, min_samples_split=2, min_samples_leaf=1, max_features=sqrt, max_depth=8, criterion=gini, total=   2.8s\n",
      "[CV] n_estimators=50, min_samples_split=4, min_samples_leaf=4, max_features=auto, max_depth=8, criterion=gini \n",
      "[CV]  n_estimators=50, min_samples_split=4, min_samples_leaf=4, max_features=auto, max_depth=8, criterion=gini, total=   1.3s\n",
      "[CV] n_estimators=50, min_samples_split=4, min_samples_leaf=4, max_features=auto, max_depth=8, criterion=gini \n",
      "[CV]  n_estimators=50, min_samples_split=4, min_samples_leaf=4, max_features=auto, max_depth=8, criterion=gini, total=   1.3s\n",
      "[CV] n_estimators=50, min_samples_split=4, min_samples_leaf=4, max_features=auto, max_depth=8, criterion=gini \n",
      "[CV]  n_estimators=50, min_samples_split=4, min_samples_leaf=4, max_features=auto, max_depth=8, criterion=gini, total=   1.3s\n",
      "[CV] n_estimators=50, min_samples_split=2, min_samples_leaf=1, max_features=log2, max_depth=8, criterion=gini \n",
      "[CV]  n_estimators=50, min_samples_split=2, min_samples_leaf=1, max_features=log2, max_depth=8, criterion=gini, total=   1.2s\n",
      "[CV] n_estimators=50, min_samples_split=2, min_samples_leaf=1, max_features=log2, max_depth=8, criterion=gini \n",
      "[CV]  n_estimators=50, min_samples_split=2, min_samples_leaf=1, max_features=log2, max_depth=8, criterion=gini, total=   1.2s\n",
      "[CV] n_estimators=50, min_samples_split=2, min_samples_leaf=1, max_features=log2, max_depth=8, criterion=gini \n",
      "[CV]  n_estimators=50, min_samples_split=2, min_samples_leaf=1, max_features=log2, max_depth=8, criterion=gini, total=   1.2s\n",
      "[CV] n_estimators=10, min_samples_split=8, min_samples_leaf=1, max_features=auto, max_depth=3, criterion=gini \n",
      "[CV]  n_estimators=10, min_samples_split=8, min_samples_leaf=1, max_features=auto, max_depth=3, criterion=gini, total=   0.2s\n",
      "[CV] n_estimators=10, min_samples_split=8, min_samples_leaf=1, max_features=auto, max_depth=3, criterion=gini \n",
      "[CV]  n_estimators=10, min_samples_split=8, min_samples_leaf=1, max_features=auto, max_depth=3, criterion=gini, total=   0.2s\n",
      "[CV] n_estimators=10, min_samples_split=8, min_samples_leaf=1, max_features=auto, max_depth=3, criterion=gini \n",
      "[CV]  n_estimators=10, min_samples_split=8, min_samples_leaf=1, max_features=auto, max_depth=3, criterion=gini, total=   0.2s\n",
      "[CV] n_estimators=10, min_samples_split=8, min_samples_leaf=1, max_features=log2, max_depth=3, criterion=gini \n",
      "[CV]  n_estimators=10, min_samples_split=8, min_samples_leaf=1, max_features=log2, max_depth=3, criterion=gini, total=   0.1s\n",
      "[CV] n_estimators=10, min_samples_split=8, min_samples_leaf=1, max_features=log2, max_depth=3, criterion=gini \n",
      "[CV]  n_estimators=10, min_samples_split=8, min_samples_leaf=1, max_features=log2, max_depth=3, criterion=gini, total=   0.1s\n",
      "[CV] n_estimators=10, min_samples_split=8, min_samples_leaf=1, max_features=log2, max_depth=3, criterion=gini \n"
     ]
    },
    {
     "name": "stdout",
     "output_type": "stream",
     "text": [
      "[CV]  n_estimators=10, min_samples_split=8, min_samples_leaf=1, max_features=log2, max_depth=3, criterion=gini, total=   0.1s\n",
      "[CV] n_estimators=50, min_samples_split=2, min_samples_leaf=1, max_features=log2, max_depth=3, criterion=gini \n",
      "[CV]  n_estimators=50, min_samples_split=2, min_samples_leaf=1, max_features=log2, max_depth=3, criterion=gini, total=   0.6s\n",
      "[CV] n_estimators=50, min_samples_split=2, min_samples_leaf=1, max_features=log2, max_depth=3, criterion=gini \n",
      "[CV]  n_estimators=50, min_samples_split=2, min_samples_leaf=1, max_features=log2, max_depth=3, criterion=gini, total=   0.6s\n",
      "[CV] n_estimators=50, min_samples_split=2, min_samples_leaf=1, max_features=log2, max_depth=3, criterion=gini \n",
      "[CV]  n_estimators=50, min_samples_split=2, min_samples_leaf=1, max_features=log2, max_depth=3, criterion=gini, total=   0.6s\n",
      "[CV] n_estimators=50, min_samples_split=8, min_samples_leaf=1, max_features=auto, max_depth=8, criterion=gini \n",
      "[CV]  n_estimators=50, min_samples_split=8, min_samples_leaf=1, max_features=auto, max_depth=8, criterion=gini, total=   1.3s\n",
      "[CV] n_estimators=50, min_samples_split=8, min_samples_leaf=1, max_features=auto, max_depth=8, criterion=gini \n",
      "[CV]  n_estimators=50, min_samples_split=8, min_samples_leaf=1, max_features=auto, max_depth=8, criterion=gini, total=   1.3s\n",
      "[CV] n_estimators=50, min_samples_split=8, min_samples_leaf=1, max_features=auto, max_depth=8, criterion=gini \n",
      "[CV]  n_estimators=50, min_samples_split=8, min_samples_leaf=1, max_features=auto, max_depth=8, criterion=gini, total=   1.3s\n",
      "[CV] n_estimators=50, min_samples_split=4, min_samples_leaf=1, max_features=sqrt, max_depth=5, criterion=gini \n",
      "[CV]  n_estimators=50, min_samples_split=4, min_samples_leaf=1, max_features=sqrt, max_depth=5, criterion=gini, total=   0.9s\n",
      "[CV] n_estimators=50, min_samples_split=4, min_samples_leaf=1, max_features=sqrt, max_depth=5, criterion=gini \n",
      "[CV]  n_estimators=50, min_samples_split=4, min_samples_leaf=1, max_features=sqrt, max_depth=5, criterion=gini, total=   0.9s\n",
      "[CV] n_estimators=50, min_samples_split=4, min_samples_leaf=1, max_features=sqrt, max_depth=5, criterion=gini \n",
      "[CV]  n_estimators=50, min_samples_split=4, min_samples_leaf=1, max_features=sqrt, max_depth=5, criterion=gini, total=   0.9s\n",
      "[CV] n_estimators=50, min_samples_split=4, min_samples_leaf=2, max_features=auto, max_depth=8, criterion=gini \n",
      "[CV]  n_estimators=50, min_samples_split=4, min_samples_leaf=2, max_features=auto, max_depth=8, criterion=gini, total=   1.3s\n",
      "[CV] n_estimators=50, min_samples_split=4, min_samples_leaf=2, max_features=auto, max_depth=8, criterion=gini \n",
      "[CV]  n_estimators=50, min_samples_split=4, min_samples_leaf=2, max_features=auto, max_depth=8, criterion=gini, total=   1.3s\n",
      "[CV] n_estimators=50, min_samples_split=4, min_samples_leaf=2, max_features=auto, max_depth=8, criterion=gini \n",
      "[CV]  n_estimators=50, min_samples_split=4, min_samples_leaf=2, max_features=auto, max_depth=8, criterion=gini, total=   1.3s\n",
      "[CV] n_estimators=100, min_samples_split=8, min_samples_leaf=2, max_features=log2, max_depth=5, criterion=gini \n",
      "[CV]  n_estimators=100, min_samples_split=8, min_samples_leaf=2, max_features=log2, max_depth=5, criterion=gini, total=   1.6s\n",
      "[CV] n_estimators=100, min_samples_split=8, min_samples_leaf=2, max_features=log2, max_depth=5, criterion=gini \n",
      "[CV]  n_estimators=100, min_samples_split=8, min_samples_leaf=2, max_features=log2, max_depth=5, criterion=gini, total=   1.6s\n",
      "[CV] n_estimators=100, min_samples_split=8, min_samples_leaf=2, max_features=log2, max_depth=5, criterion=gini \n",
      "[CV]  n_estimators=100, min_samples_split=8, min_samples_leaf=2, max_features=log2, max_depth=5, criterion=gini, total=   1.6s\n",
      "[CV] n_estimators=10, min_samples_split=8, min_samples_leaf=4, max_features=sqrt, max_depth=8, criterion=gini \n",
      "[CV]  n_estimators=10, min_samples_split=8, min_samples_leaf=4, max_features=sqrt, max_depth=8, criterion=gini, total=   0.3s\n",
      "[CV] n_estimators=10, min_samples_split=8, min_samples_leaf=4, max_features=sqrt, max_depth=8, criterion=gini \n",
      "[CV]  n_estimators=10, min_samples_split=8, min_samples_leaf=4, max_features=sqrt, max_depth=8, criterion=gini, total=   0.3s\n",
      "[CV] n_estimators=10, min_samples_split=8, min_samples_leaf=4, max_features=sqrt, max_depth=8, criterion=gini \n",
      "[CV]  n_estimators=10, min_samples_split=8, min_samples_leaf=4, max_features=sqrt, max_depth=8, criterion=gini, total=   0.3s\n",
      "[CV] n_estimators=50, min_samples_split=2, min_samples_leaf=4, max_features=sqrt, max_depth=3, criterion=gini \n",
      "[CV]  n_estimators=50, min_samples_split=2, min_samples_leaf=4, max_features=sqrt, max_depth=3, criterion=gini, total=   0.7s\n",
      "[CV] n_estimators=50, min_samples_split=2, min_samples_leaf=4, max_features=sqrt, max_depth=3, criterion=gini \n",
      "[CV]  n_estimators=50, min_samples_split=2, min_samples_leaf=4, max_features=sqrt, max_depth=3, criterion=gini, total=   0.7s\n",
      "[CV] n_estimators=50, min_samples_split=2, min_samples_leaf=4, max_features=sqrt, max_depth=3, criterion=gini \n",
      "[CV]  n_estimators=50, min_samples_split=2, min_samples_leaf=4, max_features=sqrt, max_depth=3, criterion=gini, total=   0.7s\n",
      "[CV] n_estimators=100, min_samples_split=8, min_samples_leaf=4, max_features=log2, max_depth=8, criterion=gini \n",
      "[CV]  n_estimators=100, min_samples_split=8, min_samples_leaf=4, max_features=log2, max_depth=8, criterion=gini, total=   2.3s\n",
      "[CV] n_estimators=100, min_samples_split=8, min_samples_leaf=4, max_features=log2, max_depth=8, criterion=gini \n",
      "[CV]  n_estimators=100, min_samples_split=8, min_samples_leaf=4, max_features=log2, max_depth=8, criterion=gini, total=   2.3s\n",
      "[CV] n_estimators=100, min_samples_split=8, min_samples_leaf=4, max_features=log2, max_depth=8, criterion=gini \n",
      "[CV]  n_estimators=100, min_samples_split=8, min_samples_leaf=4, max_features=log2, max_depth=8, criterion=gini, total=   2.3s\n",
      "[CV] n_estimators=50, min_samples_split=4, min_samples_leaf=4, max_features=log2, max_depth=3, criterion=gini \n",
      "[CV]  n_estimators=50, min_samples_split=4, min_samples_leaf=4, max_features=log2, max_depth=3, criterion=gini, total=   0.6s\n",
      "[CV] n_estimators=50, min_samples_split=4, min_samples_leaf=4, max_features=log2, max_depth=3, criterion=gini \n",
      "[CV]  n_estimators=50, min_samples_split=4, min_samples_leaf=4, max_features=log2, max_depth=3, criterion=gini, total=   0.6s\n",
      "[CV] n_estimators=50, min_samples_split=4, min_samples_leaf=4, max_features=log2, max_depth=3, criterion=gini \n",
      "[CV]  n_estimators=50, min_samples_split=4, min_samples_leaf=4, max_features=log2, max_depth=3, criterion=gini, total=   0.6s\n",
      "[CV] n_estimators=100, min_samples_split=2, min_samples_leaf=2, max_features=log2, max_depth=3, criterion=gini \n",
      "[CV]  n_estimators=100, min_samples_split=2, min_samples_leaf=2, max_features=log2, max_depth=3, criterion=gini, total=   1.2s\n",
      "[CV] n_estimators=100, min_samples_split=2, min_samples_leaf=2, max_features=log2, max_depth=3, criterion=gini \n",
      "[CV]  n_estimators=100, min_samples_split=2, min_samples_leaf=2, max_features=log2, max_depth=3, criterion=gini, total=   1.2s\n",
      "[CV] n_estimators=100, min_samples_split=2, min_samples_leaf=2, max_features=log2, max_depth=3, criterion=gini \n",
      "[CV]  n_estimators=100, min_samples_split=2, min_samples_leaf=2, max_features=log2, max_depth=3, criterion=gini, total=   1.2s\n",
      "[CV] n_estimators=50, min_samples_split=8, min_samples_leaf=1, max_features=log2, max_depth=5, criterion=gini \n",
      "[CV]  n_estimators=50, min_samples_split=8, min_samples_leaf=1, max_features=log2, max_depth=5, criterion=gini, total=   0.8s\n",
      "[CV] n_estimators=50, min_samples_split=8, min_samples_leaf=1, max_features=log2, max_depth=5, criterion=gini \n",
      "[CV]  n_estimators=50, min_samples_split=8, min_samples_leaf=1, max_features=log2, max_depth=5, criterion=gini, total=   0.8s\n",
      "[CV] n_estimators=50, min_samples_split=8, min_samples_leaf=1, max_features=log2, max_depth=5, criterion=gini \n",
      "[CV]  n_estimators=50, min_samples_split=8, min_samples_leaf=1, max_features=log2, max_depth=5, criterion=gini, total=   0.8s\n",
      "[CV] n_estimators=100, min_samples_split=4, min_samples_leaf=4, max_features=log2, max_depth=3, criterion=gini \n",
      "[CV]  n_estimators=100, min_samples_split=4, min_samples_leaf=4, max_features=log2, max_depth=3, criterion=gini, total=   1.2s\n",
      "[CV] n_estimators=100, min_samples_split=4, min_samples_leaf=4, max_features=log2, max_depth=3, criterion=gini \n"
     ]
    },
    {
     "name": "stdout",
     "output_type": "stream",
     "text": [
      "[CV]  n_estimators=100, min_samples_split=4, min_samples_leaf=4, max_features=log2, max_depth=3, criterion=gini, total=   1.2s\n",
      "[CV] n_estimators=100, min_samples_split=4, min_samples_leaf=4, max_features=log2, max_depth=3, criterion=gini \n",
      "[CV]  n_estimators=100, min_samples_split=4, min_samples_leaf=4, max_features=log2, max_depth=3, criterion=gini, total=   1.2s\n",
      "[CV] n_estimators=100, min_samples_split=4, min_samples_leaf=1, max_features=auto, max_depth=5, criterion=gini \n",
      "[CV]  n_estimators=100, min_samples_split=4, min_samples_leaf=1, max_features=auto, max_depth=5, criterion=gini, total=   1.8s\n",
      "[CV] n_estimators=100, min_samples_split=4, min_samples_leaf=1, max_features=auto, max_depth=5, criterion=gini \n",
      "[CV]  n_estimators=100, min_samples_split=4, min_samples_leaf=1, max_features=auto, max_depth=5, criterion=gini, total=   1.8s\n",
      "[CV] n_estimators=100, min_samples_split=4, min_samples_leaf=1, max_features=auto, max_depth=5, criterion=gini \n",
      "[CV]  n_estimators=100, min_samples_split=4, min_samples_leaf=1, max_features=auto, max_depth=5, criterion=gini, total=   1.8s\n",
      "[CV] n_estimators=50, min_samples_split=8, min_samples_leaf=1, max_features=log2, max_depth=3, criterion=gini \n",
      "[CV]  n_estimators=50, min_samples_split=8, min_samples_leaf=1, max_features=log2, max_depth=3, criterion=gini, total=   0.6s\n",
      "[CV] n_estimators=50, min_samples_split=8, min_samples_leaf=1, max_features=log2, max_depth=3, criterion=gini \n",
      "[CV]  n_estimators=50, min_samples_split=8, min_samples_leaf=1, max_features=log2, max_depth=3, criterion=gini, total=   0.6s\n",
      "[CV] n_estimators=50, min_samples_split=8, min_samples_leaf=1, max_features=log2, max_depth=3, criterion=gini \n",
      "[CV]  n_estimators=50, min_samples_split=8, min_samples_leaf=1, max_features=log2, max_depth=3, criterion=gini, total=   0.6s\n",
      "[CV] n_estimators=10, min_samples_split=4, min_samples_leaf=2, max_features=sqrt, max_depth=5, criterion=gini \n",
      "[CV]  n_estimators=10, min_samples_split=4, min_samples_leaf=2, max_features=sqrt, max_depth=5, criterion=gini, total=   0.2s\n",
      "[CV] n_estimators=10, min_samples_split=4, min_samples_leaf=2, max_features=sqrt, max_depth=5, criterion=gini \n",
      "[CV]  n_estimators=10, min_samples_split=4, min_samples_leaf=2, max_features=sqrt, max_depth=5, criterion=gini, total=   0.2s\n",
      "[CV] n_estimators=10, min_samples_split=4, min_samples_leaf=2, max_features=sqrt, max_depth=5, criterion=gini \n",
      "[CV]  n_estimators=10, min_samples_split=4, min_samples_leaf=2, max_features=sqrt, max_depth=5, criterion=gini, total=   0.2s\n",
      "[CV] n_estimators=100, min_samples_split=4, min_samples_leaf=2, max_features=auto, max_depth=8, criterion=gini \n",
      "[CV]  n_estimators=100, min_samples_split=4, min_samples_leaf=2, max_features=auto, max_depth=8, criterion=gini, total=   2.5s\n",
      "[CV] n_estimators=100, min_samples_split=4, min_samples_leaf=2, max_features=auto, max_depth=8, criterion=gini \n",
      "[CV]  n_estimators=100, min_samples_split=4, min_samples_leaf=2, max_features=auto, max_depth=8, criterion=gini, total=   2.5s\n",
      "[CV] n_estimators=100, min_samples_split=4, min_samples_leaf=2, max_features=auto, max_depth=8, criterion=gini \n",
      "[CV]  n_estimators=100, min_samples_split=4, min_samples_leaf=2, max_features=auto, max_depth=8, criterion=gini, total=   2.6s\n",
      "[CV] n_estimators=50, min_samples_split=8, min_samples_leaf=4, max_features=auto, max_depth=3, criterion=gini \n",
      "[CV]  n_estimators=50, min_samples_split=8, min_samples_leaf=4, max_features=auto, max_depth=3, criterion=gini, total=   0.7s\n",
      "[CV] n_estimators=50, min_samples_split=8, min_samples_leaf=4, max_features=auto, max_depth=3, criterion=gini \n",
      "[CV]  n_estimators=50, min_samples_split=8, min_samples_leaf=4, max_features=auto, max_depth=3, criterion=gini, total=   0.7s\n",
      "[CV] n_estimators=50, min_samples_split=8, min_samples_leaf=4, max_features=auto, max_depth=3, criterion=gini \n",
      "[CV]  n_estimators=50, min_samples_split=8, min_samples_leaf=4, max_features=auto, max_depth=3, criterion=gini, total=   0.7s\n",
      "[CV] n_estimators=10, min_samples_split=8, min_samples_leaf=1, max_features=auto, max_depth=5, criterion=gini \n",
      "[CV]  n_estimators=10, min_samples_split=8, min_samples_leaf=1, max_features=auto, max_depth=5, criterion=gini, total=   0.2s\n",
      "[CV] n_estimators=10, min_samples_split=8, min_samples_leaf=1, max_features=auto, max_depth=5, criterion=gini \n",
      "[CV]  n_estimators=10, min_samples_split=8, min_samples_leaf=1, max_features=auto, max_depth=5, criterion=gini, total=   0.2s\n",
      "[CV] n_estimators=10, min_samples_split=8, min_samples_leaf=1, max_features=auto, max_depth=5, criterion=gini \n",
      "[CV]  n_estimators=10, min_samples_split=8, min_samples_leaf=1, max_features=auto, max_depth=5, criterion=gini, total=   0.2s\n",
      "[CV] n_estimators=10, min_samples_split=8, min_samples_leaf=2, max_features=sqrt, max_depth=8, criterion=gini \n",
      "[CV]  n_estimators=10, min_samples_split=8, min_samples_leaf=2, max_features=sqrt, max_depth=8, criterion=gini, total=   0.3s\n",
      "[CV] n_estimators=10, min_samples_split=8, min_samples_leaf=2, max_features=sqrt, max_depth=8, criterion=gini \n",
      "[CV]  n_estimators=10, min_samples_split=8, min_samples_leaf=2, max_features=sqrt, max_depth=8, criterion=gini, total=   0.3s\n",
      "[CV] n_estimators=10, min_samples_split=8, min_samples_leaf=2, max_features=sqrt, max_depth=8, criterion=gini \n",
      "[CV]  n_estimators=10, min_samples_split=8, min_samples_leaf=2, max_features=sqrt, max_depth=8, criterion=gini, total=   0.3s\n",
      "[CV] n_estimators=10, min_samples_split=2, min_samples_leaf=1, max_features=sqrt, max_depth=8, criterion=gini \n",
      "[CV]  n_estimators=10, min_samples_split=2, min_samples_leaf=1, max_features=sqrt, max_depth=8, criterion=gini, total=   0.3s\n",
      "[CV] n_estimators=10, min_samples_split=2, min_samples_leaf=1, max_features=sqrt, max_depth=8, criterion=gini \n",
      "[CV]  n_estimators=10, min_samples_split=2, min_samples_leaf=1, max_features=sqrt, max_depth=8, criterion=gini, total=   0.3s\n",
      "[CV] n_estimators=10, min_samples_split=2, min_samples_leaf=1, max_features=sqrt, max_depth=8, criterion=gini \n",
      "[CV]  n_estimators=10, min_samples_split=2, min_samples_leaf=1, max_features=sqrt, max_depth=8, criterion=gini, total=   0.3s\n",
      "[CV] n_estimators=10, min_samples_split=2, min_samples_leaf=2, max_features=sqrt, max_depth=3, criterion=gini \n",
      "[CV]  n_estimators=10, min_samples_split=2, min_samples_leaf=2, max_features=sqrt, max_depth=3, criterion=gini, total=   0.2s\n",
      "[CV] n_estimators=10, min_samples_split=2, min_samples_leaf=2, max_features=sqrt, max_depth=3, criterion=gini \n",
      "[CV]  n_estimators=10, min_samples_split=2, min_samples_leaf=2, max_features=sqrt, max_depth=3, criterion=gini, total=   0.2s\n",
      "[CV] n_estimators=10, min_samples_split=2, min_samples_leaf=2, max_features=sqrt, max_depth=3, criterion=gini \n",
      "[CV]  n_estimators=10, min_samples_split=2, min_samples_leaf=2, max_features=sqrt, max_depth=3, criterion=gini, total=   0.2s\n",
      "[CV] n_estimators=100, min_samples_split=8, min_samples_leaf=1, max_features=log2, max_depth=3, criterion=gini \n",
      "[CV]  n_estimators=100, min_samples_split=8, min_samples_leaf=1, max_features=log2, max_depth=3, criterion=gini, total=   1.2s\n",
      "[CV] n_estimators=100, min_samples_split=8, min_samples_leaf=1, max_features=log2, max_depth=3, criterion=gini \n",
      "[CV]  n_estimators=100, min_samples_split=8, min_samples_leaf=1, max_features=log2, max_depth=3, criterion=gini, total=   1.2s\n",
      "[CV] n_estimators=100, min_samples_split=8, min_samples_leaf=1, max_features=log2, max_depth=3, criterion=gini \n",
      "[CV]  n_estimators=100, min_samples_split=8, min_samples_leaf=1, max_features=log2, max_depth=3, criterion=gini, total=   1.2s\n",
      "[CV] n_estimators=100, min_samples_split=2, min_samples_leaf=4, max_features=auto, max_depth=8, criterion=gini \n",
      "[CV]  n_estimators=100, min_samples_split=2, min_samples_leaf=4, max_features=auto, max_depth=8, criterion=gini, total=   2.5s\n",
      "[CV] n_estimators=100, min_samples_split=2, min_samples_leaf=4, max_features=auto, max_depth=8, criterion=gini \n",
      "[CV]  n_estimators=100, min_samples_split=2, min_samples_leaf=4, max_features=auto, max_depth=8, criterion=gini, total=   2.6s\n",
      "[CV] n_estimators=100, min_samples_split=2, min_samples_leaf=4, max_features=auto, max_depth=8, criterion=gini \n",
      "[CV]  n_estimators=100, min_samples_split=2, min_samples_leaf=4, max_features=auto, max_depth=8, criterion=gini, total=   2.8s\n",
      "[CV] n_estimators=100, min_samples_split=4, min_samples_leaf=1, max_features=sqrt, max_depth=8, criterion=gini \n"
     ]
    },
    {
     "name": "stdout",
     "output_type": "stream",
     "text": [
      "[CV]  n_estimators=100, min_samples_split=4, min_samples_leaf=1, max_features=sqrt, max_depth=8, criterion=gini, total=   2.5s\n",
      "[CV] n_estimators=100, min_samples_split=4, min_samples_leaf=1, max_features=sqrt, max_depth=8, criterion=gini \n",
      "[CV]  n_estimators=100, min_samples_split=4, min_samples_leaf=1, max_features=sqrt, max_depth=8, criterion=gini, total=   2.5s\n",
      "[CV] n_estimators=100, min_samples_split=4, min_samples_leaf=1, max_features=sqrt, max_depth=8, criterion=gini \n",
      "[CV]  n_estimators=100, min_samples_split=4, min_samples_leaf=1, max_features=sqrt, max_depth=8, criterion=gini, total=   2.5s\n",
      "[CV] n_estimators=100, min_samples_split=2, min_samples_leaf=2, max_features=sqrt, max_depth=3, criterion=gini \n",
      "[CV]  n_estimators=100, min_samples_split=2, min_samples_leaf=2, max_features=sqrt, max_depth=3, criterion=gini, total=   1.3s\n",
      "[CV] n_estimators=100, min_samples_split=2, min_samples_leaf=2, max_features=sqrt, max_depth=3, criterion=gini \n",
      "[CV]  n_estimators=100, min_samples_split=2, min_samples_leaf=2, max_features=sqrt, max_depth=3, criterion=gini, total=   1.3s\n",
      "[CV] n_estimators=100, min_samples_split=2, min_samples_leaf=2, max_features=sqrt, max_depth=3, criterion=gini \n",
      "[CV]  n_estimators=100, min_samples_split=2, min_samples_leaf=2, max_features=sqrt, max_depth=3, criterion=gini, total=   1.3s\n",
      "[CV] n_estimators=100, min_samples_split=4, min_samples_leaf=2, max_features=sqrt, max_depth=8, criterion=gini \n",
      "[CV]  n_estimators=100, min_samples_split=4, min_samples_leaf=2, max_features=sqrt, max_depth=8, criterion=gini, total=   2.6s\n",
      "[CV] n_estimators=100, min_samples_split=4, min_samples_leaf=2, max_features=sqrt, max_depth=8, criterion=gini \n",
      "[CV]  n_estimators=100, min_samples_split=4, min_samples_leaf=2, max_features=sqrt, max_depth=8, criterion=gini, total=   2.5s\n",
      "[CV] n_estimators=100, min_samples_split=4, min_samples_leaf=2, max_features=sqrt, max_depth=8, criterion=gini \n",
      "[CV]  n_estimators=100, min_samples_split=4, min_samples_leaf=2, max_features=sqrt, max_depth=8, criterion=gini, total=   2.6s\n",
      "[CV] n_estimators=100, min_samples_split=8, min_samples_leaf=1, max_features=log2, max_depth=8, criterion=gini \n",
      "[CV]  n_estimators=100, min_samples_split=8, min_samples_leaf=1, max_features=log2, max_depth=8, criterion=gini, total=   2.3s\n",
      "[CV] n_estimators=100, min_samples_split=8, min_samples_leaf=1, max_features=log2, max_depth=8, criterion=gini \n",
      "[CV]  n_estimators=100, min_samples_split=8, min_samples_leaf=1, max_features=log2, max_depth=8, criterion=gini, total=   2.3s\n",
      "[CV] n_estimators=100, min_samples_split=8, min_samples_leaf=1, max_features=log2, max_depth=8, criterion=gini \n",
      "[CV]  n_estimators=100, min_samples_split=8, min_samples_leaf=1, max_features=log2, max_depth=8, criterion=gini, total=   2.3s\n",
      "[CV] n_estimators=50, min_samples_split=4, min_samples_leaf=1, max_features=log2, max_depth=5, criterion=gini \n",
      "[CV]  n_estimators=50, min_samples_split=4, min_samples_leaf=1, max_features=log2, max_depth=5, criterion=gini, total=   0.9s\n",
      "[CV] n_estimators=50, min_samples_split=4, min_samples_leaf=1, max_features=log2, max_depth=5, criterion=gini \n",
      "[CV]  n_estimators=50, min_samples_split=4, min_samples_leaf=1, max_features=log2, max_depth=5, criterion=gini, total=   0.9s\n",
      "[CV] n_estimators=50, min_samples_split=4, min_samples_leaf=1, max_features=log2, max_depth=5, criterion=gini \n",
      "[CV]  n_estimators=50, min_samples_split=4, min_samples_leaf=1, max_features=log2, max_depth=5, criterion=gini, total=   0.9s\n",
      "[CV] n_estimators=100, min_samples_split=4, min_samples_leaf=2, max_features=log2, max_depth=5, criterion=gini \n",
      "[CV]  n_estimators=100, min_samples_split=4, min_samples_leaf=2, max_features=log2, max_depth=5, criterion=gini, total=   1.7s\n",
      "[CV] n_estimators=100, min_samples_split=4, min_samples_leaf=2, max_features=log2, max_depth=5, criterion=gini \n",
      "[CV]  n_estimators=100, min_samples_split=4, min_samples_leaf=2, max_features=log2, max_depth=5, criterion=gini, total=   1.6s\n",
      "[CV] n_estimators=100, min_samples_split=4, min_samples_leaf=2, max_features=log2, max_depth=5, criterion=gini \n",
      "[CV]  n_estimators=100, min_samples_split=4, min_samples_leaf=2, max_features=log2, max_depth=5, criterion=gini, total=   1.6s\n",
      "[CV] n_estimators=100, min_samples_split=2, min_samples_leaf=1, max_features=auto, max_depth=8, criterion=gini \n",
      "[CV]  n_estimators=100, min_samples_split=2, min_samples_leaf=1, max_features=auto, max_depth=8, criterion=gini, total=   2.6s\n",
      "[CV] n_estimators=100, min_samples_split=2, min_samples_leaf=1, max_features=auto, max_depth=8, criterion=gini \n",
      "[CV]  n_estimators=100, min_samples_split=2, min_samples_leaf=1, max_features=auto, max_depth=8, criterion=gini, total=   2.6s\n",
      "[CV] n_estimators=100, min_samples_split=2, min_samples_leaf=1, max_features=auto, max_depth=8, criterion=gini \n",
      "[CV]  n_estimators=100, min_samples_split=2, min_samples_leaf=1, max_features=auto, max_depth=8, criterion=gini, total=   2.6s\n",
      "[CV] n_estimators=100, min_samples_split=8, min_samples_leaf=2, max_features=log2, max_depth=3, criterion=gini \n",
      "[CV]  n_estimators=100, min_samples_split=8, min_samples_leaf=2, max_features=log2, max_depth=3, criterion=gini, total=   1.2s\n",
      "[CV] n_estimators=100, min_samples_split=8, min_samples_leaf=2, max_features=log2, max_depth=3, criterion=gini \n",
      "[CV]  n_estimators=100, min_samples_split=8, min_samples_leaf=2, max_features=log2, max_depth=3, criterion=gini, total=   1.2s\n",
      "[CV] n_estimators=100, min_samples_split=8, min_samples_leaf=2, max_features=log2, max_depth=3, criterion=gini \n",
      "[CV]  n_estimators=100, min_samples_split=8, min_samples_leaf=2, max_features=log2, max_depth=3, criterion=gini, total=   1.2s\n",
      "[CV] n_estimators=50, min_samples_split=4, min_samples_leaf=2, max_features=sqrt, max_depth=5, criterion=gini \n",
      "[CV]  n_estimators=50, min_samples_split=4, min_samples_leaf=2, max_features=sqrt, max_depth=5, criterion=gini, total=   0.9s\n",
      "[CV] n_estimators=50, min_samples_split=4, min_samples_leaf=2, max_features=sqrt, max_depth=5, criterion=gini \n",
      "[CV]  n_estimators=50, min_samples_split=4, min_samples_leaf=2, max_features=sqrt, max_depth=5, criterion=gini, total=   0.9s\n",
      "[CV] n_estimators=50, min_samples_split=4, min_samples_leaf=2, max_features=sqrt, max_depth=5, criterion=gini \n",
      "[CV]  n_estimators=50, min_samples_split=4, min_samples_leaf=2, max_features=sqrt, max_depth=5, criterion=gini, total=   0.9s\n",
      "[CV] n_estimators=100, min_samples_split=8, min_samples_leaf=2, max_features=sqrt, max_depth=5, criterion=gini \n",
      "[CV]  n_estimators=100, min_samples_split=8, min_samples_leaf=2, max_features=sqrt, max_depth=5, criterion=gini, total=   1.8s\n",
      "[CV] n_estimators=100, min_samples_split=8, min_samples_leaf=2, max_features=sqrt, max_depth=5, criterion=gini \n",
      "[CV]  n_estimators=100, min_samples_split=8, min_samples_leaf=2, max_features=sqrt, max_depth=5, criterion=gini, total=   1.8s\n",
      "[CV] n_estimators=100, min_samples_split=8, min_samples_leaf=2, max_features=sqrt, max_depth=5, criterion=gini \n",
      "[CV]  n_estimators=100, min_samples_split=8, min_samples_leaf=2, max_features=sqrt, max_depth=5, criterion=gini, total=   1.8s\n",
      "[CV] n_estimators=10, min_samples_split=2, min_samples_leaf=1, max_features=sqrt, max_depth=3, criterion=gini \n",
      "[CV]  n_estimators=10, min_samples_split=2, min_samples_leaf=1, max_features=sqrt, max_depth=3, criterion=gini, total=   0.2s\n",
      "[CV] n_estimators=10, min_samples_split=2, min_samples_leaf=1, max_features=sqrt, max_depth=3, criterion=gini \n",
      "[CV]  n_estimators=10, min_samples_split=2, min_samples_leaf=1, max_features=sqrt, max_depth=3, criterion=gini, total=   0.2s\n",
      "[CV] n_estimators=10, min_samples_split=2, min_samples_leaf=1, max_features=sqrt, max_depth=3, criterion=gini \n",
      "[CV]  n_estimators=10, min_samples_split=2, min_samples_leaf=1, max_features=sqrt, max_depth=3, criterion=gini, total=   0.2s\n",
      "[CV] n_estimators=50, min_samples_split=2, min_samples_leaf=2, max_features=auto, max_depth=5, criterion=gini \n",
      "[CV]  n_estimators=50, min_samples_split=2, min_samples_leaf=2, max_features=auto, max_depth=5, criterion=gini, total=   0.9s\n",
      "[CV] n_estimators=50, min_samples_split=2, min_samples_leaf=2, max_features=auto, max_depth=5, criterion=gini \n",
      "[CV]  n_estimators=50, min_samples_split=2, min_samples_leaf=2, max_features=auto, max_depth=5, criterion=gini, total=   0.9s\n",
      "[CV] n_estimators=50, min_samples_split=2, min_samples_leaf=2, max_features=auto, max_depth=5, criterion=gini \n"
     ]
    },
    {
     "name": "stdout",
     "output_type": "stream",
     "text": [
      "[CV]  n_estimators=50, min_samples_split=2, min_samples_leaf=2, max_features=auto, max_depth=5, criterion=gini, total=   0.9s\n",
      "[CV] n_estimators=10, min_samples_split=4, min_samples_leaf=2, max_features=auto, max_depth=8, criterion=gini \n",
      "[CV]  n_estimators=10, min_samples_split=4, min_samples_leaf=2, max_features=auto, max_depth=8, criterion=gini, total=   0.3s\n",
      "[CV] n_estimators=10, min_samples_split=4, min_samples_leaf=2, max_features=auto, max_depth=8, criterion=gini \n",
      "[CV]  n_estimators=10, min_samples_split=4, min_samples_leaf=2, max_features=auto, max_depth=8, criterion=gini, total=   0.3s\n",
      "[CV] n_estimators=10, min_samples_split=4, min_samples_leaf=2, max_features=auto, max_depth=8, criterion=gini \n",
      "[CV]  n_estimators=10, min_samples_split=4, min_samples_leaf=2, max_features=auto, max_depth=8, criterion=gini, total=   0.3s\n",
      "[CV] n_estimators=10, min_samples_split=4, min_samples_leaf=4, max_features=auto, max_depth=5, criterion=gini \n",
      "[CV]  n_estimators=10, min_samples_split=4, min_samples_leaf=4, max_features=auto, max_depth=5, criterion=gini, total=   0.2s\n",
      "[CV] n_estimators=10, min_samples_split=4, min_samples_leaf=4, max_features=auto, max_depth=5, criterion=gini \n",
      "[CV]  n_estimators=10, min_samples_split=4, min_samples_leaf=4, max_features=auto, max_depth=5, criterion=gini, total=   0.2s\n",
      "[CV] n_estimators=10, min_samples_split=4, min_samples_leaf=4, max_features=auto, max_depth=5, criterion=gini \n",
      "[CV]  n_estimators=10, min_samples_split=4, min_samples_leaf=4, max_features=auto, max_depth=5, criterion=gini, total=   0.2s\n",
      "[CV] n_estimators=50, min_samples_split=8, min_samples_leaf=4, max_features=log2, max_depth=5, criterion=gini \n",
      "[CV]  n_estimators=50, min_samples_split=8, min_samples_leaf=4, max_features=log2, max_depth=5, criterion=gini, total=   0.8s\n",
      "[CV] n_estimators=50, min_samples_split=8, min_samples_leaf=4, max_features=log2, max_depth=5, criterion=gini \n",
      "[CV]  n_estimators=50, min_samples_split=8, min_samples_leaf=4, max_features=log2, max_depth=5, criterion=gini, total=   0.8s\n",
      "[CV] n_estimators=50, min_samples_split=8, min_samples_leaf=4, max_features=log2, max_depth=5, criterion=gini \n",
      "[CV]  n_estimators=50, min_samples_split=8, min_samples_leaf=4, max_features=log2, max_depth=5, criterion=gini, total=   0.8s\n",
      "[CV] n_estimators=50, min_samples_split=2, min_samples_leaf=4, max_features=auto, max_depth=3, criterion=gini \n",
      "[CV]  n_estimators=50, min_samples_split=2, min_samples_leaf=4, max_features=auto, max_depth=3, criterion=gini, total=   0.7s\n",
      "[CV] n_estimators=50, min_samples_split=2, min_samples_leaf=4, max_features=auto, max_depth=3, criterion=gini \n",
      "[CV]  n_estimators=50, min_samples_split=2, min_samples_leaf=4, max_features=auto, max_depth=3, criterion=gini, total=   0.7s\n",
      "[CV] n_estimators=50, min_samples_split=2, min_samples_leaf=4, max_features=auto, max_depth=3, criterion=gini \n",
      "[CV]  n_estimators=50, min_samples_split=2, min_samples_leaf=4, max_features=auto, max_depth=3, criterion=gini, total=   0.7s\n",
      "[CV] n_estimators=100, min_samples_split=4, min_samples_leaf=1, max_features=log2, max_depth=5, criterion=gini \n",
      "[CV]  n_estimators=100, min_samples_split=4, min_samples_leaf=1, max_features=log2, max_depth=5, criterion=gini, total=   1.6s\n",
      "[CV] n_estimators=100, min_samples_split=4, min_samples_leaf=1, max_features=log2, max_depth=5, criterion=gini \n",
      "[CV]  n_estimators=100, min_samples_split=4, min_samples_leaf=1, max_features=log2, max_depth=5, criterion=gini, total=   1.6s\n",
      "[CV] n_estimators=100, min_samples_split=4, min_samples_leaf=1, max_features=log2, max_depth=5, criterion=gini \n",
      "[CV]  n_estimators=100, min_samples_split=4, min_samples_leaf=1, max_features=log2, max_depth=5, criterion=gini, total=   1.6s\n",
      "[CV] n_estimators=10, min_samples_split=4, min_samples_leaf=1, max_features=sqrt, max_depth=5, criterion=gini \n",
      "[CV]  n_estimators=10, min_samples_split=4, min_samples_leaf=1, max_features=sqrt, max_depth=5, criterion=gini, total=   0.2s\n",
      "[CV] n_estimators=10, min_samples_split=4, min_samples_leaf=1, max_features=sqrt, max_depth=5, criterion=gini \n",
      "[CV]  n_estimators=10, min_samples_split=4, min_samples_leaf=1, max_features=sqrt, max_depth=5, criterion=gini, total=   0.2s\n",
      "[CV] n_estimators=10, min_samples_split=4, min_samples_leaf=1, max_features=sqrt, max_depth=5, criterion=gini \n",
      "[CV]  n_estimators=10, min_samples_split=4, min_samples_leaf=1, max_features=sqrt, max_depth=5, criterion=gini, total=   0.2s\n",
      "[CV] n_estimators=50, min_samples_split=8, min_samples_leaf=4, max_features=sqrt, max_depth=8, criterion=gini \n",
      "[CV]  n_estimators=50, min_samples_split=8, min_samples_leaf=4, max_features=sqrt, max_depth=8, criterion=gini, total=   1.3s\n",
      "[CV] n_estimators=50, min_samples_split=8, min_samples_leaf=4, max_features=sqrt, max_depth=8, criterion=gini \n",
      "[CV]  n_estimators=50, min_samples_split=8, min_samples_leaf=4, max_features=sqrt, max_depth=8, criterion=gini, total=   1.3s\n",
      "[CV] n_estimators=50, min_samples_split=8, min_samples_leaf=4, max_features=sqrt, max_depth=8, criterion=gini \n",
      "[CV]  n_estimators=50, min_samples_split=8, min_samples_leaf=4, max_features=sqrt, max_depth=8, criterion=gini, total=   1.3s\n",
      "[CV] n_estimators=100, min_samples_split=8, min_samples_leaf=4, max_features=sqrt, max_depth=5, criterion=gini \n",
      "[CV]  n_estimators=100, min_samples_split=8, min_samples_leaf=4, max_features=sqrt, max_depth=5, criterion=gini, total=   1.8s\n",
      "[CV] n_estimators=100, min_samples_split=8, min_samples_leaf=4, max_features=sqrt, max_depth=5, criterion=gini \n",
      "[CV]  n_estimators=100, min_samples_split=8, min_samples_leaf=4, max_features=sqrt, max_depth=5, criterion=gini, total=   1.8s\n",
      "[CV] n_estimators=100, min_samples_split=8, min_samples_leaf=4, max_features=sqrt, max_depth=5, criterion=gini \n",
      "[CV]  n_estimators=100, min_samples_split=8, min_samples_leaf=4, max_features=sqrt, max_depth=5, criterion=gini, total=   1.8s\n",
      "[CV] n_estimators=100, min_samples_split=8, min_samples_leaf=4, max_features=log2, max_depth=5, criterion=gini \n",
      "[CV]  n_estimators=100, min_samples_split=8, min_samples_leaf=4, max_features=log2, max_depth=5, criterion=gini, total=   1.7s\n",
      "[CV] n_estimators=100, min_samples_split=8, min_samples_leaf=4, max_features=log2, max_depth=5, criterion=gini \n",
      "[CV]  n_estimators=100, min_samples_split=8, min_samples_leaf=4, max_features=log2, max_depth=5, criterion=gini, total=   1.6s\n",
      "[CV] n_estimators=100, min_samples_split=8, min_samples_leaf=4, max_features=log2, max_depth=5, criterion=gini \n",
      "[CV]  n_estimators=100, min_samples_split=8, min_samples_leaf=4, max_features=log2, max_depth=5, criterion=gini, total=   1.6s\n",
      "[CV] n_estimators=50, min_samples_split=2, min_samples_leaf=1, max_features=auto, max_depth=5, criterion=gini \n",
      "[CV]  n_estimators=50, min_samples_split=2, min_samples_leaf=1, max_features=auto, max_depth=5, criterion=gini, total=   0.9s\n",
      "[CV] n_estimators=50, min_samples_split=2, min_samples_leaf=1, max_features=auto, max_depth=5, criterion=gini \n",
      "[CV]  n_estimators=50, min_samples_split=2, min_samples_leaf=1, max_features=auto, max_depth=5, criterion=gini, total=   0.9s\n",
      "[CV] n_estimators=50, min_samples_split=2, min_samples_leaf=1, max_features=auto, max_depth=5, criterion=gini \n",
      "[CV]  n_estimators=50, min_samples_split=2, min_samples_leaf=1, max_features=auto, max_depth=5, criterion=gini, total=   0.9s\n",
      "[CV] n_estimators=10, min_samples_split=2, min_samples_leaf=2, max_features=auto, max_depth=3, criterion=gini \n",
      "[CV]  n_estimators=10, min_samples_split=2, min_samples_leaf=2, max_features=auto, max_depth=3, criterion=gini, total=   0.2s\n",
      "[CV] n_estimators=10, min_samples_split=2, min_samples_leaf=2, max_features=auto, max_depth=3, criterion=gini \n",
      "[CV]  n_estimators=10, min_samples_split=2, min_samples_leaf=2, max_features=auto, max_depth=3, criterion=gini, total=   0.2s\n",
      "[CV] n_estimators=10, min_samples_split=2, min_samples_leaf=2, max_features=auto, max_depth=3, criterion=gini \n",
      "[CV]  n_estimators=10, min_samples_split=2, min_samples_leaf=2, max_features=auto, max_depth=3, criterion=gini, total=   0.2s\n",
      "[CV] n_estimators=100, min_samples_split=4, min_samples_leaf=1, max_features=log2, max_depth=3, criterion=gini \n",
      "[CV]  n_estimators=100, min_samples_split=4, min_samples_leaf=1, max_features=log2, max_depth=3, criterion=gini, total=   1.2s\n",
      "[CV] n_estimators=100, min_samples_split=4, min_samples_leaf=1, max_features=log2, max_depth=3, criterion=gini \n"
     ]
    },
    {
     "name": "stdout",
     "output_type": "stream",
     "text": [
      "[CV]  n_estimators=100, min_samples_split=4, min_samples_leaf=1, max_features=log2, max_depth=3, criterion=gini, total=   1.2s\n",
      "[CV] n_estimators=100, min_samples_split=4, min_samples_leaf=1, max_features=log2, max_depth=3, criterion=gini \n",
      "[CV]  n_estimators=100, min_samples_split=4, min_samples_leaf=1, max_features=log2, max_depth=3, criterion=gini, total=   1.2s\n",
      "[CV] n_estimators=10, min_samples_split=2, min_samples_leaf=2, max_features=auto, max_depth=8, criterion=gini \n",
      "[CV]  n_estimators=10, min_samples_split=2, min_samples_leaf=2, max_features=auto, max_depth=8, criterion=gini, total=   0.3s\n",
      "[CV] n_estimators=10, min_samples_split=2, min_samples_leaf=2, max_features=auto, max_depth=8, criterion=gini \n",
      "[CV]  n_estimators=10, min_samples_split=2, min_samples_leaf=2, max_features=auto, max_depth=8, criterion=gini, total=   0.3s\n",
      "[CV] n_estimators=10, min_samples_split=2, min_samples_leaf=2, max_features=auto, max_depth=8, criterion=gini \n",
      "[CV]  n_estimators=10, min_samples_split=2, min_samples_leaf=2, max_features=auto, max_depth=8, criterion=gini, total=   0.3s\n",
      "[CV] n_estimators=100, min_samples_split=2, min_samples_leaf=4, max_features=log2, max_depth=8, criterion=gini \n",
      "[CV]  n_estimators=100, min_samples_split=2, min_samples_leaf=4, max_features=log2, max_depth=8, criterion=gini, total=   2.3s\n",
      "[CV] n_estimators=100, min_samples_split=2, min_samples_leaf=4, max_features=log2, max_depth=8, criterion=gini \n",
      "[CV]  n_estimators=100, min_samples_split=2, min_samples_leaf=4, max_features=log2, max_depth=8, criterion=gini, total=   2.3s\n",
      "[CV] n_estimators=100, min_samples_split=2, min_samples_leaf=4, max_features=log2, max_depth=8, criterion=gini \n",
      "[CV]  n_estimators=100, min_samples_split=2, min_samples_leaf=4, max_features=log2, max_depth=8, criterion=gini, total=   2.3s\n",
      "[CV] n_estimators=10, min_samples_split=2, min_samples_leaf=4, max_features=sqrt, max_depth=5, criterion=gini \n",
      "[CV]  n_estimators=10, min_samples_split=2, min_samples_leaf=4, max_features=sqrt, max_depth=5, criterion=gini, total=   0.2s\n",
      "[CV] n_estimators=10, min_samples_split=2, min_samples_leaf=4, max_features=sqrt, max_depth=5, criterion=gini \n",
      "[CV]  n_estimators=10, min_samples_split=2, min_samples_leaf=4, max_features=sqrt, max_depth=5, criterion=gini, total=   0.2s\n",
      "[CV] n_estimators=10, min_samples_split=2, min_samples_leaf=4, max_features=sqrt, max_depth=5, criterion=gini \n",
      "[CV]  n_estimators=10, min_samples_split=2, min_samples_leaf=4, max_features=sqrt, max_depth=5, criterion=gini, total=   0.2s\n",
      "[CV] n_estimators=10, min_samples_split=8, min_samples_leaf=4, max_features=auto, max_depth=8, criterion=gini \n",
      "[CV]  n_estimators=10, min_samples_split=8, min_samples_leaf=4, max_features=auto, max_depth=8, criterion=gini, total=   0.3s\n",
      "[CV] n_estimators=10, min_samples_split=8, min_samples_leaf=4, max_features=auto, max_depth=8, criterion=gini \n",
      "[CV]  n_estimators=10, min_samples_split=8, min_samples_leaf=4, max_features=auto, max_depth=8, criterion=gini, total=   0.3s\n",
      "[CV] n_estimators=10, min_samples_split=8, min_samples_leaf=4, max_features=auto, max_depth=8, criterion=gini \n",
      "[CV]  n_estimators=10, min_samples_split=8, min_samples_leaf=4, max_features=auto, max_depth=8, criterion=gini, total=   0.3s\n",
      "[CV] n_estimators=10, min_samples_split=4, min_samples_leaf=1, max_features=log2, max_depth=8, criterion=gini \n",
      "[CV]  n_estimators=10, min_samples_split=4, min_samples_leaf=1, max_features=log2, max_depth=8, criterion=gini, total=   0.3s\n",
      "[CV] n_estimators=10, min_samples_split=4, min_samples_leaf=1, max_features=log2, max_depth=8, criterion=gini \n",
      "[CV]  n_estimators=10, min_samples_split=4, min_samples_leaf=1, max_features=log2, max_depth=8, criterion=gini, total=   0.3s\n",
      "[CV] n_estimators=10, min_samples_split=4, min_samples_leaf=1, max_features=log2, max_depth=8, criterion=gini \n",
      "[CV]  n_estimators=10, min_samples_split=4, min_samples_leaf=1, max_features=log2, max_depth=8, criterion=gini, total=   0.3s\n",
      "[CV] n_estimators=100, min_samples_split=4, min_samples_leaf=4, max_features=sqrt, max_depth=3, criterion=gini \n",
      "[CV]  n_estimators=100, min_samples_split=4, min_samples_leaf=4, max_features=sqrt, max_depth=3, criterion=gini, total=   1.3s\n",
      "[CV] n_estimators=100, min_samples_split=4, min_samples_leaf=4, max_features=sqrt, max_depth=3, criterion=gini \n",
      "[CV]  n_estimators=100, min_samples_split=4, min_samples_leaf=4, max_features=sqrt, max_depth=3, criterion=gini, total=   1.3s\n",
      "[CV] n_estimators=100, min_samples_split=4, min_samples_leaf=4, max_features=sqrt, max_depth=3, criterion=gini \n",
      "[CV]  n_estimators=100, min_samples_split=4, min_samples_leaf=4, max_features=sqrt, max_depth=3, criterion=gini, total=   1.3s\n",
      "[CV] n_estimators=10, min_samples_split=2, min_samples_leaf=2, max_features=log2, max_depth=3, criterion=gini \n",
      "[CV]  n_estimators=10, min_samples_split=2, min_samples_leaf=2, max_features=log2, max_depth=3, criterion=gini, total=   0.1s\n",
      "[CV] n_estimators=10, min_samples_split=2, min_samples_leaf=2, max_features=log2, max_depth=3, criterion=gini \n",
      "[CV]  n_estimators=10, min_samples_split=2, min_samples_leaf=2, max_features=log2, max_depth=3, criterion=gini, total=   0.1s\n",
      "[CV] n_estimators=10, min_samples_split=2, min_samples_leaf=2, max_features=log2, max_depth=3, criterion=gini \n",
      "[CV]  n_estimators=10, min_samples_split=2, min_samples_leaf=2, max_features=log2, max_depth=3, criterion=gini, total=   0.1s\n",
      "[CV] n_estimators=100, min_samples_split=4, min_samples_leaf=1, max_features=sqrt, max_depth=5, criterion=gini \n",
      "[CV]  n_estimators=100, min_samples_split=4, min_samples_leaf=1, max_features=sqrt, max_depth=5, criterion=gini, total=   1.8s\n",
      "[CV] n_estimators=100, min_samples_split=4, min_samples_leaf=1, max_features=sqrt, max_depth=5, criterion=gini \n",
      "[CV]  n_estimators=100, min_samples_split=4, min_samples_leaf=1, max_features=sqrt, max_depth=5, criterion=gini, total=   1.8s\n",
      "[CV] n_estimators=100, min_samples_split=4, min_samples_leaf=1, max_features=sqrt, max_depth=5, criterion=gini \n",
      "[CV]  n_estimators=100, min_samples_split=4, min_samples_leaf=1, max_features=sqrt, max_depth=5, criterion=gini, total=   1.8s\n",
      "[CV] n_estimators=100, min_samples_split=8, min_samples_leaf=2, max_features=sqrt, max_depth=3, criterion=gini \n",
      "[CV]  n_estimators=100, min_samples_split=8, min_samples_leaf=2, max_features=sqrt, max_depth=3, criterion=gini, total=   1.3s\n",
      "[CV] n_estimators=100, min_samples_split=8, min_samples_leaf=2, max_features=sqrt, max_depth=3, criterion=gini \n",
      "[CV]  n_estimators=100, min_samples_split=8, min_samples_leaf=2, max_features=sqrt, max_depth=3, criterion=gini, total=   1.3s\n",
      "[CV] n_estimators=100, min_samples_split=8, min_samples_leaf=2, max_features=sqrt, max_depth=3, criterion=gini \n",
      "[CV]  n_estimators=100, min_samples_split=8, min_samples_leaf=2, max_features=sqrt, max_depth=3, criterion=gini, total=   1.3s\n",
      "[CV] n_estimators=50, min_samples_split=2, min_samples_leaf=1, max_features=sqrt, max_depth=8, criterion=gini \n",
      "[CV]  n_estimators=50, min_samples_split=2, min_samples_leaf=1, max_features=sqrt, max_depth=8, criterion=gini, total=   1.3s\n",
      "[CV] n_estimators=50, min_samples_split=2, min_samples_leaf=1, max_features=sqrt, max_depth=8, criterion=gini \n",
      "[CV]  n_estimators=50, min_samples_split=2, min_samples_leaf=1, max_features=sqrt, max_depth=8, criterion=gini, total=   1.3s\n",
      "[CV] n_estimators=50, min_samples_split=2, min_samples_leaf=1, max_features=sqrt, max_depth=8, criterion=gini \n",
      "[CV]  n_estimators=50, min_samples_split=2, min_samples_leaf=1, max_features=sqrt, max_depth=8, criterion=gini, total=   1.3s\n",
      "[CV] n_estimators=10, min_samples_split=8, min_samples_leaf=1, max_features=sqrt, max_depth=8, criterion=gini \n",
      "[CV]  n_estimators=10, min_samples_split=8, min_samples_leaf=1, max_features=sqrt, max_depth=8, criterion=gini, total=   0.3s\n",
      "[CV] n_estimators=10, min_samples_split=8, min_samples_leaf=1, max_features=sqrt, max_depth=8, criterion=gini \n",
      "[CV]  n_estimators=10, min_samples_split=8, min_samples_leaf=1, max_features=sqrt, max_depth=8, criterion=gini, total=   0.3s\n",
      "[CV] n_estimators=10, min_samples_split=8, min_samples_leaf=1, max_features=sqrt, max_depth=8, criterion=gini \n",
      "[CV]  n_estimators=10, min_samples_split=8, min_samples_leaf=1, max_features=sqrt, max_depth=8, criterion=gini, total=   0.3s\n",
      "[CV] n_estimators=100, min_samples_split=2, min_samples_leaf=1, max_features=log2, max_depth=8, criterion=gini \n"
     ]
    },
    {
     "name": "stdout",
     "output_type": "stream",
     "text": [
      "[CV]  n_estimators=100, min_samples_split=2, min_samples_leaf=1, max_features=log2, max_depth=8, criterion=gini, total=   2.3s\n",
      "[CV] n_estimators=100, min_samples_split=2, min_samples_leaf=1, max_features=log2, max_depth=8, criterion=gini \n",
      "[CV]  n_estimators=100, min_samples_split=2, min_samples_leaf=1, max_features=log2, max_depth=8, criterion=gini, total=   2.3s\n",
      "[CV] n_estimators=100, min_samples_split=2, min_samples_leaf=1, max_features=log2, max_depth=8, criterion=gini \n",
      "[CV]  n_estimators=100, min_samples_split=2, min_samples_leaf=1, max_features=log2, max_depth=8, criterion=gini, total=   2.3s\n",
      "[CV] n_estimators=100, min_samples_split=2, min_samples_leaf=4, max_features=log2, max_depth=3, criterion=gini \n",
      "[CV]  n_estimators=100, min_samples_split=2, min_samples_leaf=4, max_features=log2, max_depth=3, criterion=gini, total=   1.2s\n",
      "[CV] n_estimators=100, min_samples_split=2, min_samples_leaf=4, max_features=log2, max_depth=3, criterion=gini \n",
      "[CV]  n_estimators=100, min_samples_split=2, min_samples_leaf=4, max_features=log2, max_depth=3, criterion=gini, total=   1.2s\n",
      "[CV] n_estimators=100, min_samples_split=2, min_samples_leaf=4, max_features=log2, max_depth=3, criterion=gini \n",
      "[CV]  n_estimators=100, min_samples_split=2, min_samples_leaf=4, max_features=log2, max_depth=3, criterion=gini, total=   1.2s\n",
      "[CV] n_estimators=100, min_samples_split=2, min_samples_leaf=2, max_features=log2, max_depth=5, criterion=gini \n",
      "[CV]  n_estimators=100, min_samples_split=2, min_samples_leaf=2, max_features=log2, max_depth=5, criterion=gini, total=   1.6s\n",
      "[CV] n_estimators=100, min_samples_split=2, min_samples_leaf=2, max_features=log2, max_depth=5, criterion=gini \n",
      "[CV]  n_estimators=100, min_samples_split=2, min_samples_leaf=2, max_features=log2, max_depth=5, criterion=gini, total=   1.6s\n",
      "[CV] n_estimators=100, min_samples_split=2, min_samples_leaf=2, max_features=log2, max_depth=5, criterion=gini \n",
      "[CV]  n_estimators=100, min_samples_split=2, min_samples_leaf=2, max_features=log2, max_depth=5, criterion=gini, total=   1.6s\n",
      "[CV] n_estimators=10, min_samples_split=4, min_samples_leaf=1, max_features=auto, max_depth=5, criterion=gini \n",
      "[CV]  n_estimators=10, min_samples_split=4, min_samples_leaf=1, max_features=auto, max_depth=5, criterion=gini, total=   0.2s\n",
      "[CV] n_estimators=10, min_samples_split=4, min_samples_leaf=1, max_features=auto, max_depth=5, criterion=gini \n",
      "[CV]  n_estimators=10, min_samples_split=4, min_samples_leaf=1, max_features=auto, max_depth=5, criterion=gini, total=   0.2s\n",
      "[CV] n_estimators=10, min_samples_split=4, min_samples_leaf=1, max_features=auto, max_depth=5, criterion=gini \n",
      "[CV]  n_estimators=10, min_samples_split=4, min_samples_leaf=1, max_features=auto, max_depth=5, criterion=gini, total=   0.2s\n",
      "[CV] n_estimators=10, min_samples_split=4, min_samples_leaf=2, max_features=sqrt, max_depth=3, criterion=gini \n",
      "[CV]  n_estimators=10, min_samples_split=4, min_samples_leaf=2, max_features=sqrt, max_depth=3, criterion=gini, total=   0.2s\n",
      "[CV] n_estimators=10, min_samples_split=4, min_samples_leaf=2, max_features=sqrt, max_depth=3, criterion=gini \n",
      "[CV]  n_estimators=10, min_samples_split=4, min_samples_leaf=2, max_features=sqrt, max_depth=3, criterion=gini, total=   0.2s\n",
      "[CV] n_estimators=10, min_samples_split=4, min_samples_leaf=2, max_features=sqrt, max_depth=3, criterion=gini \n",
      "[CV]  n_estimators=10, min_samples_split=4, min_samples_leaf=2, max_features=sqrt, max_depth=3, criterion=gini, total=   0.2s\n",
      "[CV] n_estimators=10, min_samples_split=2, min_samples_leaf=1, max_features=log2, max_depth=3, criterion=gini \n",
      "[CV]  n_estimators=10, min_samples_split=2, min_samples_leaf=1, max_features=log2, max_depth=3, criterion=gini, total=   0.1s\n",
      "[CV] n_estimators=10, min_samples_split=2, min_samples_leaf=1, max_features=log2, max_depth=3, criterion=gini \n",
      "[CV]  n_estimators=10, min_samples_split=2, min_samples_leaf=1, max_features=log2, max_depth=3, criterion=gini, total=   0.1s\n",
      "[CV] n_estimators=10, min_samples_split=2, min_samples_leaf=1, max_features=log2, max_depth=3, criterion=gini \n",
      "[CV]  n_estimators=10, min_samples_split=2, min_samples_leaf=1, max_features=log2, max_depth=3, criterion=gini, total=   0.1s\n"
     ]
    },
    {
     "name": "stderr",
     "output_type": "stream",
     "text": [
      "[Parallel(n_jobs=-1)]: Done 300 out of 300 | elapsed:  6.1min finished\n"
     ]
    },
    {
     "data": {
      "text/plain": [
       "RandomizedSearchCV(cv=3, error_score='raise',\n",
       "          estimator=RandomForestClassifier(bootstrap=True, class_weight=None, criterion='gini',\n",
       "            max_depth=None, max_features='auto', max_leaf_nodes=None,\n",
       "            min_impurity_decrease=0.0, min_impurity_split=None,\n",
       "            min_samples_leaf=1, min_samples_split=2,\n",
       "            min_weight_fraction_leaf=0.0, n_estimators=10, n_jobs=1,\n",
       "            oob_score=False, random_state=62, verbose=0, warm_start=False),\n",
       "          fit_params=None, iid=True, n_iter=100, n_jobs=-1,\n",
       "          param_distributions={'n_estimators': [10, 50, 100], 'max_features': ['auto', 'sqrt', 'log2'], 'min_samples_split': [2, 4, 8], 'min_samples_leaf': [1, 2, 4], 'max_depth': [3, 5, 8], 'criterion': ['gini']},\n",
       "          pre_dispatch='2*n_jobs', random_state=62, refit=True,\n",
       "          return_train_score='warn', scoring='roc_auc', verbose=2)"
      ]
     },
     "execution_count": 64,
     "metadata": {},
     "output_type": "execute_result"
    }
   ],
   "source": [
    "# instantiate a random forest classifier obj\n",
    "forest_clf = RandomForestClassifier(random_state=62)\n",
    "\n",
    "\n",
    "# Create the random grid\n",
    "grid_params = {'n_estimators': [10, 50, 100], #number of trees in the ensemble.\n",
    "               'max_features': ['auto', 'sqrt', 'log2'], #max number of feature consider while splitting the node\n",
    "               'min_samples_split': [2,4,8], #min number os samples stored in the lesf\n",
    "               'min_samples_leaf': [1,2,4], #min sample required to split nodes\n",
    "               'max_depth':[3,5,8] , #max number of level in each tree\n",
    "               'criterion': ['gini']} #used to asses the quality of a split\n",
    "\n",
    "# tune the classifer\n",
    "forest_random = RandomizedSearchCV(estimator = forest_clf,\n",
    "                               param_distributions = grid_params,\n",
    "                               n_iter = 100,\n",
    "                               scoring='roc_auc',\n",
    "                               cv = 3,\n",
    "                               n_jobs = -1,\n",
    "                               verbose=2,\n",
    "                               random_state=62\n",
    "                               )\n",
    "\n",
    "# fit train data to the classifier\n",
    "forest_random.fit(X_train, y_train)"
   ]
  },
  {
   "cell_type": "markdown",
   "metadata": {},
   "source": [
    "#### 5.4.2 Evaluating Random Forest Train Data Performance"
   ]
  },
  {
   "cell_type": "code",
   "execution_count": 65,
   "metadata": {},
   "outputs": [
    {
     "name": "stdout",
     "output_type": "stream",
     "text": [
      "RandomizedSearchCV model accuracy: 0.913\n",
      "RandomizedSearchCV model f1-score: 0.911\n"
     ]
    },
    {
     "data": {
      "text/plain": [
       "(0.91312567132116007, 0.91082296903942839)"
      ]
     },
     "execution_count": 65,
     "metadata": {},
     "output_type": "execute_result"
    }
   ],
   "source": [
    "# evaluate random forest classifier model's performance\n",
    "evaluating_model(forest_random, X_train, y_train)"
   ]
  },
  {
   "cell_type": "markdown",
   "metadata": {},
   "source": [
    "#### 5.4.3 Evaluating Random Forest Test Data Performance"
   ]
  },
  {
   "cell_type": "code",
   "execution_count": 66,
   "metadata": {},
   "outputs": [
    {
     "name": "stdout",
     "output_type": "stream",
     "text": [
      "RandomizedSearchCV model accuracy: 0.909\n",
      "RandomizedSearchCV model f1-score: 0.906\n"
     ]
    },
    {
     "data": {
      "text/plain": [
       "(0.90857601122750742, 0.90624036187930501)"
      ]
     },
     "execution_count": 66,
     "metadata": {},
     "output_type": "execute_result"
    }
   ],
   "source": [
    "evaluating_model(forest_random, X_test, y_test)"
   ]
  },
  {
   "cell_type": "code",
   "execution_count": 67,
   "metadata": {},
   "outputs": [
    {
     "data": {
      "text/plain": [
       "array([[9312, 1246],\n",
       "       [ 578, 8815]])"
      ]
     },
     "execution_count": 67,
     "metadata": {},
     "output_type": "execute_result"
    }
   ],
   "source": [
    "# Creating Confusion Matrix\n",
    "y_pred= forest_random.predict(X_test)\n",
    "con_matrix= confusion_matrix(y_test, y_pred)\n",
    "con_matrix"
   ]
  },
  {
   "cell_type": "markdown",
   "metadata": {},
   "source": [
    "### 5.5 Building XGBoost Model"
   ]
  },
  {
   "cell_type": "code",
   "execution_count": 68,
   "metadata": {},
   "outputs": [
    {
     "name": "stdout",
     "output_type": "stream",
     "text": [
      "Fitting 3 folds for each of 1 candidates, totalling 3 fits\n",
      "[CV] learning_rate=0.05, max_depth=4, min_child_weight=1, n_estimators=7, nthread=1, objective=binary:logistic, seed=27, silent=1, subsample=0.9 \n",
      "[CV] learning_rate=0.05, max_depth=4, min_child_weight=1, n_estimators=7, nthread=1, objective=binary:logistic, seed=27, silent=1, subsample=0.9 \n",
      "[CV] learning_rate=0.05, max_depth=4, min_child_weight=1, n_estimators=7, nthread=1, objective=binary:logistic, seed=27, silent=1, subsample=0.9 \n",
      "[CV]  learning_rate=0.05, max_depth=4, min_child_weight=1, n_estimators=7, nthread=1, objective=binary:logistic, seed=27, silent=1, subsample=0.9, total=   1.4s\n",
      "[CV]  learning_rate=0.05, max_depth=4, min_child_weight=1, n_estimators=7, nthread=1, objective=binary:logistic, seed=27, silent=1, subsample=0.9, total=   1.4s\n",
      "[CV]  learning_rate=0.05, max_depth=4, min_child_weight=1, n_estimators=7, nthread=1, objective=binary:logistic, seed=27, silent=1, subsample=0.9, total=   1.4s\n"
     ]
    },
    {
     "name": "stderr",
     "output_type": "stream",
     "text": [
      "[Parallel(n_jobs=3)]: Done   3 out of   3 | elapsed:    1.8s finished\n"
     ]
    },
    {
     "data": {
      "text/plain": [
       "GridSearchCV(cv=3, error_score='raise',\n",
       "       estimator=XGBClassifier(base_score=None, booster=None, colsample_bylevel=None,\n",
       "       colsample_bynode=None, colsample_bytree=None, gamma=None,\n",
       "       gpu_id=None, importance_type='gain', interaction_constraints=None,\n",
       "       learning_rate=None, max_delta_step=None, max_depth=None,\n",
       "       min_child_w...pos_weight=None, subsample=None,\n",
       "       tree_method=None, validate_parameters=False, verbosity=None),\n",
       "       fit_params=None, iid=True, n_jobs=3,\n",
       "       param_grid={'nthread': [1], 'objective': ['binary:logistic'], 'learning_rate': [0.05], 'max_depth': [4], 'min_child_weight': [1], 'silent': [1], 'subsample': [0.9], 'n_estimators': [7], 'seed': [27]},\n",
       "       pre_dispatch='2*n_jobs', refit=True, return_train_score='warn',\n",
       "       scoring=make_scorer(fbeta_score, beta=0.5), verbose=2)"
      ]
     },
     "execution_count": 68,
     "metadata": {},
     "output_type": "execute_result"
    }
   ],
   "source": [
    "## instantiate a XGBoost classifier obj\n",
    "\n",
    "XGB_clf= XGBClassifier(random_state=62)\n",
    "\n",
    "\n",
    "# Create the random grid\n",
    "grid_params = {'nthread':[1], #chosen the lower number so that it can compute fast\n",
    "              'objective':['binary:logistic'], #its a loss fuction. We used logistic for binary fraction\n",
    "              'learning_rate': [0.05], # learning rate is nothing but eta value\n",
    "              'max_depth': [4], # maximum number of depths\n",
    "              'min_child_weight': [1], \n",
    "              'silent': [1], #no running message will be printed\n",
    "              'subsample': [0.9], #Number of fration to be randomly sampled\n",
    "              'n_estimators': [7], #number of trees in the ensemble.\n",
    "              'seed': [27]} #Seed is use for generating reproducible result\n",
    "\n",
    "#tune th classifier\n",
    "XGB_random= GridSearchCV(XGB_clf, grid_params, n_jobs=3, \n",
    "                   cv=3, \n",
    "                   scoring=scorer,\n",
    "                   verbose=2, refit=True)\n",
    "\n",
    "#fit the classifier to training data set\n",
    "XGB_random.fit(X_train, y_train)"
   ]
  },
  {
   "cell_type": "markdown",
   "metadata": {},
   "source": [
    "#### 5.5.1 Evaluating XGBoost Train data Performance"
   ]
  },
  {
   "cell_type": "code",
   "execution_count": 69,
   "metadata": {},
   "outputs": [
    {
     "name": "stdout",
     "output_type": "stream",
     "text": [
      "XGBClassifier model accuracy: 0.912\n",
      "XGBClassifier model f1-score: 0.910\n"
     ]
    },
    {
     "data": {
      "text/plain": [
       "(0.91164339419978513, 0.91003346676291097)"
      ]
     },
     "execution_count": 69,
     "metadata": {},
     "output_type": "execute_result"
    }
   ],
   "source": [
    "evaluating_model(XGB_random.best_estimator_, X_train, y_train)"
   ]
  },
  {
   "cell_type": "markdown",
   "metadata": {},
   "source": [
    "#### 5.5.1 Evaluating XGBoost Test data Performance"
   ]
  },
  {
   "cell_type": "code",
   "execution_count": 70,
   "metadata": {},
   "outputs": [
    {
     "name": "stdout",
     "output_type": "stream",
     "text": [
      "GridSearchCV model accuracy: 0.909\n",
      "GridSearchCV model f1-score: 0.907\n"
     ]
    },
    {
     "data": {
      "text/plain": [
       "(0.90902711643526646, 0.90732703599693643)"
      ]
     },
     "execution_count": 70,
     "metadata": {},
     "output_type": "execute_result"
    }
   ],
   "source": [
    "evaluating_model(XGB_random, X_test, y_test)"
   ]
  },
  {
   "cell_type": "markdown",
   "metadata": {},
   "source": [
    "Random Forest took almost 30 minutes to run the model however XGBoost model predict the result within no time with almost same accuracy and f1_score"
   ]
  },
  {
   "cell_type": "markdown",
   "metadata": {},
   "source": [
    "**Observations of the Model**\n",
    "\n",
    "Model ranking based on training data accuracy\n",
    "\n",
    "1. RandomForestClassifier model accuracy: **0.913**\n",
    "2. XGBoost Classifier model accuracy: **0.912**\n",
    "3. LogisticRegression model accuracy: **0.877**\n",
    "4. Naive predictor accuracy: **0.472**\n",
    "     \n",
    "Model ranking based on training data F1-score\n",
    "1. RandomForestClassifier model accuracy: **0.911**\n",
    "2. XGBoost Classifier model accuracy: **0.910**\n",
    "3. LogisticRegression model accuracy: **0.865**\n",
    "4. Naive predictor accuracy: **0.641**\n",
    "\n",
    "Results suggest that the XGBoost model has the best training data accuracy and F1-score"
   ]
  },
  {
   "cell_type": "markdown",
   "metadata": {},
   "source": [
    "## Conclusion\n",
    "\n",
    "We have chosen two questions to answer in this project:\n",
    "\n",
    "1. What are the main drivers of offer effectiveness?\n",
    "2. Explore if we can predict whether a user would take up an offer?\n",
    "\n",
    "We have performed many steps to answer the above questions but most crucial steps was to analysing the data, combining the \n",
    "dataframes( portfolio, offer_df, transaction_df and profile), building the model and assessing our model with the help of metrics that is accuracy and f1 score. \n",
    "\n",
    "To answer the first question we have used Heat map which provided us the effective drivers which are played a vital role in our model prediction. Those effective drivers are given below.\n",
    "\n",
    "1. Offer difficulty \n",
    "2. Offer duration   \n",
    "3. Offer reward  \n",
    "4. Type of offer\n",
    "\n",
    "To answer the 2nd question we have used machine learning models like Naive Predictor, Logestic Regression, RandomForest Classifier and XGBoost classifier.  From the analysis we come to know that random forrest clasifier has the slightly better acuuracy but f1 score is same for both models. However, Random Forest took 30 minutes to compute the results so as a alternative I have use XGBoost model to predict the result with almost same accuracy and f1score. We have pridicted the result of test set with the accuracy  and f1 score of 91% which suggest that our model is not over fitted.\n",
    "\n",
    "However there is always a room for improvement since the most of the effective drivers are related to offers hence those who wants to improve the model can use different features like succes  rate vs difficulty ratio or difficulty vs duration of offers to improve Randomforest model."
   ]
  }
 ],
 "metadata": {
  "kernelspec": {
   "display_name": "Python 3",
   "language": "python",
   "name": "python3"
  },
  "language_info": {
   "codemirror_mode": {
    "name": "ipython",
    "version": 3
   },
   "file_extension": ".py",
   "mimetype": "text/x-python",
   "name": "python",
   "nbconvert_exporter": "python",
   "pygments_lexer": "ipython3",
   "version": "3.6.3"
  }
 },
 "nbformat": 4,
 "nbformat_minor": 2
}
